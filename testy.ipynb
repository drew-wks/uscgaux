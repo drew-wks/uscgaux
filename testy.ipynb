{
 "cells": [
  {
   "cell_type": "code",
   "execution_count": null,
   "id": "9225f9c8",
   "metadata": {},
   "outputs": [
    {
     "name": "stderr",
     "output_type": "stream",
     "text": [
      "2025-06-04 20:00:41,257 - INFO - Loaded local .env file from /Users/drew_wilkins/Drews_Files/Drew/Python/Localcode/.env\n",
      "2025-06-04 20:00:41,258 - INFO - Running in context: CLI\n",
      "2025-06-04 20:00:41,258 - INFO - Force authentication: False\n"
     ]
    }
   ],
   "source": [
    "import os\n",
    "from env_config import set_env_vars\n",
    "\n",
    "# --- Load environment variables and secrets ---\n",
    "set_env_vars()"
   ]
  },
  {
   "cell_type": "code",
   "execution_count": null,
   "id": "96edf1f3",
   "metadata": {},
   "outputs": [
    {
     "name": "stderr",
     "output_type": "stream",
     "text": [
      "2025-06-04 20:01:04,709 - INFO - Loaded local .env file from /Users/drew_wilkins/Drews_Files/Drew/Python/Localcode/.env\n",
      "2025-06-04 20:01:04,709 - INFO - Running in context: CLI\n",
      "2025-06-04 20:01:04,710 - INFO - Force authentication: False\n",
      "2025-06-04 20:01:04,763 - INFO - file_cache is only supported with oauth2client<4.0.0\n"
     ]
    }
   ],
   "source": [
    "from gcp_utils import get_gcp_credentials, get_sheets_client, get_drive_client\n",
    "\n",
    "creds = get_gcp_credentials()\n",
    "sheets_client = get_sheets_client(creds)\n",
    "drive_client = get_drive_client(creds)"
   ]
  },
  {
   "cell_type": "markdown",
   "id": "12816496",
   "metadata": {},
   "source": [
    "### Run your functions to test in the cells below"
   ]
  },
  {
   "cell_type": "code",
   "execution_count": null,
   "id": "9bbe0b59",
   "metadata": {},
   "outputs": [
    {
     "name": "stderr",
     "output_type": "stream",
     "text": [
      "2025-06-04 20:07:12,339 - INFO - Found 0 rows matching keywords: ['deletion']\n",
      "2025-06-04 20:07:12,340 - INFO - No rows marked for deletion.\n"
     ]
    },
    {
     "name": "stdout",
     "output_type": "stream",
     "text": [
      "\n",
      "Deleted rows: \n",
      "None\n"
     ]
    }
   ],
   "source": [
    "from delete_tagged import delete_tagged\n",
    "\n",
    "\n",
    "deleted_rows_df = delete_tagged(drive_client, sheets_client)\n",
    "\n",
    "print(f\"\\nDeleted rows: \\n{deleted_rows_df}\")"
   ]
  },
  {
   "cell_type": "code",
   "execution_count": 8,
   "id": "82f04b60",
   "metadata": {},
   "outputs": [
    {
     "name": "stdout",
     "output_type": "stream",
     "text": [
      "\n",
      "invalid rows:\n",
      "                                                issues  \\\n",
      "166     missing_required_fields: ['google_id', 'link']   \n",
      "174          non_string_fields: ['publication_number']   \n",
      "185          non_string_fields: ['publication_number']   \n",
      "219                        non_string_fields: ['unit']   \n",
      "220                        non_string_fields: ['unit']   \n",
      "222  missing_required_fields: ['title', 'scope', 'i...   \n",
      "223  missing_required_fields: ['title', 'scope', 'i...   \n",
      "\n",
      "                                                 title  \\\n",
      "166  COAST GUARD EXTERNAL AFFAIRS MANUAL, COMDTINST...   \n",
      "174  COAST GUARD AUXILIARY AIDS TO NAVIGATION PROGR...   \n",
      "185  RECREATIONAL BOATING SAFETY VISITATION PROGRAM...   \n",
      "219  Proctor Request and Designation Process Standa...   \n",
      "220            D7 Auxiliary ID Card Request Procedures   \n",
      "222                                                      \n",
      "223                                                      \n",
      "\n",
      "                                   pdf_id   publication_number organization  \\\n",
      "166  d354afd1-95ea-5489-9df7-3abdd322d73c  COMDTINST M5700.13A       CG-092   \n",
      "174  3b845a10-cb3a-5014-96d8-360c8f1bf63f             16500.16       CG-BSX   \n",
      "185  23746b1e-b829-55fc-8777-8c85ec3a9f41              16796.3       CG-BSX   \n",
      "219  a9794b42-9ad4-5992-8dbe-29576740d623        D7-SOP-AD-002          DCO   \n",
      "220  47781899-a0a9-503d-8063-f929eb6518b5         NRB_JAN 2025          DCO   \n",
      "222  65f61981-f747-55d5-b640-fe8c63c38646                                     \n",
      "223  6b32e367-c17c-52bb-b913-e6452d5fe307                                     \n",
      "\n",
      "        scope unit            issue_date upsert_date       expiration_date  \\\n",
      "166  National       2021-05-12T00:00:00Z              2031-05-13T00:00:00Z   \n",
      "174  National       2024-03-24T00:00:00Z              2034-03-24T00:00:00Z   \n",
      "185  National       2024-03-18T00:00:00Z              2034-03-18T00:00:00Z   \n",
      "219  National    7  2025-04-18T00:00:00Z              2099-12-31T00:00:00Z   \n",
      "220  National    7  2025-01-01T00:00:00Z              2099-12-31T00:00:00Z   \n",
      "222                                                                          \n",
      "223                                                                          \n",
      "\n",
      "    aux_specific public_release  \\\n",
      "166        FALSE           TRUE   \n",
      "174         TRUE           TRUE   \n",
      "185         TRUE           TRUE   \n",
      "219         TRUE           TRUE   \n",
      "220         TRUE           TRUE   \n",
      "222                               \n",
      "223                               \n",
      "\n",
      "                                         pdf_file_name  \\\n",
      "166      CG Public Affairs CIM_5700_13A_2021-05-01.pdf   \n",
      "174  Coast_Guard_Auxiliary_Aids_to_Navigation_Progr...   \n",
      "185               RBSVP_Handbook_16796_3_18MAR2024.pdf   \n",
      "219              D7-SOP-AD-002_Proctor_Designation.pdf   \n",
      "220              D7-AUX-ID-Card-Request-Procedures.pdf   \n",
      "222                           Online Return Center.pdf   \n",
      "223  Waxtree Ligstrum Privet floral accord solution...   \n",
      "\n",
      "                  embedding                          google_id  \\\n",
      "166  text-embedding-ada-002                                      \n",
      "174  text-embedding-ada-002  1OoRmfg8MuvQzAsoJ-VxjfxYLAOYV4a44   \n",
      "185  text-embedding-ada-002  16NxIrjEHWOtFzP0AZIaK1prs7POeM4SF   \n",
      "219  text-embedding-ada-002  1tHUnkVmvwIvk5YgVZ_wb13TKmima62Po   \n",
      "220  text-embedding-ada-002  1kGZGJrazh-YZ5T2_7syrA4uhU4dSSTjB   \n",
      "222                          1lI2qlMleQAIPaCpWRoWW-ddsYfVG0BqH   \n",
      "223                          1acYv9NONs4yx8eND59t3y5vnS_jEVM7G   \n",
      "\n",
      "                                                  link      status  \\\n",
      "166                                                     orphan_row   \n",
      "174  https://drive.google.com/file/d/1OoRmfg8MuvQzA...               \n",
      "185  https://drive.google.com/file/d/16NxIrjEHWOtFz...               \n",
      "219  https://drive.google.com/file/d/1tHUnkVmvwIvk5...               \n",
      "220  https://drive.google.com/file/d/1kGZGJrazh-YZ5...               \n",
      "222  https://drive.google.com/file/d/1lI2qlMleQAIPa...               \n",
      "223  https://drive.google.com/file/d/1acYv9NONs4yx8...               \n",
      "\n",
      "         status_timestamp  \n",
      "166                        \n",
      "174                        \n",
      "185                        \n",
      "219                        \n",
      "220                        \n",
      "222  2025-05-22T12:52:35Z  \n",
      "223  2025-05-23T18:39:11Z  \n"
     ]
    }
   ],
   "source": [
    "from library_utils import validate_rows\n",
    "\n",
    "\n",
    "valid_df, invalid_df, log_df = validate_rows(sheets_client)\n",
    "print(f\"\\nInvalid rows:\\n{invalid_df}\")"
   ]
  },
  {
   "cell_type": "code",
   "execution_count": 9,
   "id": "d1d1660a",
   "metadata": {},
   "outputs": [
    {
     "name": "stderr",
     "output_type": "stream",
     "text": [
      "2025-06-04 20:07:55,728 - INFO - Catalogging PDF_TAGGING for orphan review\n",
      "2025-06-04 20:07:56,283 - INFO - Catalogging PDF_LIVE for orphan review\n",
      "2025-06-04 20:07:58,256 - INFO - ✅ Found 1 orphan rows in LIBRARY_UNIFIED.\n",
      "2025-06-04 20:07:58,661 - INFO - ✅ Found 18 orphan files in Google Drive folders.\n"
     ]
    },
    {
     "name": "stdout",
     "output_type": "stream",
     "text": [
      "\n",
      "Orphan rows:\n",
      "                                                 title  \\\n",
      "166  COAST GUARD EXTERNAL AFFAIRS MANUAL, COMDTINST...   \n",
      "\n",
      "                                   pdf_id   publication_number organization  \\\n",
      "166  d354afd1-95ea-5489-9df7-3abdd322d73c  COMDTINST M5700.13A       CG-092   \n",
      "\n",
      "        scope unit            issue_date upsert_date       expiration_date  \\\n",
      "166  National       2021-05-12T00:00:00Z              2031-05-13T00:00:00Z   \n",
      "\n",
      "    aux_specific public_release  \\\n",
      "166        FALSE           TRUE   \n",
      "\n",
      "                                     pdf_file_name               embedding  \\\n",
      "166  CG Public Affairs CIM_5700_13A_2021-05-01.pdf  text-embedding-ada-002   \n",
      "\n",
      "    google_id link      status status_timestamp  \n",
      "166                 orphan_row                   \n",
      "\n",
      "Orphan files:\n",
      "                                    ID  \\\n",
      "16   1R6DtX_1jTKf3WEDARSmW2Ad7WbbxuClG   \n",
      "40   1C_VU-mFfnEovVaSFeqz0EhDvcPMvqjwa   \n",
      "41   1xO12dBYJBxVP7XBqBIRpYYN4dHynmRhh   \n",
      "43   19Ql6ALvx6LEGlYTdOgWTEzosc5LnWCXq   \n",
      "59   15CV77p3T5BQPOhHz1vdIEbA82KIEYEDM   \n",
      "68   1mgQqZ8Ki2ANxmjNnZwAIzIuNR9Fz8sqk   \n",
      "73   1_wtJKhWacgTDjZDZQ6Ps0QaHLYQR_gnT   \n",
      "89   1vpQ669Me6zKWHRKWmkfx-fdhgbzg86BZ   \n",
      "105  1YsXGAsb4-Yqs5b7a3pBHbkIUPYrpJ8nY   \n",
      "113  1N2t2J8vHuxGmq6UEaU8u7wnd8uQmOVxO   \n",
      "122  1vrKKvyPIE0SZFZoTltnjRIu89c-fXnDX   \n",
      "125  1JMJle3qgrEHoCZwPOX9U00hEJA_vLz1T   \n",
      "136  1Twnv1OxOO0SxR4S-lCYZajGHAZLoqkkU   \n",
      "138  1m8aKoPaThcwAK4dfFaJGkaI6JxA1ngxK   \n",
      "168  17Bevh6ZUi2L0vz0xSfL947_KRpQY3kpz   \n",
      "169  1X_EltW4CzIG5ZxxZAf866GOKU_EySqKe   \n",
      "185  1CTodsNNKKvVzVvzIDkgpA-feqwe65A9W   \n",
      "221  1fl5nHKq3F7UJ-lPvIpybYkzyCvNs-EuW   \n",
      "\n",
      "                                                  Name  \\\n",
      "16        2024-2026_Strategic_Plan_-_November_2024.pdf   \n",
      "40   10_15_AUXILIARY_MANDATED_TRAINING__AUXMT____NE...   \n",
      "41            ALAUX_002_24_2024_NATIONAL_WORKSHOPS.pdf   \n",
      "43      06_19_AUXILIARY_HUMANITARIAN_SERVICE_AWARD.pdf   \n",
      "59                       VE_workshop_Dec_4_22_2023.pdf   \n",
      "68   19_15_AUXILIARY_MANDATED_TRAINING__AUXMT____FA...   \n",
      "73             TelecommsWorkshop Final 2024 v1.7 2.pdf   \n",
      "89   007_13_ALCOAST_253_13___AUXILIARY_FOOD_SERVICE...   \n",
      "105        Air Operations Workshop - Final 2024 v1.pdf   \n",
      "113              022_22_AUXILIARY_POLICY_STATEMENT.pdf   \n",
      "122           AUXCA SANITATION WORKSHOP MARCH 2022.pdf   \n",
      "125  12_14_SIXTH_ANNUAL_OPERATION_DRY_WATER___26JUN...   \n",
      "136             Program_Visitation_Workshop-B_2019.pdf   \n",
      "138                Surface Workshop Final 2024  v1.pdf   \n",
      "168  AUXFS Training and Qualification Guide_H-Dir_2...   \n",
      "169  12_15_TEMPORARY_SUSPENSION_OF_UDC_Istore___12J...   \n",
      "185     IT Instructor WORKSHOP 2023 Jan 2023 Final.pdf   \n",
      "221     CG Public Affairs  CIM_5700_13A_2021-05-01.pdf   \n",
      "\n",
      "                                                   URL source_folder  \\\n",
      "16   https://drive.google.com/file/d/1R6DtX_1jTKf3W...      PDF_LIVE   \n",
      "40   https://drive.google.com/file/d/1C_VU-mFfnEovV...      PDF_LIVE   \n",
      "41   https://drive.google.com/file/d/1xO12dBYJBxVP7...      PDF_LIVE   \n",
      "43   https://drive.google.com/file/d/19Ql6ALvx6LEGl...      PDF_LIVE   \n",
      "59   https://drive.google.com/file/d/15CV77p3T5BQPO...      PDF_LIVE   \n",
      "68   https://drive.google.com/file/d/1mgQqZ8Ki2ANxm...      PDF_LIVE   \n",
      "73   https://drive.google.com/file/d/1_wtJKhWacgTDj...      PDF_LIVE   \n",
      "89   https://drive.google.com/file/d/1vpQ669Me6zKWH...      PDF_LIVE   \n",
      "105  https://drive.google.com/file/d/1YsXGAsb4-Yqs5...      PDF_LIVE   \n",
      "113  https://drive.google.com/file/d/1N2t2J8vHuxGmq...      PDF_LIVE   \n",
      "122  https://drive.google.com/file/d/1vrKKvyPIE0SZF...      PDF_LIVE   \n",
      "125  https://drive.google.com/file/d/1JMJle3qgrEHoC...      PDF_LIVE   \n",
      "136  https://drive.google.com/file/d/1Twnv1OxOO0SxR...      PDF_LIVE   \n",
      "138  https://drive.google.com/file/d/1m8aKoPaThcwAK...      PDF_LIVE   \n",
      "168  https://drive.google.com/file/d/17Bevh6ZUi2L0v...      PDF_LIVE   \n",
      "169  https://drive.google.com/file/d/1X_EltW4CzIG5Z...      PDF_LIVE   \n",
      "185  https://drive.google.com/file/d/1CTodsNNKKvVzV...      PDF_LIVE   \n",
      "221  https://drive.google.com/file/d/1fl5nHKq3F7UJ-...      PDF_LIVE   \n",
      "\n",
      "                                                pdf_id  \n",
      "16            2024-2026_Strategic_Plan_-_November_2024  \n",
      "40   10_15_AUXILIARY_MANDATED_TRAINING__AUXMT____NE...  \n",
      "41                ALAUX_002_24_2024_NATIONAL_WORKSHOPS  \n",
      "43          06_19_AUXILIARY_HUMANITARIAN_SERVICE_AWARD  \n",
      "59                           VE_workshop_Dec_4_22_2023  \n",
      "68   19_15_AUXILIARY_MANDATED_TRAINING__AUXMT____FA...  \n",
      "73                 TelecommsWorkshop Final 2024 v1.7 2  \n",
      "89   007_13_ALCOAST_253_13___AUXILIARY_FOOD_SERVICE...  \n",
      "105            Air Operations Workshop - Final 2024 v1  \n",
      "113                  022_22_AUXILIARY_POLICY_STATEMENT  \n",
      "122               AUXCA SANITATION WORKSHOP MARCH 2022  \n",
      "125  12_14_SIXTH_ANNUAL_OPERATION_DRY_WATER___26JUN...  \n",
      "136                 Program_Visitation_Workshop-B_2019  \n",
      "138                    Surface Workshop Final 2024  v1  \n",
      "168  AUXFS Training and Qualification Guide_H-Dir_2014  \n",
      "169  12_15_TEMPORARY_SUSPENSION_OF_UDC_Istore___12J...  \n",
      "185         IT Instructor WORKSHOP 2023 Jan 2023 Final  \n",
      "221         CG Public Affairs  CIM_5700_13A_2021-05-01  \n"
     ]
    }
   ],
   "source": [
    "from find_orphans import find_orphans\n",
    "\n",
    "orphan_rows_df, orphan_files_df, log_output = find_orphans(\n",
    "    drive_client, sheets_client)\n",
    "\n",
    "print(f\"\\nOrphan rows:\\n{orphan_rows_df}\")\n",
    "print(f\"\\nOrphan files:\\n{orphan_files_df}\")"
   ]
  },
  {
   "cell_type": "code",
   "execution_count": null,
   "id": "8522d261",
   "metadata": {},
   "outputs": [],
   "source": []
  }
 ],
 "metadata": {
  "kernelspec": {
   "display_name": ".venv-main",
   "language": "python",
   "name": "python3"
  },
  "language_info": {
   "codemirror_mode": {
    "name": "ipython",
    "version": 3
   },
   "file_extension": ".py",
   "mimetype": "text/x-python",
   "name": "python",
   "nbconvert_exporter": "python",
   "pygments_lexer": "ipython3",
   "version": "3.11.9"
  }
 },
 "nbformat": 4,
 "nbformat_minor": 5
}
