{
 "cells": [
  {
   "cell_type": "markdown",
   "id": "a317e1f4",
   "metadata": {},
   "source": [
    "### 1. Set environmental variables"
   ]
  },
  {
   "cell_type": "code",
   "execution_count": 1,
   "id": "9225f9c8",
   "metadata": {},
   "outputs": [
    {
     "name": "stderr",
     "output_type": "stream",
     "text": [
      "2025-06-11 11:06:50,333 - INFO - Found a local .env file at /Users/drew_wilkins/Drews_Files/Drew/Python/Localcode/.env\n",
      "2025-06-11 11:06:50,334 - INFO - Running in context: CLI\n",
      "2025-06-11 11:06:50,334 - INFO - Force user authentication: False\n",
      "2025-06-11 11:06:50,335 - INFO - Set balance of env values from.env file at /Users/drew_wilkins/Drews_Files/Drew/Python/Localcode/.env\n"
     ]
    }
   ],
   "source": [
    "from env_config import env_config\n",
    "\n",
    "config = env_config()"
   ]
  },
  {
   "cell_type": "markdown",
   "id": "15c6d3f7",
   "metadata": {},
   "source": [
    "OPTIONAL: Review environmental variables\n",
    "WARNING: DO NOT COMMIT WITH THIS CELL OUTPUT SHOWING"
   ]
  },
  {
   "cell_type": "code",
   "execution_count": null,
   "id": "f6e142b6",
   "metadata": {},
   "outputs": [],
   "source": [
    "from pprint import pprint\n",
    "\n",
    "pprint(config)"
   ]
  },
  {
   "cell_type": "markdown",
   "id": "3e374f49",
   "metadata": {},
   "source": [
    "### 2. Init clients"
   ]
  },
  {
   "cell_type": "code",
   "execution_count": 2,
   "id": "96edf1f3",
   "metadata": {},
   "outputs": [
    {
     "name": "stderr",
     "output_type": "stream",
     "text": [
      "2025-06-11 11:06:53,415 - INFO - Found a local .env file at /Users/drew_wilkins/Drews_Files/Drew/Python/Localcode/.env\n",
      "2025-06-11 11:06:53,416 - INFO - Running in context: CLI\n",
      "2025-06-11 11:06:53,416 - INFO - Force user authentication: False\n",
      "2025-06-11 11:06:53,417 - INFO - Set balance of env values from.env file at /Users/drew_wilkins/Drews_Files/Drew/Python/Localcode/.env\n",
      "2025-06-11 11:06:53,714 - INFO - Found a local .env file at /Users/drew_wilkins/Drews_Files/Drew/Python/Localcode/.env\n",
      "2025-06-11 11:06:53,714 - INFO - Running in context: CLI\n",
      "2025-06-11 11:06:53,714 - INFO - Force user authentication: False\n",
      "2025-06-11 11:06:53,716 - INFO - Set balance of env values from.env file at /Users/drew_wilkins/Drews_Files/Drew/Python/Localcode/.env\n",
      "2025-06-11 11:06:53,759 - INFO - file_cache is only supported with oauth2client<4.0.0\n",
      "2025-06-11 11:06:53,761 - INFO - Initializing Qdrant client in 'cloud' mode...\n",
      "2025-06-11 11:06:53,895 - INFO - HTTP Request: GET https://0c82e035-1105-40f2-a0bd-ecc44a016f15.us-east4-0.gcp.cloud.qdrant.io:6333 \"HTTP/1.1 200 OK\"\n",
      "2025-06-11 11:06:53,965 - INFO - HTTP Request: GET https://0c82e035-1105-40f2-a0bd-ecc44a016f15.us-east4-0.gcp.cloud.qdrant.io:6333/collections \"HTTP/1.1 200 OK\"\n",
      "2025-06-11 11:06:53,967 - INFO - Available Qdrant collections: ['ASK_vectorstore', 'ask_pdf_docs', 'ASK_vectorstore-backup21APR2025', 'ask_pdf_pages']\n",
      "2025-06-11 11:06:53,967 - INFO - ✅ Confirmed Qdrant collection 'ASK_vectorstore' exists\n"
     ]
    }
   ],
   "source": [
    "from gcp_utils import get_gcp_credentials, init_sheets_client, init_drive_client\n",
    "from qdrant_utils import init_qdrant_client\n",
    "\n",
    "\n",
    "creds = get_gcp_credentials()\n",
    "sheets_client = init_sheets_client(creds)\n",
    "drive_client = init_drive_client(creds)\n",
    "qdrant_client = init_qdrant_client(\"cloud\")"
   ]
  },
  {
   "cell_type": "markdown",
   "id": "12816496",
   "metadata": {},
   "source": [
    "### 3. Test main orcehstration functions"
   ]
  },
  {
   "cell_type": "markdown",
   "id": "24907ec8",
   "metadata": {},
   "source": [
    "Validate rows in LIBRARY_UNIFIED"
   ]
  },
  {
   "cell_type": "code",
   "execution_count": null,
   "id": "82f04b60",
   "metadata": {},
   "outputs": [],
   "source": [
    "from gcp_utils import fetch_sheet_as_df\n",
    "from library_utils import validate_all_rows_format\n",
    "from IPython.display import display, HTML\n",
    "\n",
    "\n",
    "library_df = fetch_sheet_as_df(sheets_client, config[\"LIBRARY_UNIFIED\"])\n",
    "valid_df, invalid_df, log_df = validate_all_rows_format(library_df)\n",
    "\n",
    "if not log_df.empty:\n",
    "    print(f\"\\nValidation error detail:\")\n",
    "    display(HTML(log_df.to_html(notebook=True,\n",
    "            max_cols=30, max_rows=10, escape=False)))\n",
    "\n",
    "if not invalid_df.empty:\n",
    "    print(f\"\\nInvalid rows detail:\")\n",
    "    display(HTML(invalid_df.to_html(notebook=True,\n",
    "            max_cols=30, max_rows=10, escape=False)))"
   ]
  },
  {
   "cell_type": "markdown",
   "id": "86601d80",
   "metadata": {},
   "source": [
    "Promote tagged"
   ]
  },
  {
   "cell_type": "code",
   "execution_count": null,
   "id": "fe20d794",
   "metadata": {},
   "outputs": [],
   "source": [
    "from promote_files import promote_files\n",
    "\n",
    "promote_files(drive_client, sheets_client, qdrant_client)"
   ]
  },
  {
   "cell_type": "markdown",
   "id": "7abf0374",
   "metadata": {},
   "source": [
    "Delete tagged\n"
   ]
  },
  {
   "cell_type": "code",
   "execution_count": 3,
   "id": "9bbe0b59",
   "metadata": {},
   "outputs": [
    {
     "name": "stderr",
     "output_type": "stream",
     "text": [
      "2025-06-11 11:06:58,203 - INFO - Found a local .env file at /Users/drew_wilkins/Drews_Files/Drew/Python/Localcode/.env\n",
      "2025-06-11 11:06:58,204 - INFO - Running in context: CLI\n",
      "2025-06-11 11:06:58,204 - INFO - Force user authentication: False\n",
      "2025-06-11 11:06:58,205 - INFO - Set balance of env values from.env file at /Users/drew_wilkins/Drews_Files/Drew/Python/Localcode/.env\n",
      "2025-06-11 11:06:58,206 - INFO - Found a local .env file at /Users/drew_wilkins/Drews_Files/Drew/Python/Localcode/.env\n",
      "2025-06-11 11:06:58,206 - INFO - Running in context: CLI\n",
      "2025-06-11 11:06:58,207 - INFO - Force user authentication: False\n",
      "2025-06-11 11:06:58,208 - INFO - Set balance of env values from.env file at /Users/drew_wilkins/Drews_Files/Drew/Python/Localcode/.env\n",
      "2025-06-11 11:06:58,929 - ERROR - [fetch_sheet_as_df] Failed to convert worksheet to DataFrame: 'NoneType' object has no attribute 'fillna'\n",
      "2025-06-11 11:06:58,930 - WARNING - 'status' column not found in catalog.\n",
      "2025-06-11 11:06:58,930 - INFO - No rows marked for deletion. No further action taken.\n"
     ]
    }
   ],
   "source": [
    "from delete_tagged import delete_tagged\n",
    "\n",
    "\n",
    "deleted_rows_df = delete_tagged(drive_client, sheets_client, qdrant_client)"
   ]
  },
  {
   "cell_type": "markdown",
   "id": "7f767ddd",
   "metadata": {},
   "source": [
    "cleanup orphans"
   ]
  },
  {
   "cell_type": "code",
   "execution_count": null,
   "id": "d1d1660a",
   "metadata": {},
   "outputs": [],
   "source": [
    "from cleanup_orphans import find_orphans\n",
    "from IPython.display import display, HTML\n",
    "\n",
    "\n",
    "orphan_rows, orphan_files, orphan_qdrant_records, log_df = find_orphans(\n",
    "    drive_client, sheets_client, qdrant_client)\n",
    "\n",
    "print(f\"\\nOrphan rows:\")\n",
    "if not orphan_rows.empty:\n",
    "    display(HTML(orphan_rows.to_html(notebook=True,\n",
    "            max_cols=30, max_rows=10, escape=False)))\n",
    "\n",
    "print(f\"\\nOrphan files:\")\n",
    "if not orphan_files.empty:\n",
    "    display(HTML(orphan_files.to_html(notebook=True,\n",
    "            max_cols=30, max_rows=10, escape=False)))\n",
    "\n",
    "print(f\"\\nOrphan qdrant records:\")\n",
    "if not orphan_qdrant_records.empty:\n",
    "    display(HTML(orphan_qdrant_records.to_html(notebook=True,\n",
    "            max_cols=30, max_rows=10, escape=False)))"
   ]
  },
  {
   "cell_type": "markdown",
   "id": "5303e1ba",
   "metadata": {},
   "source": [
    "### 4. Test helper functions"
   ]
  },
  {
   "cell_type": "code",
   "execution_count": null,
   "id": "da4b2cf8",
   "metadata": {},
   "outputs": [],
   "source": [
    "pdf_ids = [\n",
    "    \"f43bdf6d-07ac-5ce0-b206-db7eabb990ca\",\n",
    "    \"5098752e-4166-55f2-9f46-227901cdfc9c\",\n",
    "    \"1ff90293-9f4e-568a-a3ac-1a2e9a01838d\",\n",
    "    \"b4b536dc-7acc-5ac4-a200-e92bfc3447a3\",\n",
    "    \"712095dd-af64-5522-8d96-ce745c700fc2\",\n",
    "    \"8c9e8a61-0c9c-5650-9020-ce6a07624716\",\n",
    "    \"a23943b3-c50d-5a0e-8094-4782d5022e25\",\n",
    "    \"08b3baae-3aa2-5ccd-8c80-8ab255a45156\",\n",
    "    \"f7b993d6-1ce8-541b-81d6-0db6076062ca\",\n",
    "    \"959f3f11-e812-5b59-b2f1-07f76a9025ef\",\n",
    "    \"d10522f0-1909-55e2-b03c-6eef68f39bef\",\n",
    "    \"41363a2d-0a9c-5e19-9b57-f85cb0e8f3fe\",\n",
    "    \"12abc1d1-bec1-58b2-8763-7158f77e8698\",\n",
    "    \"2d4143fd-7432-577e-8f5f-ac482185d292\",\n",
    "    \"d354afd1-95ea-5489-9df7-3abdd322d73c\",\n",
    "    \"09544186-4593-5579-b2af-09fb953b7e86\",\n",
    "    \"4b7c9994-8f65-5a1d-8e8a-7d73f4b38de8\",\n",
    "    \"21126abd-5489-5ffa-b566-d6f365d5a74b\",\n",
    "    \"70e0849b-8f89-5242-9a40-c10b88173ac1\",\n",
    "    \"2d6a042f-0c21-54b6-bd4f-588b8be73999\",\n",
    "    \"75fddd31-e90f-5311-a38c-6d6f807d1fdc\",\n",
    "    \"52d35e10-7df5-5ab8-b2a0-110c26c6d2b2\",\n",
    "    \"3b845a10-cb3a-5014-96d8-360c8f1bf63f\",\n",
    "    \"ba4883c2-9545-5d70-868a-867eea0a7678\",\n",
    "    \"e214b5b8-9077-555d-b101-0b7eb5fef90a\",\n",
    "    \"9edb0da8-7257-59d4-9b27-5bcede517047\",\n",
    "    \"4527cfc9-f47d-5945-8e0d-9e98e1fce929\",\n",
    "    \"c15f7a15-6f60-5064-870c-123a26d86bc6\",\n",
    "    \"cc43c3f2-f44f-5df0-aab8-3f50359b0292\",\n",
    "    \"9e8faabf-0fbd-5bcf-b7e1-00b859360f17\",\n",
    "    \"bc8c6a12-932a-51ca-b40d-13fb1e6ab0a9\",\n",
    "    \"c7143b60-c938-5329-9a3e-4d3411a2827b\",\n",
    "    \"c820d16d-b010-5ca1-bd76-f877dc987c93\",\n",
    "    \"23746b1e-b829-55fc-8777-8c85ec3a9f41\",\n",
    "    \"7b5a850a-b5b2-50cf-bc87-1d5a0c92b322\",\n",
    "    \"149e15a5-8f4f-53a6-a3dc-1becb28560d4\",\n",
    "    \"d2c55494-6863-5186-a423-e83e32fad3b3\",\n",
    "    \"042ba9b7-ee51-541f-9ec5-71ed26104824\",\n",
    "    \"29d16974-c3a5-5c89-8997-262037815c93\",\n",
    "    \"25e956d7-3dd1-5126-b9b9-2407e53e2121\"\n",
    "]"
   ]
  },
  {
   "cell_type": "code",
   "execution_count": null,
   "id": "2200ff3d",
   "metadata": {},
   "outputs": [],
   "source": [
    "from IPython.display import display, HTML\n",
    "from env_config import rag_config\n",
    "from qdrant_utils import get_summaries_by_pdf_id\n",
    "\n",
    "\n",
    "summaries_df = get_summaries_by_pdf_id(\n",
    "    qdrant_client, rag_config(\"qdrant_collection_name\"), pdf_ids)\n",
    "\n",
    "if not summaries_df.empty:\n",
    "    display(HTML(summaries_df.to_html(notebook=True,\n",
    "            max_cols=30, max_rows=10, escape=False)))"
   ]
  },
  {
   "cell_type": "code",
   "execution_count": 4,
   "id": "78e8366c",
   "metadata": {},
   "outputs": [
    {
     "name": "stderr",
     "output_type": "stream",
     "text": [
      "2025-06-11 11:09:41,318 - ERROR - [fetch_sheet_as_df] Failed to convert worksheet to DataFrame: 'NoneType' object has no attribute 'fillna'\n"
     ]
    }
   ],
   "source": [
    "from library_utils import fetch_rows_by_status, remove_rows\n",
    "from gcp_utils import get_folder_name, fetch_sheet_as_df, file_exists\n",
    "\n",
    "\n",
    "library_df = fetch_sheet_as_df(sheets_client, config[\"LIBRARY_UNIFIED\"])"
   ]
  },
  {
   "cell_type": "code",
   "execution_count": 6,
   "id": "17364d00",
   "metadata": {},
   "outputs": [],
   "source": [
    "from gcp_utils import get_folder_name, fetch_sheet, file_exists\n",
    "\n",
    "sheet = fetch_sheet(sheets_client, config[\"LIBRARY_UNIFIED\"])"
   ]
  },
  {
   "cell_type": "code",
   "execution_count": 9,
   "id": "5ea82bfa",
   "metadata": {},
   "outputs": [
    {
     "data": {
      "text/plain": [
       "'Sheet1'"
      ]
     },
     "execution_count": 9,
     "metadata": {},
     "output_type": "execute_result"
    }
   ],
   "source": [
    "sheet.title"
   ]
  },
  {
   "cell_type": "code",
   "execution_count": null,
   "id": "17175dde",
   "metadata": {},
   "outputs": [],
   "source": []
  }
 ],
 "metadata": {
  "kernelspec": {
   "display_name": ".venv-main",
   "language": "python",
   "name": "python3"
  },
  "language_info": {
   "codemirror_mode": {
    "name": "ipython",
    "version": 3
   },
   "file_extension": ".py",
   "mimetype": "text/x-python",
   "name": "python",
   "nbconvert_exporter": "python",
   "pygments_lexer": "ipython3",
   "version": "3.11.9"
  }
 },
 "nbformat": 4,
 "nbformat_minor": 5
}
