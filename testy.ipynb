{
 "cells": [
  {
   "cell_type": "markdown",
   "id": "a317e1f4",
   "metadata": {},
   "source": [
    "### 1. Set environmental variables"
   ]
  },
  {
   "cell_type": "code",
   "execution_count": 1,
   "id": "9225f9c8",
   "metadata": {},
   "outputs": [
    {
     "name": "stderr",
     "output_type": "stream",
     "text": [
      "2025-06-14 18:22:53,962 - INFO - No .env file found at /Users/drew_wilkins/Drews_Files/Drew/Python/Repositories/.env\n",
      "2025-06-14 18:22:53,963 - INFO - Running in context: streamlit\n",
      "2025-06-14 18:22:53,963 - INFO - Force user authentication: False\n",
      "2025-06-14 18:22:54,067 - INFO - Set balance of env values from Streamlit secrets\n"
     ]
    }
   ],
   "source": [
    "from env_config import env_config\n",
    "\n",
    "config = env_config()"
   ]
  },
  {
   "cell_type": "markdown",
   "id": "15c6d3f7",
   "metadata": {},
   "source": [
    "OPTIONAL: Review environmental variables\n",
    "WARNING: DO NOT COMMIT WITH THIS CELL OUTPUT SHOWING"
   ]
  },
  {
   "cell_type": "code",
   "execution_count": null,
   "id": "f6e142b6",
   "metadata": {},
   "outputs": [],
   "source": [
    "from pprint import pprint\n",
    "\n",
    "pprint(config)"
   ]
  },
  {
   "cell_type": "code",
   "execution_count": null,
   "id": "e20737cc",
   "metadata": {},
   "outputs": [],
   "source": [
    "import toml\n",
    "\n",
    "secrets = toml.load(\".streamlit/secrets.toml\")"
   ]
  },
  {
   "cell_type": "code",
   "execution_count": null,
   "id": "96100262",
   "metadata": {},
   "outputs": [],
   "source": [
    "print(secrets.keys())"
   ]
  },
  {
   "cell_type": "code",
   "execution_count": null,
   "id": "565ee580",
   "metadata": {},
   "outputs": [],
   "source": [
    "import streamlit as st\n",
    "print(\"secrets keys:\", list(st.secrets.keys()))\n",
    "print(\"full secrets object:\", st.secrets)\n",
    "\n",
    "print(st.secrets.keys())"
   ]
  },
  {
   "cell_type": "code",
   "execution_count": null,
   "id": "576513d9",
   "metadata": {},
   "outputs": [],
   "source": [
    "import json\n",
    "\n",
    "creds_info = json.loads(\n",
    "    st.secrets[\"GCP_CREDENTIALS_FOR_STREAMLIT_USCGAUX_APP\"])"
   ]
  },
  {
   "cell_type": "code",
   "execution_count": null,
   "id": "9473b660",
   "metadata": {},
   "outputs": [],
   "source": [
    "api_key = st.secrets[\"QDRANT_API_KEY\"]"
   ]
  },
  {
   "cell_type": "markdown",
   "id": "3e374f49",
   "metadata": {},
   "source": [
    "### 2. Init clients"
   ]
  },
  {
   "cell_type": "code",
   "execution_count": 2,
   "id": "96edf1f3",
   "metadata": {},
   "outputs": [
    {
     "name": "stderr",
     "output_type": "stream",
     "text": [
      "2025-06-14 18:22:59,287 - INFO - No .env file found at /Users/drew_wilkins/Drews_Files/Drew/Python/Repositories/.env\n",
      "2025-06-14 18:22:59,288 - INFO - Running in context: streamlit\n",
      "2025-06-14 18:22:59,288 - INFO - Force user authentication: False\n",
      "2025-06-14 18:22:59,288 - INFO - Set balance of env values from Streamlit secrets\n",
      "2025-06-14 18:22:59,623 - INFO - No .env file found at /Users/drew_wilkins/Drews_Files/Drew/Python/Repositories/.env\n",
      "2025-06-14 18:22:59,623 - INFO - Running in context: streamlit\n",
      "2025-06-14 18:22:59,623 - INFO - Force user authentication: False\n",
      "2025-06-14 18:22:59,623 - INFO - Set balance of env values from Streamlit secrets\n",
      "2025-06-14 18:22:59,668 - INFO - ✅ Google Sheets client initialized successfully with scoped credentials.\n",
      "2025-06-14 18:22:59,670 - INFO - file_cache is only supported with oauth2client<4.0.0\n",
      "2025-06-14 18:22:59,671 - INFO - ✅ Google Drive client initialized successfully with scoped credentials.\n",
      "2025-06-14 18:22:59,671 - INFO - Initializing Qdrant client in 'cloud' mode...\n",
      "2025-06-14 18:22:59,810 - INFO - HTTP Request: GET https://0c82e035-1105-40f2-a0bd-ecc44a016f15.us-east4-0.gcp.cloud.qdrant.io:6333 \"HTTP/1.1 200 OK\"\n",
      "2025-06-14 18:22:59,885 - INFO - HTTP Request: GET https://0c82e035-1105-40f2-a0bd-ecc44a016f15.us-east4-0.gcp.cloud.qdrant.io:6333/collections \"HTTP/1.1 200 OK\"\n",
      "2025-06-14 18:22:59,886 - INFO - Available Qdrant collections: ['ASK_vectorstore', 'ask_pdf_docs', 'ASK_vectorstore-backup21APR2025', 'ask_pdf_pages']\n",
      "2025-06-14 18:22:59,886 - INFO - ✅ Confirmed Qdrant collection 'ASK_vectorstore' exists\n"
     ]
    }
   ],
   "source": [
    "from gcp_utils import get_gcp_credentials, init_sheets_client, init_drive_client\n",
    "from qdrant_utils import init_qdrant_client\n",
    "\n",
    "\n",
    "creds = get_gcp_credentials()\n",
    "sheets_client = init_sheets_client(creds)\n",
    "drive_client = init_drive_client(creds)\n",
    "qdrant_client = init_qdrant_client(\"cloud\")"
   ]
  },
  {
   "cell_type": "markdown",
   "id": "12816496",
   "metadata": {},
   "source": [
    "### 3. Test main orcehstration functions"
   ]
  },
  {
   "cell_type": "markdown",
   "id": "24907ec8",
   "metadata": {},
   "source": [
    "Validate rows in LIBRARY_UNIFIED"
   ]
  },
  {
   "cell_type": "code",
   "execution_count": null,
   "id": "82f04b60",
   "metadata": {},
   "outputs": [],
   "source": [
    "from gcp_utils import fetch_sheet_as_df\n",
    "from library_utils import validate_all_rows_format\n",
    "from IPython.display import display, HTML\n",
    "\n",
    "\n",
    "library_df = fetch_sheet_as_df(sheets_client, config[\"LIBRARY_UNIFIED\"])\n",
    "valid_df, invalid_df, log_df = validate_all_rows_format(library_df)\n",
    "\n",
    "if not log_df.empty:\n",
    "    print(f\"\\nValidation error detail:\")\n",
    "    display(HTML(log_df.to_html(notebook=True,\n",
    "            max_cols=30, max_rows=10, escape=False)))\n",
    "\n",
    "if not invalid_df.empty:\n",
    "    print(f\"\\nInvalid rows detail:\")\n",
    "    display(HTML(invalid_df.to_html(notebook=True,\n",
    "            max_cols=30, max_rows=10, escape=False)))"
   ]
  },
  {
   "cell_type": "markdown",
   "id": "86601d80",
   "metadata": {},
   "source": [
    "Promote tagged"
   ]
  },
  {
   "cell_type": "code",
   "execution_count": null,
   "id": "fe20d794",
   "metadata": {},
   "outputs": [],
   "source": [
    "from promote_files import promote_files\n",
    "\n",
    "promote_files(drive_client, sheets_client, qdrant_client)"
   ]
  },
  {
   "cell_type": "markdown",
   "id": "7abf0374",
   "metadata": {},
   "source": [
    "Delete tagged\n"
   ]
  },
  {
   "cell_type": "code",
   "execution_count": null,
   "id": "9bbe0b59",
   "metadata": {},
   "outputs": [],
   "source": [
    "from delete_tagged import delete_tagged\n",
    "\n",
    "\n",
    "deleted_rows_df = delete_tagged(drive_client, sheets_client, qdrant_client)"
   ]
  },
  {
   "cell_type": "markdown",
   "id": "eb8cbec4",
   "metadata": {},
   "source": [
    "Create new status map"
   ]
  },
  {
   "cell_type": "code",
   "execution_count": 3,
   "id": "fb142edc",
   "metadata": {},
   "outputs": [
    {
     "name": "stderr",
     "output_type": "stream",
     "text": [
      "2025-06-14 18:23:03,038 - INFO - No .env file found at /Users/drew_wilkins/Drews_Files/Drew/Python/Repositories/.env\n",
      "2025-06-14 18:23:03,039 - INFO - Running in context: streamlit\n",
      "2025-06-14 18:23:03,039 - INFO - Force user authentication: False\n",
      "2025-06-14 18:23:03,039 - INFO - Set balance of env values from Streamlit secrets\n",
      "2025-06-14 18:23:04,045 - INFO - Sheet1\n",
      "2025-06-14 18:23:04,428 - INFO - ✅ Fetched and converted worksheet 1glNjmKYloO0u6tCd5qy3z5ee8I-MkqwUxWsWEvLMBkM with 223 rows.\n",
      "2025-06-14 18:23:06,713 - INFO - HTTP Request: POST https://0c82e035-1105-40f2-a0bd-ecc44a016f15.us-east4-0.gcp.cloud.qdrant.io:6333/collections/ASK_vectorstore/points/scroll \"HTTP/1.1 200 OK\"\n",
      "2025-06-14 18:23:10,618 - INFO - HTTP Request: POST https://0c82e035-1105-40f2-a0bd-ecc44a016f15.us-east4-0.gcp.cloud.qdrant.io:6333/collections/ASK_vectorstore/points/scroll \"HTTP/1.1 200 OK\"\n",
      "2025-06-14 18:23:14,310 - INFO - HTTP Request: POST https://0c82e035-1105-40f2-a0bd-ecc44a016f15.us-east4-0.gcp.cloud.qdrant.io:6333/collections/ASK_vectorstore/points/scroll \"HTTP/1.1 200 OK\"\n",
      "2025-06-14 18:23:16,865 - INFO - Retrieving all 221 pdf_ids from Qdrant collection.\n",
      "/Users/drew_wilkins/Drews_Files/Drew/Python/Repositories/uscgaux/status_map.py:79: FutureWarning: Downcasting object dtype arrays on .fillna, .ffill, .bfill is deprecated and will change in a future version. Call result.infer_objects(copy=False) instead. To opt-in to the future behavior, set `pd.set_option('future.no_silent_downcasting', True)`\n",
      "  status_df[\"in_drive\"] = status_df[\"in_drive\"].fillna(False).astype(\"bool\")\n",
      "/Users/drew_wilkins/Drews_Files/Drew/Python/Repositories/uscgaux/status_map.py:80: FutureWarning: Downcasting object dtype arrays on .fillna, .ffill, .bfill is deprecated and will change in a future version. Call result.infer_objects(copy=False) instead. To opt-in to the future behavior, set `pd.set_option('future.no_silent_downcasting', True)`\n",
      "  status_df[\"in_qdrant\"] = status_df[\"in_qdrant\"].fillna(False).astype(\"bool\")\n"
     ]
    },
    {
     "data": {
      "text/html": [
       "<div>\n",
       "<style scoped>\n",
       "    .dataframe tbody tr th:only-of-type {\n",
       "        vertical-align: middle;\n",
       "    }\n",
       "\n",
       "    .dataframe tbody tr th {\n",
       "        vertical-align: top;\n",
       "    }\n",
       "\n",
       "    .dataframe thead th {\n",
       "        text-align: right;\n",
       "    }\n",
       "</style>\n",
       "<table border=\"1\" class=\"dataframe\">\n",
       "  <thead>\n",
       "    <tr style=\"text-align: right;\">\n",
       "      <th></th>\n",
       "      <th>title</th>\n",
       "      <th>pdf_file_name</th>\n",
       "      <th>pdf_id</th>\n",
       "      <th>gcp_file_id</th>\n",
       "      <th>issues</th>\n",
       "      <th>empty_pdf_id_in_sheet</th>\n",
       "      <th>empty_gcp_file_id_in_sheet</th>\n",
       "      <th>empty_gcp_file_id_in_qdrant</th>\n",
       "      <th>duplicate_pdf_id_in_sheet</th>\n",
       "      <th>in_sheet</th>\n",
       "      <th>in_drive</th>\n",
       "      <th>file_name</th>\n",
       "      <th>in_qdrant</th>\n",
       "      <th>record_count</th>\n",
       "      <th>page_count</th>\n",
       "      <th>gcp_file_ids</th>\n",
       "      <th>unique_file_count</th>\n",
       "      <th>zero_record_count</th>\n",
       "      <th>file_ids_match</th>\n",
       "    </tr>\n",
       "  </thead>\n",
       "  <tbody>\n",
       "    <tr>\n",
       "      <th>166</th>\n",
       "      <td>COAST GUARD EXTERNAL AFFAIRS MANUAL, COMDTINST...</td>\n",
       "      <td>CG Public Affairs CIM_5700_13A_2021-05-01.pdf</td>\n",
       "      <td>d354afd1-95ea-5489-9df7-3abdd322d73c</td>\n",
       "      <td></td>\n",
       "      <td>[Empty gcp_file_id in Sheet, Empty gcp_file_id...</td>\n",
       "      <td>False</td>\n",
       "      <td>True</td>\n",
       "      <td>True</td>\n",
       "      <td>False</td>\n",
       "      <td>True</td>\n",
       "      <td>False</td>\n",
       "      <td>None</td>\n",
       "      <td>True</td>\n",
       "      <td>132</td>\n",
       "      <td>133.0</td>\n",
       "      <td>[]</td>\n",
       "      <td>0</td>\n",
       "      <td>False</td>\n",
       "      <td>False</td>\n",
       "    </tr>\n",
       "    <tr>\n",
       "      <th>...</th>\n",
       "      <td>...</td>\n",
       "      <td>...</td>\n",
       "      <td>...</td>\n",
       "      <td>...</td>\n",
       "      <td>...</td>\n",
       "      <td>...</td>\n",
       "      <td>...</td>\n",
       "      <td>...</td>\n",
       "      <td>...</td>\n",
       "      <td>...</td>\n",
       "      <td>...</td>\n",
       "      <td>...</td>\n",
       "      <td>...</td>\n",
       "      <td>...</td>\n",
       "      <td>...</td>\n",
       "      <td>...</td>\n",
       "      <td>...</td>\n",
       "      <td>...</td>\n",
       "      <td>...</td>\n",
       "    </tr>\n",
       "    <tr>\n",
       "      <th>221</th>\n",
       "      <td>ALAUX 010/25 Chief Director's Final Action on ...</td>\n",
       "      <td>010_25_CHIEF_DIRECTOR_S_FINAL_ACTION_ON_NATION...</td>\n",
       "      <td>af8c8931-3913-5cad-9f02-125d982cbe86</td>\n",
       "      <td>1dxDBQAcPCzxTbZPsk5AgLC0h-HEL-2g2</td>\n",
       "      <td>[Missing in Qdrant]</td>\n",
       "      <td>False</td>\n",
       "      <td>False</td>\n",
       "      <td>False</td>\n",
       "      <td>False</td>\n",
       "      <td>True</td>\n",
       "      <td>True</td>\n",
       "      <td>NaN</td>\n",
       "      <td>False</td>\n",
       "      <td>0</td>\n",
       "      <td>NaN</td>\n",
       "      <td>NaN</td>\n",
       "      <td>0</td>\n",
       "      <td>False</td>\n",
       "      <td>None</td>\n",
       "    </tr>\n",
       "  </tbody>\n",
       "</table>\n",
       "</div>"
      ],
      "text/plain": [
       "<IPython.core.display.HTML object>"
      ]
     },
     "metadata": {},
     "output_type": "display_data"
    }
   ],
   "source": [
    "from status_map import build_status_map\n",
    "from IPython.display import display, HTML\n",
    "\n",
    "status_df, issues_df = build_status_map(drive_client, sheets_client, qdrant_client)\n",
    "if not issues_df.empty:\n",
    "    display(HTML(issues_df.to_html(\n",
    "        notebook=True, max_cols=30, max_rows=2, escape=False)))"
   ]
  },
  {
   "cell_type": "code",
   "execution_count": null,
   "id": "68cd2d42",
   "metadata": {},
   "outputs": [],
   "source": [
    "if not status_df.empty:\n",
    "    # Keep only rows where 'issues' is a non-empty list\n",
    "    status_df_issues_only = status_df[\n",
    "        status_df[\"issues\"].apply(lambda x: isinstance(x, list) and len(x) > 0)\n",
    "    ]\n",
    "\n",
    "    display(HTML(status_df_issues_only.to_html(\n",
    "        notebook=True, max_cols=30, max_rows=2, escape=False)))"
   ]
  },
  {
   "cell_type": "code",
   "execution_count": null,
   "id": "5deaf49c",
   "metadata": {},
   "outputs": [],
   "source": [
    "status_df.to_csv(\"tests/status_map.csv\", index=False)"
   ]
  },
  {
   "cell_type": "markdown",
   "id": "5303e1ba",
   "metadata": {},
   "source": [
    "### 4. Test helper functions"
   ]
  },
  {
   "cell_type": "code",
   "execution_count": null,
   "id": "cc2414f0",
   "metadata": {},
   "outputs": [],
   "source": [
    "from gcp_utils import fetch_sheet\n",
    "\n",
    "sheet = fetch_sheet(sheets_client, config[\"LIBRARY_UNIFIED\"])\n",
    "cell_value = sheet.cell(2, 3).value  # Row 2, Column 3\n",
    "print(cell_value)"
   ]
  },
  {
   "cell_type": "code",
   "execution_count": null,
   "id": "17175dde",
   "metadata": {},
   "outputs": [],
   "source": [
    "from library_utils import fetch_rows_by_status, remove_rows\n",
    "from gcp_utils import get_folder_name, fetch_sheet_as_df, file_exists\n",
    "import pandas as pd\n",
    "\n",
    "library_df = fetch_sheet_as_df(sheets_client, config[\"LIBRARY_UNIFIED\"])\n",
    "display(library_df.head())"
   ]
  },
  {
   "cell_type": "code",
   "execution_count": null,
   "id": "65b0a788",
   "metadata": {},
   "outputs": [],
   "source": [
    "config = env_config()"
   ]
  },
  {
   "cell_type": "code",
   "execution_count": null,
   "id": "bca3df5b",
   "metadata": {},
   "outputs": [],
   "source": [
    "import logging\n",
    "from qdrant_client import QdrantClient\n",
    "from qdrant_client.http import models\n",
    "from typing import Any\n",
    "from library_utils import fetch_sheet_as_df\n",
    "from IPython.display import display, HTML\n",
    "import pandas as pd\n",
    "from env_config import rag_config\n",
    "\n",
    "\n",
    "def update_qdrant_file_ids_for_live_rows(qdrant_client: QdrantClient, sheets_client: Any, collection_name: str) -> pd.DataFrame:\n",
    "    \"\"\"\n",
    "    For each status='live' row in LIBRARY_UNIFIED, update all Qdrant points with that pdf_id\n",
    "    to have the corresponding gcp_file_id in their metadata.\n",
    "\n",
    "    Args:\n",
    "        qdrant_client: QdrantClient instance\n",
    "        sheets_client: Authenticated Google Sheets client\n",
    "        collection_name: Qdrant collection name\n",
    "\n",
    "    Returns:\n",
    "        pd.DataFrame of modified rows from LIBRARY_UNIFIED\n",
    "    \"\"\"\n",
    "    # Load LIBRARY_UNIFIED and filter for status='live'\n",
    "    df = fetch_sheet_as_df(sheets_client, config[\"LIBRARY_UNIFIED\"])\n",
    "    live_df = df[df[\"status\"] == \"live\"].copy()\n",
    "    if live_df.empty:\n",
    "        logging.warning(\"No rows with status='live' found in LIBRARY_UNIFIED.\")\n",
    "        return live_df\n",
    "\n",
    "    updated = []\n",
    "    for _, row in live_df.iterrows():\n",
    "        pdf_id = str(row.get(\"pdf_id\", \"\")).strip()\n",
    "        gcp_file_id = str(row.get(\"gcp_file_id\", \"\")).strip()\n",
    "\n",
    "        if not pdf_id or not gcp_file_id:\n",
    "            continue\n",
    "\n",
    "        filter_condition = models.Filter(\n",
    "            must=[models.FieldCondition(\n",
    "                key=\"metadata.pdf_id\", match=models.MatchValue(value=pdf_id))]\n",
    "        )\n",
    "\n",
    "        scroll_offset = None\n",
    "        while True:\n",
    "            points, scroll_offset = qdrant_client.scroll(\n",
    "                collection_name=collection_name,\n",
    "                scroll_filter=filter_condition,\n",
    "                with_payload=True,\n",
    "                with_vectors=False,\n",
    "                limit=100,\n",
    "                offset=scroll_offset,\n",
    "            )\n",
    "            if not points:\n",
    "                break\n",
    "\n",
    "            for point in points:\n",
    "                point_id = point.id\n",
    "                metadata = point.payload.get(\"metadata\", {})\n",
    "                if metadata.get(\"gcp_file_id\") != gcp_file_id:\n",
    "                    metadata[\"gcp_file_id\"] = gcp_file_id\n",
    "                    qdrant_client.set_payload(\n",
    "                        collection_name=collection_name,\n",
    "                        payload={\"metadata\": metadata},\n",
    "                        points=[point_id],\n",
    "                    )\n",
    "                    updated.append({\n",
    "                        \"pdf_id\": pdf_id,\n",
    "                        \"point_id\": point_id,\n",
    "                        \"new_gcp_file_id\": gcp_file_id\n",
    "                    })\n",
    "\n",
    "            if scroll_offset is None:\n",
    "                break\n",
    "\n",
    "    if updated:\n",
    "        logging.info(\n",
    "            f\"Updated {len(updated)} Qdrant points with correct gcp_file_id.\")\n",
    "    else:\n",
    "        logging.info(\"No updates were necessary.\")\n",
    "\n",
    "    return pd.DataFrame(updated)\n",
    "\n",
    "\n",
    "updated_df = update_qdrant_file_ids_for_live_rows(\n",
    "    qdrant_client, sheets_client, rag_config(\"qdrant_collection_name\"))\n",
    "\n",
    "if not updated_df.empty:\n",
    "    display(HTML(summaries_df.to_html(notebook=True,\n",
    "            max_cols=30, max_rows=10, escape=False)))"
   ]
  },
  {
   "cell_type": "code",
   "execution_count": null,
   "id": "099b91f4",
   "metadata": {},
   "outputs": [],
   "source": []
  }
 ],
 "metadata": {
  "kernelspec": {
   "display_name": ".venv-main",
   "language": "python",
   "name": "python3"
  },
  "language_info": {
   "codemirror_mode": {
    "name": "ipython",
    "version": 3
   },
   "file_extension": ".py",
   "mimetype": "text/x-python",
   "name": "python",
   "nbconvert_exporter": "python",
   "pygments_lexer": "ipython3",
   "version": "3.11.9"
  }
 },
 "nbformat": 4,
 "nbformat_minor": 5
}
