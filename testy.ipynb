{
 "cells": [
  {
   "cell_type": "markdown",
   "id": "a317e1f4",
   "metadata": {},
   "source": [
    "### 1. Set environmental variables"
   ]
  },
  {
   "cell_type": "code",
   "execution_count": 1,
   "id": "9225f9c8",
   "metadata": {},
   "outputs": [
    {
     "name": "stderr",
     "output_type": "stream",
     "text": [
      "2025-06-12 10:59:00,759 - INFO - Found a local .env file at /Users/drew_wilkins/Drews_Files/Drew/Python/Localcode/.env\n",
      "2025-06-12 10:59:00,759 - INFO - Running in context: CLI\n",
      "2025-06-12 10:59:00,760 - INFO - Force user authentication: False\n",
      "2025-06-12 10:59:00,761 - INFO - Set balance of env values from.env file at /Users/drew_wilkins/Drews_Files/Drew/Python/Localcode/.env\n"
     ]
    }
   ],
   "source": [
    "from env_config import env_config\n",
    "\n",
    "config = env_config()"
   ]
  },
  {
   "cell_type": "markdown",
   "id": "15c6d3f7",
   "metadata": {},
   "source": [
    "OPTIONAL: Review environmental variables\n",
    "WARNING: DO NOT COMMIT WITH THIS CELL OUTPUT SHOWING"
   ]
  },
  {
   "cell_type": "code",
   "execution_count": null,
   "id": "f6e142b6",
   "metadata": {},
   "outputs": [],
   "source": [
    "from pprint import pprint\n",
    "\n",
    "pprint(config)"
   ]
  },
  {
   "cell_type": "markdown",
   "id": "3e374f49",
   "metadata": {},
   "source": [
    "### 2. Init clients"
   ]
  },
  {
   "cell_type": "code",
   "execution_count": 2,
   "id": "96edf1f3",
   "metadata": {},
   "outputs": [
    {
     "name": "stderr",
     "output_type": "stream",
     "text": [
      "2025-06-12 10:59:02,971 - INFO - Found a local .env file at /Users/drew_wilkins/Drews_Files/Drew/Python/Localcode/.env\n",
      "2025-06-12 10:59:02,972 - INFO - Running in context: CLI\n",
      "2025-06-12 10:59:02,972 - INFO - Force user authentication: False\n",
      "2025-06-12 10:59:02,973 - INFO - Set balance of env values from.env file at /Users/drew_wilkins/Drews_Files/Drew/Python/Localcode/.env\n",
      "2025-06-12 10:59:03,233 - INFO - Found a local .env file at /Users/drew_wilkins/Drews_Files/Drew/Python/Localcode/.env\n",
      "2025-06-12 10:59:03,233 - INFO - Running in context: CLI\n",
      "2025-06-12 10:59:03,233 - INFO - Force user authentication: False\n",
      "2025-06-12 10:59:03,235 - INFO - Set balance of env values from.env file at /Users/drew_wilkins/Drews_Files/Drew/Python/Localcode/.env\n",
      "2025-06-12 10:59:03,277 - INFO - ✅ Google Sheets client initialized successfully with scoped credentials.\n",
      "2025-06-12 10:59:03,278 - INFO - file_cache is only supported with oauth2client<4.0.0\n",
      "2025-06-12 10:59:03,306 - INFO - ✅ Google Drive client initialized successfully with scoped credentials.\n",
      "2025-06-12 10:59:03,306 - INFO - Initializing Qdrant client in 'cloud' mode...\n",
      "2025-06-12 10:59:03,439 - INFO - HTTP Request: GET https://0c82e035-1105-40f2-a0bd-ecc44a016f15.us-east4-0.gcp.cloud.qdrant.io:6333 \"HTTP/1.1 200 OK\"\n",
      "2025-06-12 10:59:03,513 - INFO - HTTP Request: GET https://0c82e035-1105-40f2-a0bd-ecc44a016f15.us-east4-0.gcp.cloud.qdrant.io:6333/collections \"HTTP/1.1 200 OK\"\n",
      "2025-06-12 10:59:03,514 - INFO - Available Qdrant collections: ['ASK_vectorstore', 'ask_pdf_docs', 'ASK_vectorstore-backup21APR2025', 'ask_pdf_pages']\n",
      "2025-06-12 10:59:03,514 - INFO - ✅ Confirmed Qdrant collection 'ASK_vectorstore' exists\n"
     ]
    }
   ],
   "source": [
    "from gcp_utils import get_gcp_credentials, init_sheets_client, init_drive_client\n",
    "from qdrant_utils import init_qdrant_client\n",
    "\n",
    "\n",
    "creds = get_gcp_credentials()\n",
    "sheets_client = init_sheets_client(creds)\n",
    "drive_client = init_drive_client(creds)\n",
    "qdrant_client = init_qdrant_client(\"cloud\")"
   ]
  },
  {
   "cell_type": "markdown",
   "id": "12816496",
   "metadata": {},
   "source": [
    "### 3. Test main orcehstration functions"
   ]
  },
  {
   "cell_type": "markdown",
   "id": "24907ec8",
   "metadata": {},
   "source": [
    "Validate rows in LIBRARY_UNIFIED"
   ]
  },
  {
   "cell_type": "code",
   "execution_count": 3,
   "id": "82f04b60",
   "metadata": {},
   "outputs": [
    {
     "name": "stderr",
     "output_type": "stream",
     "text": [
      "2025-06-12 10:59:07,192 - INFO - Sheet1\n",
      "2025-06-12 10:59:07,424 - INFO - ✅ Fetched and converted worksheet 1glNjmKYloO0u6tCd5qy3z5ee8I-MkqwUxWsWEvLMBkM with 222 rows.\n",
      "2025-06-12 10:59:07,440 - INFO - ✅ Found 221 valid rows in LIBRARY_UNIFIED.\n",
      "2025-06-12 10:59:07,440 - INFO - ⚠️ Found 1 invalid rows in LIBRARY_UNIFIED.\n"
     ]
    },
    {
     "name": "stdout",
     "output_type": "stream",
     "text": [
      "\n",
      "Validation error detail:\n"
     ]
    },
    {
     "data": {
      "text/html": [
       "<div>\n",
       "<style scoped>\n",
       "    .dataframe tbody tr th:only-of-type {\n",
       "        vertical-align: middle;\n",
       "    }\n",
       "\n",
       "    .dataframe tbody tr th {\n",
       "        vertical-align: top;\n",
       "    }\n",
       "\n",
       "    .dataframe thead th {\n",
       "        text-align: right;\n",
       "    }\n",
       "</style>\n",
       "<table border=\"1\" class=\"dataframe\">\n",
       "  <thead>\n",
       "    <tr style=\"text-align: right;\">\n",
       "      <th></th>\n",
       "      <th>action</th>\n",
       "      <th>pdf_id</th>\n",
       "      <th>pdf_file_name</th>\n",
       "      <th>row_index</th>\n",
       "      <th>issues</th>\n",
       "    </tr>\n",
       "  </thead>\n",
       "  <tbody>\n",
       "    <tr>\n",
       "      <th>0</th>\n",
       "      <td>validation_failed</td>\n",
       "      <td>d354afd1-95ea-5489-9df7-3abdd322d73c</td>\n",
       "      <td>CG Public Affairs CIM_5700_13A_2021-05-01.pdf</td>\n",
       "      <td>168</td>\n",
       "      <td>missing_required_fields: ['google_id', 'link']</td>\n",
       "    </tr>\n",
       "  </tbody>\n",
       "</table>\n",
       "</div>"
      ],
      "text/plain": [
       "<IPython.core.display.HTML object>"
      ]
     },
     "metadata": {},
     "output_type": "display_data"
    },
    {
     "name": "stdout",
     "output_type": "stream",
     "text": [
      "\n",
      "Invalid rows detail:\n"
     ]
    },
    {
     "data": {
      "text/html": [
       "<div>\n",
       "<style scoped>\n",
       "    .dataframe tbody tr th:only-of-type {\n",
       "        vertical-align: middle;\n",
       "    }\n",
       "\n",
       "    .dataframe tbody tr th {\n",
       "        vertical-align: top;\n",
       "    }\n",
       "\n",
       "    .dataframe thead th {\n",
       "        text-align: right;\n",
       "    }\n",
       "</style>\n",
       "<table border=\"1\" class=\"dataframe\">\n",
       "  <thead>\n",
       "    <tr style=\"text-align: right;\">\n",
       "      <th></th>\n",
       "      <th>issues</th>\n",
       "      <th>title</th>\n",
       "      <th>pdf_id</th>\n",
       "      <th>publication_number</th>\n",
       "      <th>organization</th>\n",
       "      <th>scope</th>\n",
       "      <th>unit</th>\n",
       "      <th>issue_date</th>\n",
       "      <th>upsert_date</th>\n",
       "      <th>expiration_date</th>\n",
       "      <th>aux_specific</th>\n",
       "      <th>public_release</th>\n",
       "      <th>pdf_file_name</th>\n",
       "      <th>embedding</th>\n",
       "      <th>google_id</th>\n",
       "      <th>link</th>\n",
       "      <th>status</th>\n",
       "      <th>status_timestamp</th>\n",
       "    </tr>\n",
       "  </thead>\n",
       "  <tbody>\n",
       "    <tr>\n",
       "      <th>166</th>\n",
       "      <td>missing_required_fields: ['google_id', 'link']</td>\n",
       "      <td>COAST GUARD EXTERNAL AFFAIRS MANUAL, COMDTINST...</td>\n",
       "      <td>d354afd1-95ea-5489-9df7-3abdd322d73c</td>\n",
       "      <td>COMDTINST M5700.13A</td>\n",
       "      <td>CG-092</td>\n",
       "      <td>National</td>\n",
       "      <td></td>\n",
       "      <td>2021-05-12T00:00:00Z</td>\n",
       "      <td></td>\n",
       "      <td>2031-05-13T00:00:00Z</td>\n",
       "      <td>FALSE</td>\n",
       "      <td>TRUE</td>\n",
       "      <td>CG Public Affairs CIM_5700_13A_2021-05-01.pdf</td>\n",
       "      <td>text-embedding-ada-002</td>\n",
       "      <td></td>\n",
       "      <td></td>\n",
       "      <td>orphan_row</td>\n",
       "      <td></td>\n",
       "    </tr>\n",
       "  </tbody>\n",
       "</table>\n",
       "</div>"
      ],
      "text/plain": [
       "<IPython.core.display.HTML object>"
      ]
     },
     "metadata": {},
     "output_type": "display_data"
    }
   ],
   "source": [
    "from gcp_utils import fetch_sheet_as_df\n",
    "from library_utils import validate_all_rows_format\n",
    "from IPython.display import display, HTML\n",
    "\n",
    "\n",
    "library_df = fetch_sheet_as_df(sheets_client, config[\"LIBRARY_UNIFIED\"])\n",
    "valid_df, invalid_df, log_df = validate_all_rows_format(library_df)\n",
    "\n",
    "if not log_df.empty:\n",
    "    print(f\"\\nValidation error detail:\")\n",
    "    display(HTML(log_df.to_html(notebook=True,\n",
    "            max_cols=30, max_rows=10, escape=False)))\n",
    "\n",
    "if not invalid_df.empty:\n",
    "    print(f\"\\nInvalid rows detail:\")\n",
    "    display(HTML(invalid_df.to_html(notebook=True,\n",
    "            max_cols=30, max_rows=10, escape=False)))"
   ]
  },
  {
   "cell_type": "markdown",
   "id": "86601d80",
   "metadata": {},
   "source": [
    "Promote tagged"
   ]
  },
  {
   "cell_type": "code",
   "execution_count": null,
   "id": "fe20d794",
   "metadata": {},
   "outputs": [],
   "source": [
    "from promote_files import promote_files\n",
    "\n",
    "promote_files(drive_client, sheets_client, qdrant_client)"
   ]
  },
  {
   "cell_type": "markdown",
   "id": "7abf0374",
   "metadata": {},
   "source": [
    "Delete tagged\n"
   ]
  },
  {
   "cell_type": "code",
   "execution_count": 4,
   "id": "9bbe0b59",
   "metadata": {},
   "outputs": [
    {
     "name": "stderr",
     "output_type": "stream",
     "text": [
      "2025-06-12 10:59:33,096 - INFO - Found a local .env file at /Users/drew_wilkins/Drews_Files/Drew/Python/Localcode/.env\n",
      "2025-06-12 10:59:33,096 - INFO - Running in context: CLI\n",
      "2025-06-12 10:59:33,096 - INFO - Force user authentication: False\n",
      "2025-06-12 10:59:33,098 - INFO - Set balance of env values from.env file at /Users/drew_wilkins/Drews_Files/Drew/Python/Localcode/.env\n",
      "2025-06-12 10:59:33,099 - INFO - Found a local .env file at /Users/drew_wilkins/Drews_Files/Drew/Python/Localcode/.env\n",
      "2025-06-12 10:59:33,099 - INFO - Running in context: CLI\n",
      "2025-06-12 10:59:33,100 - INFO - Force user authentication: False\n",
      "2025-06-12 10:59:33,101 - INFO - Set balance of env values from.env file at /Users/drew_wilkins/Drews_Files/Drew/Python/Localcode/.env\n",
      "2025-06-12 10:59:33,673 - INFO - Sheet1\n",
      "2025-06-12 10:59:33,846 - INFO - ✅ Fetched and converted worksheet 1glNjmKYloO0u6tCd5qy3z5ee8I-MkqwUxWsWEvLMBkM with 222 rows.\n",
      "2025-06-12 10:59:33,848 - INFO - Found 0 rows matching keywords: ['deletion']\n",
      "2025-06-12 10:59:33,848 - INFO - No rows marked for deletion. No further action taken.\n"
     ]
    }
   ],
   "source": [
    "from delete_tagged import delete_tagged\n",
    "\n",
    "\n",
    "deleted_rows_df = delete_tagged(drive_client, sheets_client, qdrant_client)"
   ]
  },
  {
   "cell_type": "markdown",
   "id": "7f767ddd",
   "metadata": {},
   "source": [
    "cleanup orphans"
   ]
  },
  {
   "cell_type": "code",
   "execution_count": 5,
   "id": "d1d1660a",
   "metadata": {},
   "outputs": [
    {
     "name": "stderr",
     "output_type": "stream",
     "text": [
      "2025-06-12 10:59:39,503 - INFO - Found a local .env file at /Users/drew_wilkins/Drews_Files/Drew/Python/Localcode/.env\n",
      "2025-06-12 10:59:39,503 - INFO - Running in context: CLI\n",
      "2025-06-12 10:59:39,503 - INFO - Force user authentication: False\n",
      "2025-06-12 10:59:39,504 - INFO - Set balance of env values from.env file at /Users/drew_wilkins/Drews_Files/Drew/Python/Localcode/.env\n",
      "2025-06-12 10:59:40,203 - INFO - Sheet1\n",
      "2025-06-12 10:59:40,431 - INFO - ✅ Fetched and converted worksheet 1glNjmKYloO0u6tCd5qy3z5ee8I-MkqwUxWsWEvLMBkM with 222 rows.\n",
      "2025-06-12 10:59:40,432 - INFO - Cataloging PDF_TAGGING for orphan review\n",
      "2025-06-12 10:59:41,123 - INFO - Cataloging PDF_LIVE for orphan review\n",
      "2025-06-12 10:59:44,131 - INFO - Sheet1\n",
      "2025-06-12 10:59:44,133 - INFO - orphan_row_flagged in LIBRARY_UNIFIED — pdf_id: d354afd1-95ea-5489-9df7-3abdd322d73c, file: CG Public Affairs CIM_5700_13A_2021-05-01.pdf\n",
      "2025-06-12 10:59:44,440 - INFO - ✅ Updated 1 orphan rows in LIBRARY_UNIFIED.\n",
      "2025-06-12 10:59:44,442 - INFO - ⚠️ Found 18 orphans (files in Google Drive folders but not in LIBRARY_UNIFIED).\n",
      "2025-06-12 10:59:45,446 - INFO - HTTP Request: POST https://0c82e035-1105-40f2-a0bd-ecc44a016f15.us-east4-0.gcp.cloud.qdrant.io:6333/collections/ASK_vectorstore/points/scroll \"HTTP/1.1 200 OK\"\n",
      "2025-06-12 10:59:48,396 - INFO - Retrieving all 221 pdf_ids from Qdrant collection.\n",
      "2025-06-12 10:59:48,403 - WARNING - Found 1 orphans (records in Qdrant but not in LIBRARY_UNIFIED):\n",
      " ['d354afd1-95ea-5489-9df7-3abdd322d73c']\n",
      "2025-06-12 10:59:48,654 - INFO - HTTP Request: POST https://0c82e035-1105-40f2-a0bd-ecc44a016f15.us-east4-0.gcp.cloud.qdrant.io:6333/collections/ASK_vectorstore/points/scroll \"HTTP/1.1 200 OK\"\n",
      "2025-06-12 10:59:48,685 - INFO - Returning 20 total log entries.\n"
     ]
    },
    {
     "name": "stdout",
     "output_type": "stream",
     "text": [
      "\n",
      "Orphan rows:\n"
     ]
    },
    {
     "data": {
      "text/html": [
       "<div>\n",
       "<style scoped>\n",
       "    .dataframe tbody tr th:only-of-type {\n",
       "        vertical-align: middle;\n",
       "    }\n",
       "\n",
       "    .dataframe tbody tr th {\n",
       "        vertical-align: top;\n",
       "    }\n",
       "\n",
       "    .dataframe thead th {\n",
       "        text-align: right;\n",
       "    }\n",
       "</style>\n",
       "<table border=\"1\" class=\"dataframe\">\n",
       "  <thead>\n",
       "    <tr style=\"text-align: right;\">\n",
       "      <th></th>\n",
       "      <th>title</th>\n",
       "      <th>pdf_id</th>\n",
       "      <th>publication_number</th>\n",
       "      <th>organization</th>\n",
       "      <th>scope</th>\n",
       "      <th>unit</th>\n",
       "      <th>issue_date</th>\n",
       "      <th>upsert_date</th>\n",
       "      <th>expiration_date</th>\n",
       "      <th>aux_specific</th>\n",
       "      <th>public_release</th>\n",
       "      <th>pdf_file_name</th>\n",
       "      <th>embedding</th>\n",
       "      <th>google_id</th>\n",
       "      <th>link</th>\n",
       "      <th>status</th>\n",
       "      <th>status_timestamp</th>\n",
       "    </tr>\n",
       "  </thead>\n",
       "  <tbody>\n",
       "    <tr>\n",
       "      <th>166</th>\n",
       "      <td>COAST GUARD EXTERNAL AFFAIRS MANUAL, COMDTINST...</td>\n",
       "      <td>d354afd1-95ea-5489-9df7-3abdd322d73c</td>\n",
       "      <td>COMDTINST M5700.13A</td>\n",
       "      <td>CG-092</td>\n",
       "      <td>National</td>\n",
       "      <td></td>\n",
       "      <td>2021-05-12T00:00:00Z</td>\n",
       "      <td></td>\n",
       "      <td>2031-05-13T00:00:00Z</td>\n",
       "      <td>FALSE</td>\n",
       "      <td>TRUE</td>\n",
       "      <td>CG Public Affairs CIM_5700_13A_2021-05-01.pdf</td>\n",
       "      <td>text-embedding-ada-002</td>\n",
       "      <td></td>\n",
       "      <td></td>\n",
       "      <td>orphan_row</td>\n",
       "      <td></td>\n",
       "    </tr>\n",
       "  </tbody>\n",
       "</table>\n",
       "</div>"
      ],
      "text/plain": [
       "<IPython.core.display.HTML object>"
      ]
     },
     "metadata": {},
     "output_type": "display_data"
    },
    {
     "name": "stdout",
     "output_type": "stream",
     "text": [
      "\n",
      "Orphan files:\n"
     ]
    },
    {
     "data": {
      "text/html": [
       "<div>\n",
       "<style scoped>\n",
       "    .dataframe tbody tr th:only-of-type {\n",
       "        vertical-align: middle;\n",
       "    }\n",
       "\n",
       "    .dataframe tbody tr th {\n",
       "        vertical-align: top;\n",
       "    }\n",
       "\n",
       "    .dataframe thead th {\n",
       "        text-align: right;\n",
       "    }\n",
       "</style>\n",
       "<table border=\"1\" class=\"dataframe\">\n",
       "  <thead>\n",
       "    <tr style=\"text-align: right;\">\n",
       "      <th></th>\n",
       "      <th>ID</th>\n",
       "      <th>Name</th>\n",
       "      <th>URL</th>\n",
       "      <th>folder</th>\n",
       "    </tr>\n",
       "  </thead>\n",
       "  <tbody>\n",
       "    <tr>\n",
       "      <th>14</th>\n",
       "      <td>1R6DtX_1jTKf3WEDARSmW2Ad7WbbxuClG</td>\n",
       "      <td>2024-2026_Strategic_Plan_-_November_2024.pdf</td>\n",
       "      <td>https://drive.google.com/file/d/1R6DtX_1jTKf3W...</td>\n",
       "      <td>PDF_LIVE</td>\n",
       "    </tr>\n",
       "    <tr>\n",
       "      <th>38</th>\n",
       "      <td>1C_VU-mFfnEovVaSFeqz0EhDvcPMvqjwa</td>\n",
       "      <td>10_15_AUXILIARY_MANDATED_TRAINING__AUXMT____NE...</td>\n",
       "      <td>https://drive.google.com/file/d/1C_VU-mFfnEovV...</td>\n",
       "      <td>PDF_LIVE</td>\n",
       "    </tr>\n",
       "    <tr>\n",
       "      <th>39</th>\n",
       "      <td>1xO12dBYJBxVP7XBqBIRpYYN4dHynmRhh</td>\n",
       "      <td>ALAUX_002_24_2024_NATIONAL_WORKSHOPS.pdf</td>\n",
       "      <td>https://drive.google.com/file/d/1xO12dBYJBxVP7...</td>\n",
       "      <td>PDF_LIVE</td>\n",
       "    </tr>\n",
       "    <tr>\n",
       "      <th>41</th>\n",
       "      <td>19Ql6ALvx6LEGlYTdOgWTEzosc5LnWCXq</td>\n",
       "      <td>06_19_AUXILIARY_HUMANITARIAN_SERVICE_AWARD.pdf</td>\n",
       "      <td>https://drive.google.com/file/d/19Ql6ALvx6LEGl...</td>\n",
       "      <td>PDF_LIVE</td>\n",
       "    </tr>\n",
       "    <tr>\n",
       "      <th>57</th>\n",
       "      <td>15CV77p3T5BQPOhHz1vdIEbA82KIEYEDM</td>\n",
       "      <td>VE_workshop_Dec_4_22_2023.pdf</td>\n",
       "      <td>https://drive.google.com/file/d/15CV77p3T5BQPO...</td>\n",
       "      <td>PDF_LIVE</td>\n",
       "    </tr>\n",
       "    <tr>\n",
       "      <th>...</th>\n",
       "      <td>...</td>\n",
       "      <td>...</td>\n",
       "      <td>...</td>\n",
       "      <td>...</td>\n",
       "    </tr>\n",
       "    <tr>\n",
       "      <th>136</th>\n",
       "      <td>1m8aKoPaThcwAK4dfFaJGkaI6JxA1ngxK</td>\n",
       "      <td>Surface Workshop Final 2024  v1.pdf</td>\n",
       "      <td>https://drive.google.com/file/d/1m8aKoPaThcwAK...</td>\n",
       "      <td>PDF_LIVE</td>\n",
       "    </tr>\n",
       "    <tr>\n",
       "      <th>166</th>\n",
       "      <td>17Bevh6ZUi2L0vz0xSfL947_KRpQY3kpz</td>\n",
       "      <td>AUXFS Training and Qualification Guide_H-Dir_2...</td>\n",
       "      <td>https://drive.google.com/file/d/17Bevh6ZUi2L0v...</td>\n",
       "      <td>PDF_LIVE</td>\n",
       "    </tr>\n",
       "    <tr>\n",
       "      <th>167</th>\n",
       "      <td>1X_EltW4CzIG5ZxxZAf866GOKU_EySqKe</td>\n",
       "      <td>12_15_TEMPORARY_SUSPENSION_OF_UDC_Istore___12J...</td>\n",
       "      <td>https://drive.google.com/file/d/1X_EltW4CzIG5Z...</td>\n",
       "      <td>PDF_LIVE</td>\n",
       "    </tr>\n",
       "    <tr>\n",
       "      <th>183</th>\n",
       "      <td>1CTodsNNKKvVzVvzIDkgpA-feqwe65A9W</td>\n",
       "      <td>IT Instructor WORKSHOP 2023 Jan 2023 Final.pdf</td>\n",
       "      <td>https://drive.google.com/file/d/1CTodsNNKKvVzV...</td>\n",
       "      <td>PDF_LIVE</td>\n",
       "    </tr>\n",
       "    <tr>\n",
       "      <th>219</th>\n",
       "      <td>1fl5nHKq3F7UJ-lPvIpybYkzyCvNs-EuW</td>\n",
       "      <td>CG Public Affairs  CIM_5700_13A_2021-05-01.pdf</td>\n",
       "      <td>https://drive.google.com/file/d/1fl5nHKq3F7UJ-...</td>\n",
       "      <td>PDF_LIVE</td>\n",
       "    </tr>\n",
       "  </tbody>\n",
       "</table>\n",
       "</div>"
      ],
      "text/plain": [
       "<IPython.core.display.HTML object>"
      ]
     },
     "metadata": {},
     "output_type": "display_data"
    },
    {
     "name": "stdout",
     "output_type": "stream",
     "text": [
      "\n",
      "Orphan qdrant records:\n"
     ]
    },
    {
     "data": {
      "text/html": [
       "<div>\n",
       "<style scoped>\n",
       "    .dataframe tbody tr th:only-of-type {\n",
       "        vertical-align: middle;\n",
       "    }\n",
       "\n",
       "    .dataframe tbody tr th {\n",
       "        vertical-align: top;\n",
       "    }\n",
       "\n",
       "    .dataframe thead th {\n",
       "        text-align: right;\n",
       "    }\n",
       "</style>\n",
       "<table border=\"1\" class=\"dataframe\">\n",
       "  <thead>\n",
       "    <tr style=\"text-align: right;\">\n",
       "      <th></th>\n",
       "      <th>pdf_id</th>\n",
       "      <th>title</th>\n",
       "      <th>pdf_file_name</th>\n",
       "      <th>page_count</th>\n",
       "      <th>record_count</th>\n",
       "      <th>point_ids</th>\n",
       "    </tr>\n",
       "  </thead>\n",
       "  <tbody>\n",
       "    <tr>\n",
       "      <th>0</th>\n",
       "      <td>d354afd1-95ea-5489-9df7-3abdd322d73c</td>\n",
       "      <td>COAST GUARD EXTERNAL AFFAIRS MANUAL, COMDTINST...</td>\n",
       "      <td>None</td>\n",
       "      <td>133</td>\n",
       "      <td>132</td>\n",
       "      <td>[00a80758-8e6b-43ae-8208-296ae0af01f6, 021434b...</td>\n",
       "    </tr>\n",
       "  </tbody>\n",
       "</table>\n",
       "</div>"
      ],
      "text/plain": [
       "<IPython.core.display.HTML object>"
      ]
     },
     "metadata": {},
     "output_type": "display_data"
    }
   ],
   "source": [
    "from cleanup_orphans import find_orphans\n",
    "from IPython.display import display, HTML\n",
    "\n",
    "\n",
    "orphan_rows, orphan_files, orphan_qdrant_records, log_df = find_orphans(\n",
    "    drive_client, sheets_client, qdrant_client)\n",
    "\n",
    "print(f\"\\nOrphan rows:\")\n",
    "if not orphan_rows.empty:\n",
    "    display(HTML(orphan_rows.to_html(notebook=True,\n",
    "            max_cols=30, max_rows=10, escape=False)))\n",
    "\n",
    "print(f\"\\nOrphan files:\")\n",
    "if not orphan_files.empty:\n",
    "    display(HTML(orphan_files.to_html(notebook=True,\n",
    "            max_cols=30, max_rows=10, escape=False)))\n",
    "\n",
    "print(f\"\\nOrphan qdrant records:\")\n",
    "if not orphan_qdrant_records.empty:\n",
    "    display(HTML(orphan_qdrant_records.to_html(notebook=True,\n",
    "            max_cols=30, max_rows=10, escape=False)))"
   ]
  },
  {
   "cell_type": "markdown",
   "id": "5303e1ba",
   "metadata": {},
   "source": [
    "### 4. Test helper functions"
   ]
  },
  {
   "cell_type": "code",
   "execution_count": null,
   "id": "da4b2cf8",
   "metadata": {},
   "outputs": [],
   "source": [
    "pdf_ids = [\n",
    "    \"f43bdf6d-07ac-5ce0-b206-db7eabb990ca\",\n",
    "    \"5098752e-4166-55f2-9f46-227901cdfc9c\",\n",
    "    \"1ff90293-9f4e-568a-a3ac-1a2e9a01838d\",\n",
    "    \"b4b536dc-7acc-5ac4-a200-e92bfc3447a3\",\n",
    "    \"712095dd-af64-5522-8d96-ce745c700fc2\",\n",
    "    \"8c9e8a61-0c9c-5650-9020-ce6a07624716\",\n",
    "    \"a23943b3-c50d-5a0e-8094-4782d5022e25\",\n",
    "    \"08b3baae-3aa2-5ccd-8c80-8ab255a45156\",\n",
    "    \"f7b993d6-1ce8-541b-81d6-0db6076062ca\",\n",
    "    \"959f3f11-e812-5b59-b2f1-07f76a9025ef\",\n",
    "    \"d10522f0-1909-55e2-b03c-6eef68f39bef\",\n",
    "    \"41363a2d-0a9c-5e19-9b57-f85cb0e8f3fe\",\n",
    "    \"12abc1d1-bec1-58b2-8763-7158f77e8698\",\n",
    "    \"2d4143fd-7432-577e-8f5f-ac482185d292\",\n",
    "    \"d354afd1-95ea-5489-9df7-3abdd322d73c\",\n",
    "    \"09544186-4593-5579-b2af-09fb953b7e86\",\n",
    "    \"4b7c9994-8f65-5a1d-8e8a-7d73f4b38de8\",\n",
    "    \"21126abd-5489-5ffa-b566-d6f365d5a74b\",\n",
    "    \"70e0849b-8f89-5242-9a40-c10b88173ac1\",\n",
    "    \"2d6a042f-0c21-54b6-bd4f-588b8be73999\",\n",
    "    \"75fddd31-e90f-5311-a38c-6d6f807d1fdc\",\n",
    "    \"52d35e10-7df5-5ab8-b2a0-110c26c6d2b2\",\n",
    "    \"3b845a10-cb3a-5014-96d8-360c8f1bf63f\",\n",
    "    \"ba4883c2-9545-5d70-868a-867eea0a7678\",\n",
    "    \"e214b5b8-9077-555d-b101-0b7eb5fef90a\",\n",
    "    \"9edb0da8-7257-59d4-9b27-5bcede517047\",\n",
    "    \"4527cfc9-f47d-5945-8e0d-9e98e1fce929\",\n",
    "    \"c15f7a15-6f60-5064-870c-123a26d86bc6\",\n",
    "    \"cc43c3f2-f44f-5df0-aab8-3f50359b0292\",\n",
    "    \"9e8faabf-0fbd-5bcf-b7e1-00b859360f17\",\n",
    "    \"bc8c6a12-932a-51ca-b40d-13fb1e6ab0a9\",\n",
    "    \"c7143b60-c938-5329-9a3e-4d3411a2827b\",\n",
    "    \"c820d16d-b010-5ca1-bd76-f877dc987c93\",\n",
    "    \"23746b1e-b829-55fc-8777-8c85ec3a9f41\",\n",
    "    \"7b5a850a-b5b2-50cf-bc87-1d5a0c92b322\",\n",
    "    \"149e15a5-8f4f-53a6-a3dc-1becb28560d4\",\n",
    "    \"d2c55494-6863-5186-a423-e83e32fad3b3\",\n",
    "    \"042ba9b7-ee51-541f-9ec5-71ed26104824\",\n",
    "    \"29d16974-c3a5-5c89-8997-262037815c93\",\n",
    "    \"25e956d7-3dd1-5126-b9b9-2407e53e2121\"\n",
    "]"
   ]
  },
  {
   "cell_type": "code",
   "execution_count": null,
   "id": "2200ff3d",
   "metadata": {},
   "outputs": [],
   "source": [
    "from IPython.display import display, HTML\n",
    "from env_config import rag_config\n",
    "from qdrant_utils import get_summaries_by_pdf_id\n",
    "\n",
    "\n",
    "summaries_df = get_summaries_by_pdf_id(\n",
    "    qdrant_client, rag_config(\"qdrant_collection_name\"), pdf_ids)\n",
    "\n",
    "if not summaries_df.empty:\n",
    "    display(HTML(summaries_df.to_html(notebook=True,\n",
    "            max_cols=30, max_rows=10, escape=False)))"
   ]
  },
  {
   "cell_type": "code",
   "execution_count": 6,
   "id": "cc2414f0",
   "metadata": {},
   "outputs": [
    {
     "name": "stderr",
     "output_type": "stream",
     "text": [
      "2025-06-12 11:00:09,340 - INFO - Sheet1\n"
     ]
    },
    {
     "name": "stdout",
     "output_type": "stream",
     "text": [
      "ALAUX_001_23\n"
     ]
    }
   ],
   "source": [
    "from gcp_utils import fetch_sheet\n",
    "\n",
    "sheet = fetch_sheet(sheets_client, config[\"LIBRARY_UNIFIED\"])\n",
    "cell_value = sheet.cell(2, 3).value  # Row 2, Column 3\n",
    "print(cell_value)"
   ]
  },
  {
   "cell_type": "code",
   "execution_count": 7,
   "id": "17175dde",
   "metadata": {},
   "outputs": [
    {
     "name": "stderr",
     "output_type": "stream",
     "text": [
      "2025-06-12 11:01:18,681 - INFO - Sheet1\n",
      "2025-06-12 11:01:18,865 - INFO - ✅ Fetched and converted worksheet 1glNjmKYloO0u6tCd5qy3z5ee8I-MkqwUxWsWEvLMBkM with 222 rows.\n"
     ]
    },
    {
     "data": {
      "application/vnd.microsoft.datawrangler.viewer.v0+json": {
       "columns": [
        {
         "name": "index",
         "rawType": "int64",
         "type": "integer"
        },
        {
         "name": "title",
         "rawType": "object",
         "type": "string"
        },
        {
         "name": "pdf_id",
         "rawType": "object",
         "type": "string"
        },
        {
         "name": "publication_number",
         "rawType": "object",
         "type": "string"
        },
        {
         "name": "organization",
         "rawType": "object",
         "type": "string"
        },
        {
         "name": "scope",
         "rawType": "object",
         "type": "string"
        },
        {
         "name": "unit",
         "rawType": "object",
         "type": "string"
        },
        {
         "name": "issue_date",
         "rawType": "object",
         "type": "string"
        },
        {
         "name": "upsert_date",
         "rawType": "object",
         "type": "string"
        },
        {
         "name": "expiration_date",
         "rawType": "object",
         "type": "string"
        },
        {
         "name": "aux_specific",
         "rawType": "object",
         "type": "string"
        },
        {
         "name": "public_release",
         "rawType": "object",
         "type": "string"
        },
        {
         "name": "pdf_file_name",
         "rawType": "object",
         "type": "string"
        },
        {
         "name": "embedding",
         "rawType": "object",
         "type": "string"
        },
        {
         "name": "google_id",
         "rawType": "object",
         "type": "string"
        },
        {
         "name": "link",
         "rawType": "object",
         "type": "string"
        },
        {
         "name": "status",
         "rawType": "object",
         "type": "string"
        },
        {
         "name": "status_timestamp",
         "rawType": "object",
         "type": "string"
        }
       ],
       "ref": "fa76ce0a-18dc-4922-a1ad-268120551cfb",
       "rows": [
        [
         "0",
         "ALAUX 001/23 EXTENSION TO AUX SOP 004A 04 Sep 20 ELECTION OF UNIT OFFICERS THROUGH THE USE OF ELECTRONIC MEANS",
         "89328d34-2b70-507e-b7ba-889ee6cf3024",
         "ALAUX_001_23",
         "CG-BSX",
         "National",
         "",
         "2023-01-12T00:00:00Z",
         "",
         "2033-01-12T00:00:00Z",
         "TRUE",
         "TRUE",
         "001_23_EXTENSION_TO_AUX_SOP_004A_04_Sep_20__ELECTION_OF_UNIT_OFFICERS_THROUGH_THE_USE_OF_ELECTRONIC_MEANS.pdf",
         "text-embedding-ada-002",
         "1Usl8gU9VM8jX8ODj9EHH_rE4QJuH3tQ5",
         "https://drive.google.com/file/d/1Usl8gU9VM8jX8ODj9EHH_rE4QJuH3tQ5",
         "live",
         ""
        ],
        [
         "1",
         "ALAUX 003/24 UPDATE RISK MANAGEMENT TRAINING REQUIREMENTS FOR THE COAST GUARD AUXILIARY AND AID TO NAVIGATION VERIFIES QUALIFICATION NAME CHANGE",
         "0309c2d2-9ffc-5f95-9dea-68515ff270c9",
         "ALAUX_003_24",
         "CG-BSX",
         "National",
         "",
         "2024-01-30T00:00:00Z",
         "",
         "2034-01-29T00:00:00Z",
         "TRUE",
         "TRUE",
         "003_24_UPDATE_RISK_MANAGEMENT_TRAINING_REQUIREMENTS_FOR_THE_COAST_GUARD_AUXILIARY_AND_AID_TO_NAVIGATION_VERIFIES_QUALIFICATION_NAME_CHANGE.pdf",
         "text-embedding-ada-002",
         "1U_ogBXiH842fxEOkW2lCeY5pkgHR_g00",
         "https://drive.google.com/file/d/1U_ogBXiH842fxEOkW2lCeY5pkgHR_g00",
         "live",
         ""
        ],
        [
         "2",
         "ALAUX 004/23 AUXILIARY COVID 19 GUIDANCE VERSION 5",
         "a603f875-b49c-5c72-bd01-40401bef19a2",
         "ALAUX_004_23",
         "CG-BSX",
         "National",
         "",
         "2023-01-20T00:00:00Z",
         "",
         "2033-01-20T00:00:00Z",
         "TRUE",
         "TRUE",
         "004_23_AUXILIARY_COVID_19_GUIDANCE_VERSION_5.pdf",
         "text-embedding-ada-002",
         "1ArwnK66rE2O6d5wxxIbjH8Ns1eeijTKG",
         "https://drive.google.com/file/d/1ArwnK66rE2O6d5wxxIbjH8Ns1eeijTKG",
         "live",
         ""
        ],
        [
         "3",
         "ALAUX 005/23 BOATING SAFETY APPLICATION FOR SMART PHONES",
         "143b6af4-fbf4-5c48-8c71-a685e3e655eb",
         "ALAUX_005_23",
         "CG-BSX",
         "National",
         "",
         "2023-01-27T00:00:00Z",
         "",
         "2033-01-26T00:00:00Z",
         "TRUE",
         "TRUE",
         "005_23_BOATING_SAFETY_APPLICATION_FOR_SMART_PHONES.pdf",
         "text-embedding-ada-002",
         "13bdh7S3HqVB5H-DSpgZ5CSlXneJmf9UF",
         "https://drive.google.com/file/d/13bdh7S3HqVB5H-DSpgZ5CSlXneJmf9UF",
         "live",
         ""
        ],
        [
         "4",
         "ALAUX 006/13 CAMPAIGN TO ELIMINATE SEXUAL ASSAULT 4JUN2013",
         "b15229c0-03ca-5ba3-8466-9c06c0535493",
         "ALAUX_006_13",
         "CG-BSX",
         "National",
         "",
         "2019-11-12T00:00:00Z",
         "",
         "2029-11-12T00:00:00Z",
         "TRUE",
         "TRUE",
         "006_13_CAMPAIGN_TO_ELIMINATE_SEXUAL_ASSAULT___4JUN2013.pdf",
         "text-embedding-ada-002",
         "1NUoA1enlRc6FnvGzAIhb7CYGuxlE0oY3",
         "https://drive.google.com/file/d/1NUoA1enlRc6FnvGzAIhb7CYGuxlE0oY3",
         "live",
         ""
        ]
       ],
       "shape": {
        "columns": 17,
        "rows": 5
       }
      },
      "text/html": [
       "<div>\n",
       "<style scoped>\n",
       "    .dataframe tbody tr th:only-of-type {\n",
       "        vertical-align: middle;\n",
       "    }\n",
       "\n",
       "    .dataframe tbody tr th {\n",
       "        vertical-align: top;\n",
       "    }\n",
       "\n",
       "    .dataframe thead th {\n",
       "        text-align: right;\n",
       "    }\n",
       "</style>\n",
       "<table border=\"1\" class=\"dataframe\">\n",
       "  <thead>\n",
       "    <tr style=\"text-align: right;\">\n",
       "      <th></th>\n",
       "      <th>title</th>\n",
       "      <th>pdf_id</th>\n",
       "      <th>publication_number</th>\n",
       "      <th>organization</th>\n",
       "      <th>scope</th>\n",
       "      <th>unit</th>\n",
       "      <th>issue_date</th>\n",
       "      <th>upsert_date</th>\n",
       "      <th>expiration_date</th>\n",
       "      <th>aux_specific</th>\n",
       "      <th>public_release</th>\n",
       "      <th>pdf_file_name</th>\n",
       "      <th>embedding</th>\n",
       "      <th>google_id</th>\n",
       "      <th>link</th>\n",
       "      <th>status</th>\n",
       "      <th>status_timestamp</th>\n",
       "    </tr>\n",
       "  </thead>\n",
       "  <tbody>\n",
       "    <tr>\n",
       "      <th>0</th>\n",
       "      <td>ALAUX 001/23 EXTENSION TO AUX SOP 004A 04 Sep ...</td>\n",
       "      <td>89328d34-2b70-507e-b7ba-889ee6cf3024</td>\n",
       "      <td>ALAUX_001_23</td>\n",
       "      <td>CG-BSX</td>\n",
       "      <td>National</td>\n",
       "      <td></td>\n",
       "      <td>2023-01-12T00:00:00Z</td>\n",
       "      <td></td>\n",
       "      <td>2033-01-12T00:00:00Z</td>\n",
       "      <td>TRUE</td>\n",
       "      <td>TRUE</td>\n",
       "      <td>001_23_EXTENSION_TO_AUX_SOP_004A_04_Sep_20__EL...</td>\n",
       "      <td>text-embedding-ada-002</td>\n",
       "      <td>1Usl8gU9VM8jX8ODj9EHH_rE4QJuH3tQ5</td>\n",
       "      <td>https://drive.google.com/file/d/1Usl8gU9VM8jX8...</td>\n",
       "      <td>live</td>\n",
       "      <td></td>\n",
       "    </tr>\n",
       "    <tr>\n",
       "      <th>1</th>\n",
       "      <td>ALAUX 003/24 UPDATE RISK MANAGEMENT TRAINING R...</td>\n",
       "      <td>0309c2d2-9ffc-5f95-9dea-68515ff270c9</td>\n",
       "      <td>ALAUX_003_24</td>\n",
       "      <td>CG-BSX</td>\n",
       "      <td>National</td>\n",
       "      <td></td>\n",
       "      <td>2024-01-30T00:00:00Z</td>\n",
       "      <td></td>\n",
       "      <td>2034-01-29T00:00:00Z</td>\n",
       "      <td>TRUE</td>\n",
       "      <td>TRUE</td>\n",
       "      <td>003_24_UPDATE_RISK_MANAGEMENT_TRAINING_REQUIRE...</td>\n",
       "      <td>text-embedding-ada-002</td>\n",
       "      <td>1U_ogBXiH842fxEOkW2lCeY5pkgHR_g00</td>\n",
       "      <td>https://drive.google.com/file/d/1U_ogBXiH842fx...</td>\n",
       "      <td>live</td>\n",
       "      <td></td>\n",
       "    </tr>\n",
       "    <tr>\n",
       "      <th>2</th>\n",
       "      <td>ALAUX 004/23 AUXILIARY COVID 19 GUIDANCE VERSI...</td>\n",
       "      <td>a603f875-b49c-5c72-bd01-40401bef19a2</td>\n",
       "      <td>ALAUX_004_23</td>\n",
       "      <td>CG-BSX</td>\n",
       "      <td>National</td>\n",
       "      <td></td>\n",
       "      <td>2023-01-20T00:00:00Z</td>\n",
       "      <td></td>\n",
       "      <td>2033-01-20T00:00:00Z</td>\n",
       "      <td>TRUE</td>\n",
       "      <td>TRUE</td>\n",
       "      <td>004_23_AUXILIARY_COVID_19_GUIDANCE_VERSION_5.pdf</td>\n",
       "      <td>text-embedding-ada-002</td>\n",
       "      <td>1ArwnK66rE2O6d5wxxIbjH8Ns1eeijTKG</td>\n",
       "      <td>https://drive.google.com/file/d/1ArwnK66rE2O6d...</td>\n",
       "      <td>live</td>\n",
       "      <td></td>\n",
       "    </tr>\n",
       "    <tr>\n",
       "      <th>3</th>\n",
       "      <td>ALAUX 005/23 BOATING SAFETY APPLICATION FOR SM...</td>\n",
       "      <td>143b6af4-fbf4-5c48-8c71-a685e3e655eb</td>\n",
       "      <td>ALAUX_005_23</td>\n",
       "      <td>CG-BSX</td>\n",
       "      <td>National</td>\n",
       "      <td></td>\n",
       "      <td>2023-01-27T00:00:00Z</td>\n",
       "      <td></td>\n",
       "      <td>2033-01-26T00:00:00Z</td>\n",
       "      <td>TRUE</td>\n",
       "      <td>TRUE</td>\n",
       "      <td>005_23_BOATING_SAFETY_APPLICATION_FOR_SMART_PH...</td>\n",
       "      <td>text-embedding-ada-002</td>\n",
       "      <td>13bdh7S3HqVB5H-DSpgZ5CSlXneJmf9UF</td>\n",
       "      <td>https://drive.google.com/file/d/13bdh7S3HqVB5H...</td>\n",
       "      <td>live</td>\n",
       "      <td></td>\n",
       "    </tr>\n",
       "    <tr>\n",
       "      <th>4</th>\n",
       "      <td>ALAUX 006/13 CAMPAIGN TO ELIMINATE SEXUAL ASSA...</td>\n",
       "      <td>b15229c0-03ca-5ba3-8466-9c06c0535493</td>\n",
       "      <td>ALAUX_006_13</td>\n",
       "      <td>CG-BSX</td>\n",
       "      <td>National</td>\n",
       "      <td></td>\n",
       "      <td>2019-11-12T00:00:00Z</td>\n",
       "      <td></td>\n",
       "      <td>2029-11-12T00:00:00Z</td>\n",
       "      <td>TRUE</td>\n",
       "      <td>TRUE</td>\n",
       "      <td>006_13_CAMPAIGN_TO_ELIMINATE_SEXUAL_ASSAULT___...</td>\n",
       "      <td>text-embedding-ada-002</td>\n",
       "      <td>1NUoA1enlRc6FnvGzAIhb7CYGuxlE0oY3</td>\n",
       "      <td>https://drive.google.com/file/d/1NUoA1enlRc6Fn...</td>\n",
       "      <td>live</td>\n",
       "      <td></td>\n",
       "    </tr>\n",
       "  </tbody>\n",
       "</table>\n",
       "</div>"
      ],
      "text/plain": [
       "                                               title  \\\n",
       "0  ALAUX 001/23 EXTENSION TO AUX SOP 004A 04 Sep ...   \n",
       "1  ALAUX 003/24 UPDATE RISK MANAGEMENT TRAINING R...   \n",
       "2  ALAUX 004/23 AUXILIARY COVID 19 GUIDANCE VERSI...   \n",
       "3  ALAUX 005/23 BOATING SAFETY APPLICATION FOR SM...   \n",
       "4  ALAUX 006/13 CAMPAIGN TO ELIMINATE SEXUAL ASSA...   \n",
       "\n",
       "                                 pdf_id publication_number organization  \\\n",
       "0  89328d34-2b70-507e-b7ba-889ee6cf3024       ALAUX_001_23       CG-BSX   \n",
       "1  0309c2d2-9ffc-5f95-9dea-68515ff270c9       ALAUX_003_24       CG-BSX   \n",
       "2  a603f875-b49c-5c72-bd01-40401bef19a2       ALAUX_004_23       CG-BSX   \n",
       "3  143b6af4-fbf4-5c48-8c71-a685e3e655eb       ALAUX_005_23       CG-BSX   \n",
       "4  b15229c0-03ca-5ba3-8466-9c06c0535493       ALAUX_006_13       CG-BSX   \n",
       "\n",
       "      scope unit            issue_date upsert_date       expiration_date  \\\n",
       "0  National       2023-01-12T00:00:00Z              2033-01-12T00:00:00Z   \n",
       "1  National       2024-01-30T00:00:00Z              2034-01-29T00:00:00Z   \n",
       "2  National       2023-01-20T00:00:00Z              2033-01-20T00:00:00Z   \n",
       "3  National       2023-01-27T00:00:00Z              2033-01-26T00:00:00Z   \n",
       "4  National       2019-11-12T00:00:00Z              2029-11-12T00:00:00Z   \n",
       "\n",
       "  aux_specific public_release  \\\n",
       "0         TRUE           TRUE   \n",
       "1         TRUE           TRUE   \n",
       "2         TRUE           TRUE   \n",
       "3         TRUE           TRUE   \n",
       "4         TRUE           TRUE   \n",
       "\n",
       "                                       pdf_file_name               embedding  \\\n",
       "0  001_23_EXTENSION_TO_AUX_SOP_004A_04_Sep_20__EL...  text-embedding-ada-002   \n",
       "1  003_24_UPDATE_RISK_MANAGEMENT_TRAINING_REQUIRE...  text-embedding-ada-002   \n",
       "2   004_23_AUXILIARY_COVID_19_GUIDANCE_VERSION_5.pdf  text-embedding-ada-002   \n",
       "3  005_23_BOATING_SAFETY_APPLICATION_FOR_SMART_PH...  text-embedding-ada-002   \n",
       "4  006_13_CAMPAIGN_TO_ELIMINATE_SEXUAL_ASSAULT___...  text-embedding-ada-002   \n",
       "\n",
       "                           google_id  \\\n",
       "0  1Usl8gU9VM8jX8ODj9EHH_rE4QJuH3tQ5   \n",
       "1  1U_ogBXiH842fxEOkW2lCeY5pkgHR_g00   \n",
       "2  1ArwnK66rE2O6d5wxxIbjH8Ns1eeijTKG   \n",
       "3  13bdh7S3HqVB5H-DSpgZ5CSlXneJmf9UF   \n",
       "4  1NUoA1enlRc6FnvGzAIhb7CYGuxlE0oY3   \n",
       "\n",
       "                                                link status status_timestamp  \n",
       "0  https://drive.google.com/file/d/1Usl8gU9VM8jX8...   live                   \n",
       "1  https://drive.google.com/file/d/1U_ogBXiH842fx...   live                   \n",
       "2  https://drive.google.com/file/d/1ArwnK66rE2O6d...   live                   \n",
       "3  https://drive.google.com/file/d/13bdh7S3HqVB5H...   live                   \n",
       "4  https://drive.google.com/file/d/1NUoA1enlRc6Fn...   live                   "
      ]
     },
     "metadata": {},
     "output_type": "display_data"
    }
   ],
   "source": [
    "from library_utils import fetch_rows_by_status, remove_rows\n",
    "from gcp_utils import get_folder_name, fetch_sheet_as_df, file_exists\n",
    "import pandas as pd\n",
    "\n",
    "library_df = fetch_sheet_as_df(sheets_client, config[\"LIBRARY_UNIFIED\"])\n",
    "display(library_df.head())"
   ]
  },
  {
   "cell_type": "code",
   "execution_count": null,
   "id": "eb8cbec4",
   "metadata": {},
   "outputs": [],
   "source": []
  }
 ],
 "metadata": {
  "kernelspec": {
   "display_name": ".venv-main",
   "language": "python",
   "name": "python3"
  },
  "language_info": {
   "codemirror_mode": {
    "name": "ipython",
    "version": 3
   },
   "file_extension": ".py",
   "mimetype": "text/x-python",
   "name": "python",
   "nbconvert_exporter": "python",
   "pygments_lexer": "ipython3",
   "version": "3.11.9"
  }
 },
 "nbformat": 4,
 "nbformat_minor": 5
}
