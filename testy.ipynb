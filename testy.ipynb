{
 "cells": [
  {
   "cell_type": "code",
   "execution_count": 1,
   "id": "9225f9c8",
   "metadata": {},
   "outputs": [
    {
     "name": "stderr",
     "output_type": "stream",
     "text": [
      "2025-06-09 21:15:35,109 - INFO - Loaded local .env file from /Users/drew_wilkins/Drews_Files/Drew/Python/Localcode/.env\n",
      "2025-06-09 21:15:35,109 - INFO - Running in context: CLI\n",
      "2025-06-09 21:15:35,109 - INFO - Force authentication: False\n"
     ]
    }
   ],
   "source": [
    "import os\n",
    "from env_config import set_env_vars\n",
    "\n",
    "# --- Load environment variables and secrets ---\n",
    "set_env_vars()"
   ]
  },
  {
   "cell_type": "code",
   "execution_count": 2,
   "id": "96edf1f3",
   "metadata": {},
   "outputs": [
    {
     "name": "stderr",
     "output_type": "stream",
     "text": [
      "2025-06-09 21:15:37,025 - INFO - file_cache is only supported with oauth2client<4.0.0\n",
      "2025-06-09 21:15:37,027 - INFO - Initializing Qdrant client in 'cloud' mode...\n",
      "2025-06-09 21:15:37,488 - INFO - HTTP Request: GET https://0c82e035-1105-40f2-a0bd-ecc44a016f15.us-east4-0.gcp.cloud.qdrant.io:6333 \"HTTP/1.1 200 OK\"\n",
      "2025-06-09 21:15:37,566 - INFO - HTTP Request: GET https://0c82e035-1105-40f2-a0bd-ecc44a016f15.us-east4-0.gcp.cloud.qdrant.io:6333/collections \"HTTP/1.1 200 OK\"\n",
      "2025-06-09 21:15:37,568 - INFO - Available Qdrant collections: ['ASK_vectorstore', 'ask_pdf_docs', 'ASK_vectorstore-backup21APR2025', 'ask_pdf_pages']\n",
      "2025-06-09 21:15:37,568 - INFO - ✅ Confirmed Qdrant collection 'ASK_vectorstore' exists\n"
     ]
    }
   ],
   "source": [
    "from gcp_utils import get_gcp_credentials, init_sheets_client, init_drive_client\n",
    "from qdrant_utils import init_qdrant_client\n",
    "\n",
    "creds = get_gcp_credentials()\n",
    "sheets_client = init_sheets_client(creds)\n",
    "drive_client = init_drive_client(creds)\n",
    "qdrant_client = init_qdrant_client(\"cloud\")"
   ]
  },
  {
   "cell_type": "markdown",
   "id": "12816496",
   "metadata": {},
   "source": [
    "### Run your functions to test in the cells below"
   ]
  },
  {
   "cell_type": "markdown",
   "id": "7abf0374",
   "metadata": {},
   "source": [
    "Delete tagged\n"
   ]
  },
  {
   "cell_type": "code",
   "execution_count": null,
   "id": "9bbe0b59",
   "metadata": {},
   "outputs": [],
   "source": [
    "from delete_tagged import delete_tagged\n",
    "\n",
    "\n",
    "deleted_rows_df = delete_tagged(drive_client, sheets_client, qdrant_client)"
   ]
  },
  {
   "cell_type": "markdown",
   "id": "24907ec8",
   "metadata": {},
   "source": [
    "Validate row"
   ]
  },
  {
   "cell_type": "code",
   "execution_count": 3,
   "id": "82f04b60",
   "metadata": {},
   "outputs": [
    {
     "name": "stderr",
     "output_type": "stream",
     "text": [
      "2025-06-09 21:15:40,080 - INFO - ✅ Found 221 valid rows in LIBRARY_UNIFIED.\n",
      "2025-06-09 21:15:40,080 - INFO - ⚠️ Found 2 invalid rows in LIBRARY_UNIFIED.\n"
     ]
    },
    {
     "name": "stdout",
     "output_type": "stream",
     "text": [
      "\n",
      "Invalid rows:\n"
     ]
    },
    {
     "data": {
      "text/html": [
       "<div>\n",
       "<style scoped>\n",
       "    .dataframe tbody tr th:only-of-type {\n",
       "        vertical-align: middle;\n",
       "    }\n",
       "\n",
       "    .dataframe tbody tr th {\n",
       "        vertical-align: top;\n",
       "    }\n",
       "\n",
       "    .dataframe thead th {\n",
       "        text-align: right;\n",
       "    }\n",
       "</style>\n",
       "<table border=\"1\" class=\"dataframe\">\n",
       "  <thead>\n",
       "    <tr style=\"text-align: right;\">\n",
       "      <th></th>\n",
       "      <th>issues</th>\n",
       "      <th>title</th>\n",
       "      <th>pdf_id</th>\n",
       "      <th>publication_number</th>\n",
       "      <th>organization</th>\n",
       "      <th>scope</th>\n",
       "      <th>unit</th>\n",
       "      <th>issue_date</th>\n",
       "      <th>upsert_date</th>\n",
       "      <th>expiration_date</th>\n",
       "      <th>aux_specific</th>\n",
       "      <th>public_release</th>\n",
       "      <th>pdf_file_name</th>\n",
       "      <th>embedding</th>\n",
       "      <th>google_id</th>\n",
       "      <th>link</th>\n",
       "      <th>status</th>\n",
       "      <th>status_timestamp</th>\n",
       "    </tr>\n",
       "  </thead>\n",
       "  <tbody>\n",
       "    <tr>\n",
       "      <th>166</th>\n",
       "      <td>missing_required_fields: ['google_id', 'link']</td>\n",
       "      <td>COAST GUARD EXTERNAL AFFAIRS MANUAL, COMDTINST...</td>\n",
       "      <td>d354afd1-95ea-5489-9df7-3abdd322d73c</td>\n",
       "      <td>COMDTINST M5700.13A</td>\n",
       "      <td>CG-092</td>\n",
       "      <td>National</td>\n",
       "      <td></td>\n",
       "      <td>2021-05-12T00:00:00Z</td>\n",
       "      <td></td>\n",
       "      <td>2031-05-13T00:00:00Z</td>\n",
       "      <td>FALSE</td>\n",
       "      <td>TRUE</td>\n",
       "      <td>CG Public Affairs CIM_5700_13A_2021-05-01.pdf</td>\n",
       "      <td>text-embedding-ada-002</td>\n",
       "      <td></td>\n",
       "      <td></td>\n",
       "      <td>orphan_row</td>\n",
       "      <td></td>\n",
       "    </tr>\n",
       "    <tr>\n",
       "      <th>222</th>\n",
       "      <td>missing_required_fields: ['title', 'scope', 'i...</td>\n",
       "      <td></td>\n",
       "      <td>6b32e367-c17c-52bb-b913-e6452d5fe307</td>\n",
       "      <td></td>\n",
       "      <td></td>\n",
       "      <td></td>\n",
       "      <td></td>\n",
       "      <td></td>\n",
       "      <td></td>\n",
       "      <td></td>\n",
       "      <td></td>\n",
       "      <td></td>\n",
       "      <td>Waxtree Ligstrum Privet floral accord solution...</td>\n",
       "      <td></td>\n",
       "      <td>1acYv9NONs4yx8eND59t3y5vnS_jEVM7G</td>\n",
       "      <td>https://drive.google.com/file/d/1acYv9NONs4yx8...</td>\n",
       "      <td></td>\n",
       "      <td>2025-05-23T18:39:11Z</td>\n",
       "    </tr>\n",
       "  </tbody>\n",
       "</table>\n",
       "</div>"
      ],
      "text/plain": [
       "<IPython.core.display.HTML object>"
      ]
     },
     "metadata": {},
     "output_type": "display_data"
    }
   ],
   "source": [
    "from gcp_utils import fetch_sheet_as_df\n",
    "from library_utils import validate_all_rows_format\n",
    "from IPython.display import display, HTML\n",
    "\n",
    "\n",
    "library_df = fetch_sheet_as_df(sheets_client, os.environ[\"LIBRARY_UNIFIED\"])\n",
    "valid_df, invalid_df, log_df = validate_all_rows_format(library_df)\n",
    "\n",
    "print(f\"\\nInvalid rows:\")\n",
    "if not invalid_df.empty:\n",
    "    display(HTML(invalid_df.to_html(notebook=True,\n",
    "            max_cols=30, max_rows=10, escape=False)))"
   ]
  },
  {
   "cell_type": "markdown",
   "id": "7f767ddd",
   "metadata": {},
   "source": [
    "cleanup orphans"
   ]
  },
  {
   "cell_type": "code",
   "execution_count": null,
   "id": "d1d1660a",
   "metadata": {},
   "outputs": [],
   "source": [
    "from cleanup_orphans import find_orphans\n",
    "from IPython.display import display, HTML\n",
    "\n",
    "\n",
    "orphan_rows, orphan_files, orphan_qdrant_records, log_df = find_orphans(\n",
    "    drive_client, sheets_client, qdrant_client)\n",
    "\n",
    "print(f\"\\nOrphan rows:\")\n",
    "if not orphan_rows.empty:\n",
    "    display(HTML(orphan_rows.to_html(notebook=True,\n",
    "            max_cols=30, max_rows=10, escape=False)))\n",
    "\n",
    "print(f\"\\nOrphan files:\")\n",
    "if not orphan_files.empty:\n",
    "    display(HTML(orphan_files.to_html(notebook=True,\n",
    "            max_cols=30, max_rows=10, escape=False)))\n",
    "\n",
    "print(f\"\\nOrphan qdrant records:\")\n",
    "if not orphan_qdrant_records.empty:\n",
    "    display(HTML(orphan_qdrant_records.to_html(notebook=True,\n",
    "            max_cols=30, max_rows=10, escape=False)))"
   ]
  },
  {
   "cell_type": "code",
   "execution_count": null,
   "id": "2200ff3d",
   "metadata": {},
   "outputs": [],
   "source": []
  }
 ],
 "metadata": {
  "kernelspec": {
   "display_name": ".venv-main",
   "language": "python",
   "name": "python3"
  },
  "language_info": {
   "codemirror_mode": {
    "name": "ipython",
    "version": 3
   },
   "file_extension": ".py",
   "mimetype": "text/x-python",
   "name": "python",
   "nbconvert_exporter": "python",
   "pygments_lexer": "ipython3",
   "version": "3.11.9"
  }
 },
 "nbformat": 4,
 "nbformat_minor": 5
}
