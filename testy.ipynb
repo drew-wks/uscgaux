{
 "cells": [
  {
   "cell_type": "code",
   "execution_count": 1,
   "id": "9225f9c8",
   "metadata": {},
   "outputs": [
    {
     "name": "stderr",
     "output_type": "stream",
     "text": [
      "2025-06-05 18:44:17,000 - INFO - Loaded local .env file from /Users/drew_wilkins/Drews_Files/Drew/Python/Localcode/.env\n",
      "2025-06-05 18:44:17,000 - INFO - Running in context: CLI\n",
      "2025-06-05 18:44:17,000 - INFO - Force authentication: False\n"
     ]
    }
   ],
   "source": [
    "import os\n",
    "from env_config import set_env_vars\n",
    "\n",
    "# --- Load environment variables and secrets ---\n",
    "set_env_vars()"
   ]
  },
  {
   "cell_type": "code",
   "execution_count": 2,
   "id": "96edf1f3",
   "metadata": {},
   "outputs": [
    {
     "name": "stderr",
     "output_type": "stream",
     "text": [
      "2025-06-05 18:44:22,473 - INFO - Loaded local .env file from /Users/drew_wilkins/Drews_Files/Drew/Python/Localcode/.env\n",
      "2025-06-05 18:44:22,474 - INFO - Running in context: CLI\n",
      "2025-06-05 18:44:22,474 - INFO - Force authentication: False\n",
      "2025-06-05 18:44:22,519 - INFO - file_cache is only supported with oauth2client<4.0.0\n",
      "2025-06-05 18:44:22,520 - INFO - cloud\n",
      "2025-06-05 18:44:22,814 - INFO - HTTP Request: GET https://0c82e035-1105-40f2-a0bd-ecc44a016f15.us-east4-0.gcp.cloud.qdrant.io:6333 \"HTTP/1.1 200 OK\"\n"
     ]
    }
   ],
   "source": [
    "from gcp_utils import get_gcp_credentials, get_sheets_client, get_drive_client\n",
    "from qdrant_utils import get_qdrant_client\n",
    "\n",
    "creds = get_gcp_credentials()\n",
    "sheets_client = get_sheets_client(creds)\n",
    "drive_client = get_drive_client(creds)\n",
    "qdrant_client = get_qdrant_client(\"cloud\")"
   ]
  },
  {
   "cell_type": "markdown",
   "id": "12816496",
   "metadata": {},
   "source": [
    "### Run your functions to test in the cells below"
   ]
  },
  {
   "cell_type": "code",
   "execution_count": null,
   "id": "9bbe0b59",
   "metadata": {},
   "outputs": [
    {
     "name": "stderr",
     "output_type": "stream",
     "text": [
      "2025-06-04 20:07:12,339 - INFO - Found 0 rows matching keywords: ['deletion']\n",
      "2025-06-04 20:07:12,340 - INFO - No rows marked for deletion.\n"
     ]
    },
    {
     "name": "stdout",
     "output_type": "stream",
     "text": [
      "\n",
      "Deleted rows: \n",
      "None\n"
     ]
    }
   ],
   "source": [
    "from delete_tagged import delete_tagged\n",
    "\n",
    "\n",
    "deleted_rows_df = delete_tagged(drive_client, sheets_client)\n",
    "\n",
    "print(f\"\\nDeleted rows: \\n{deleted_rows_df}\")"
   ]
  },
  {
   "cell_type": "code",
   "execution_count": 3,
   "id": "82f04b60",
   "metadata": {},
   "outputs": [
    {
     "ename": "NameError",
     "evalue": "name 'fetch_sheet_as_df' is not defined",
     "output_type": "error",
     "traceback": [
      "\u001b[31m---------------------------------------------------------------------------\u001b[39m",
      "\u001b[31mNameError\u001b[39m                                 Traceback (most recent call last)",
      "\u001b[36mCell\u001b[39m\u001b[36m \u001b[39m\u001b[32mIn[3]\u001b[39m\u001b[32m, line 4\u001b[39m\n\u001b[32m      1\u001b[39m \u001b[38;5;28;01mfrom\u001b[39;00m\u001b[38;5;250m \u001b[39m\u001b[34;01mlibrary_utils\u001b[39;00m\u001b[38;5;250m \u001b[39m\u001b[38;5;28;01mimport\u001b[39;00m validate_rows\n\u001b[32m----> \u001b[39m\u001b[32m4\u001b[39m valid_df, invalid_df, log_df = \u001b[43mvalidate_rows\u001b[49m\u001b[43m(\u001b[49m\u001b[43msheets_client\u001b[49m\u001b[43m)\u001b[49m\n\u001b[32m      5\u001b[39m \u001b[38;5;28mprint\u001b[39m(\u001b[33mf\u001b[39m\u001b[33m\"\u001b[39m\u001b[38;5;130;01m\\n\u001b[39;00m\u001b[33mInvalid rows:\u001b[39m\u001b[38;5;130;01m\\n\u001b[39;00m\u001b[38;5;132;01m{\u001b[39;00minvalid_df\u001b[38;5;132;01m}\u001b[39;00m\u001b[33m\"\u001b[39m)\n",
      "\u001b[36mFile \u001b[39m\u001b[32m~/Drews_Files/Drew/Python/Repositories/uscgaux/library_utils.py:226\u001b[39m, in \u001b[36mvalidate_rows\u001b[39m\u001b[34m(sheets_client)\u001b[39m\n\u001b[32m    210\u001b[39m \u001b[38;5;28;01mdef\u001b[39;00m\u001b[38;5;250m \u001b[39m\u001b[34mvalidate_rows\u001b[39m(sheets_client):\n\u001b[32m    211\u001b[39m \u001b[38;5;250m    \u001b[39m\u001b[33;03m\"\"\"\u001b[39;00m\n\u001b[32m    212\u001b[39m \u001b[33;03m    Validates all rows in the spreadsheet regardless of status.\u001b[39;00m\n\u001b[32m    213\u001b[39m \u001b[33;03m    \u001b[39;00m\n\u001b[32m   (...)\u001b[39m\u001b[32m    223\u001b[39m \u001b[33;03m        log_df (DataFrame): DataFrame of log entries for valid and invalid cases\u001b[39;00m\n\u001b[32m    224\u001b[39m \u001b[33;03m    \"\"\"\u001b[39;00m\n\u001b[32m--> \u001b[39m\u001b[32m226\u001b[39m     df = \u001b[43mfetch_sheet_as_df\u001b[49m(sheets_client, os.environ[\u001b[33m\"\u001b[39m\u001b[33mLIBRARY_UNIFIED\u001b[39m\u001b[33m\"\u001b[39m])\n\u001b[32m    227\u001b[39m     headers = df.columns.tolist()\n\u001b[32m    229\u001b[39m     ignored_fields = {\u001b[33m\"\u001b[39m\u001b[33mpublication_number\u001b[39m\u001b[33m\"\u001b[39m, \u001b[33m\"\u001b[39m\u001b[33morganization\u001b[39m\u001b[33m\"\u001b[39m, \u001b[33m\"\u001b[39m\u001b[33munit\u001b[39m\u001b[33m\"\u001b[39m, \u001b[33m\"\u001b[39m\u001b[33mupsert_date\u001b[39m\u001b[33m\"\u001b[39m, \u001b[33m\"\u001b[39m\u001b[33mstatus\u001b[39m\u001b[33m\"\u001b[39m, \u001b[33m\"\u001b[39m\u001b[33mstatus_timestamp\u001b[39m\u001b[33m\"\u001b[39m}\n",
      "\u001b[31mNameError\u001b[39m: name 'fetch_sheet_as_df' is not defined"
     ]
    }
   ],
   "source": [
    "from library_utils import validate_rows\n",
    "\n",
    "\n",
    "valid_df, invalid_df, log_df = validate_rows(sheets_client)\n",
    "print(f\"\\nInvalid rows:\\n{invalid_df}\")"
   ]
  },
  {
   "cell_type": "code",
   "execution_count": 9,
   "id": "d1d1660a",
   "metadata": {},
   "outputs": [
    {
     "name": "stderr",
     "output_type": "stream",
     "text": [
      "2025-06-04 20:07:55,728 - INFO - Catalogging PDF_TAGGING for orphan review\n",
      "2025-06-04 20:07:56,283 - INFO - Catalogging PDF_LIVE for orphan review\n",
      "2025-06-04 20:07:58,256 - INFO - ✅ Found 1 orphan rows in LIBRARY_UNIFIED.\n",
      "2025-06-04 20:07:58,661 - INFO - ✅ Found 18 orphan files in Google Drive folders.\n"
     ]
    },
    {
     "name": "stdout",
     "output_type": "stream",
     "text": [
      "\n",
      "Orphan rows:\n",
      "                                                 title  \\\n",
      "166  COAST GUARD EXTERNAL AFFAIRS MANUAL, COMDTINST...   \n",
      "\n",
      "                                   pdf_id   publication_number organization  \\\n",
      "166  d354afd1-95ea-5489-9df7-3abdd322d73c  COMDTINST M5700.13A       CG-092   \n",
      "\n",
      "        scope unit            issue_date upsert_date       expiration_date  \\\n",
      "166  National       2021-05-12T00:00:00Z              2031-05-13T00:00:00Z   \n",
      "\n",
      "    aux_specific public_release  \\\n",
      "166        FALSE           TRUE   \n",
      "\n",
      "                                     pdf_file_name               embedding  \\\n",
      "166  CG Public Affairs CIM_5700_13A_2021-05-01.pdf  text-embedding-ada-002   \n",
      "\n",
      "    google_id link      status status_timestamp  \n",
      "166                 orphan_row                   \n",
      "\n",
      "Orphan files:\n",
      "                                    ID  \\\n",
      "16   1R6DtX_1jTKf3WEDARSmW2Ad7WbbxuClG   \n",
      "40   1C_VU-mFfnEovVaSFeqz0EhDvcPMvqjwa   \n",
      "41   1xO12dBYJBxVP7XBqBIRpYYN4dHynmRhh   \n",
      "43   19Ql6ALvx6LEGlYTdOgWTEzosc5LnWCXq   \n",
      "59   15CV77p3T5BQPOhHz1vdIEbA82KIEYEDM   \n",
      "68   1mgQqZ8Ki2ANxmjNnZwAIzIuNR9Fz8sqk   \n",
      "73   1_wtJKhWacgTDjZDZQ6Ps0QaHLYQR_gnT   \n",
      "89   1vpQ669Me6zKWHRKWmkfx-fdhgbzg86BZ   \n",
      "105  1YsXGAsb4-Yqs5b7a3pBHbkIUPYrpJ8nY   \n",
      "113  1N2t2J8vHuxGmq6UEaU8u7wnd8uQmOVxO   \n",
      "122  1vrKKvyPIE0SZFZoTltnjRIu89c-fXnDX   \n",
      "125  1JMJle3qgrEHoCZwPOX9U00hEJA_vLz1T   \n",
      "136  1Twnv1OxOO0SxR4S-lCYZajGHAZLoqkkU   \n",
      "138  1m8aKoPaThcwAK4dfFaJGkaI6JxA1ngxK   \n",
      "168  17Bevh6ZUi2L0vz0xSfL947_KRpQY3kpz   \n",
      "169  1X_EltW4CzIG5ZxxZAf866GOKU_EySqKe   \n",
      "185  1CTodsNNKKvVzVvzIDkgpA-feqwe65A9W   \n",
      "221  1fl5nHKq3F7UJ-lPvIpybYkzyCvNs-EuW   \n",
      "\n",
      "                                                  Name  \\\n",
      "16        2024-2026_Strategic_Plan_-_November_2024.pdf   \n",
      "40   10_15_AUXILIARY_MANDATED_TRAINING__AUXMT____NE...   \n",
      "41            ALAUX_002_24_2024_NATIONAL_WORKSHOPS.pdf   \n",
      "43      06_19_AUXILIARY_HUMANITARIAN_SERVICE_AWARD.pdf   \n",
      "59                       VE_workshop_Dec_4_22_2023.pdf   \n",
      "68   19_15_AUXILIARY_MANDATED_TRAINING__AUXMT____FA...   \n",
      "73             TelecommsWorkshop Final 2024 v1.7 2.pdf   \n",
      "89   007_13_ALCOAST_253_13___AUXILIARY_FOOD_SERVICE...   \n",
      "105        Air Operations Workshop - Final 2024 v1.pdf   \n",
      "113              022_22_AUXILIARY_POLICY_STATEMENT.pdf   \n",
      "122           AUXCA SANITATION WORKSHOP MARCH 2022.pdf   \n",
      "125  12_14_SIXTH_ANNUAL_OPERATION_DRY_WATER___26JUN...   \n",
      "136             Program_Visitation_Workshop-B_2019.pdf   \n",
      "138                Surface Workshop Final 2024  v1.pdf   \n",
      "168  AUXFS Training and Qualification Guide_H-Dir_2...   \n",
      "169  12_15_TEMPORARY_SUSPENSION_OF_UDC_Istore___12J...   \n",
      "185     IT Instructor WORKSHOP 2023 Jan 2023 Final.pdf   \n",
      "221     CG Public Affairs  CIM_5700_13A_2021-05-01.pdf   \n",
      "\n",
      "                                                   URL source_folder  \\\n",
      "16   https://drive.google.com/file/d/1R6DtX_1jTKf3W...      PDF_LIVE   \n",
      "40   https://drive.google.com/file/d/1C_VU-mFfnEovV...      PDF_LIVE   \n",
      "41   https://drive.google.com/file/d/1xO12dBYJBxVP7...      PDF_LIVE   \n",
      "43   https://drive.google.com/file/d/19Ql6ALvx6LEGl...      PDF_LIVE   \n",
      "59   https://drive.google.com/file/d/15CV77p3T5BQPO...      PDF_LIVE   \n",
      "68   https://drive.google.com/file/d/1mgQqZ8Ki2ANxm...      PDF_LIVE   \n",
      "73   https://drive.google.com/file/d/1_wtJKhWacgTDj...      PDF_LIVE   \n",
      "89   https://drive.google.com/file/d/1vpQ669Me6zKWH...      PDF_LIVE   \n",
      "105  https://drive.google.com/file/d/1YsXGAsb4-Yqs5...      PDF_LIVE   \n",
      "113  https://drive.google.com/file/d/1N2t2J8vHuxGmq...      PDF_LIVE   \n",
      "122  https://drive.google.com/file/d/1vrKKvyPIE0SZF...      PDF_LIVE   \n",
      "125  https://drive.google.com/file/d/1JMJle3qgrEHoC...      PDF_LIVE   \n",
      "136  https://drive.google.com/file/d/1Twnv1OxOO0SxR...      PDF_LIVE   \n",
      "138  https://drive.google.com/file/d/1m8aKoPaThcwAK...      PDF_LIVE   \n",
      "168  https://drive.google.com/file/d/17Bevh6ZUi2L0v...      PDF_LIVE   \n",
      "169  https://drive.google.com/file/d/1X_EltW4CzIG5Z...      PDF_LIVE   \n",
      "185  https://drive.google.com/file/d/1CTodsNNKKvVzV...      PDF_LIVE   \n",
      "221  https://drive.google.com/file/d/1fl5nHKq3F7UJ-...      PDF_LIVE   \n",
      "\n",
      "                                                pdf_id  \n",
      "16            2024-2026_Strategic_Plan_-_November_2024  \n",
      "40   10_15_AUXILIARY_MANDATED_TRAINING__AUXMT____NE...  \n",
      "41                ALAUX_002_24_2024_NATIONAL_WORKSHOPS  \n",
      "43          06_19_AUXILIARY_HUMANITARIAN_SERVICE_AWARD  \n",
      "59                           VE_workshop_Dec_4_22_2023  \n",
      "68   19_15_AUXILIARY_MANDATED_TRAINING__AUXMT____FA...  \n",
      "73                 TelecommsWorkshop Final 2024 v1.7 2  \n",
      "89   007_13_ALCOAST_253_13___AUXILIARY_FOOD_SERVICE...  \n",
      "105            Air Operations Workshop - Final 2024 v1  \n",
      "113                  022_22_AUXILIARY_POLICY_STATEMENT  \n",
      "122               AUXCA SANITATION WORKSHOP MARCH 2022  \n",
      "125  12_14_SIXTH_ANNUAL_OPERATION_DRY_WATER___26JUN...  \n",
      "136                 Program_Visitation_Workshop-B_2019  \n",
      "138                    Surface Workshop Final 2024  v1  \n",
      "168  AUXFS Training and Qualification Guide_H-Dir_2014  \n",
      "169  12_15_TEMPORARY_SUSPENSION_OF_UDC_Istore___12J...  \n",
      "185         IT Instructor WORKSHOP 2023 Jan 2023 Final  \n",
      "221         CG Public Affairs  CIM_5700_13A_2021-05-01  \n"
     ]
    }
   ],
   "source": [
    "from find_orphans import find_orphans\n",
    "\n",
    "orphan_rows_df, orphan_files_df, log_output = find_orphans(\n",
    "    drive_client, sheets_client)\n",
    "\n",
    "print(f\"\\nOrphan rows:\\n{orphan_rows_df}\")\n",
    "print(f\"\\nOrphan files:\\n{orphan_files_df}\")"
   ]
  },
  {
   "cell_type": "code",
   "execution_count": null,
   "id": "8522d261",
   "metadata": {},
   "outputs": [],
   "source": []
  }
 ],
 "metadata": {
  "kernelspec": {
   "display_name": ".venv-main",
   "language": "python",
   "name": "python3"
  },
  "language_info": {
   "codemirror_mode": {
    "name": "ipython",
    "version": 3
   },
   "file_extension": ".py",
   "mimetype": "text/x-python",
   "name": "python",
   "nbconvert_exporter": "python",
   "pygments_lexer": "ipython3",
   "version": "3.11.9"
  }
 },
 "nbformat": 4,
 "nbformat_minor": 5
}
