{
 "cells": [
  {
   "cell_type": "markdown",
   "id": "a317e1f4",
   "metadata": {},
   "source": [
    "### 1. Set environmental variables"
   ]
  },
  {
   "cell_type": "code",
   "execution_count": 1,
   "id": "9225f9c8",
   "metadata": {},
   "outputs": [
    {
     "name": "stderr",
     "output_type": "stream",
     "text": [
      "2025-06-14 10:48:23,689 - INFO - No .env file found at /Users/drew_wilkins/Drews_Files/Drew/Python/Repositories/.env\n",
      "2025-06-14 10:48:23,689 - INFO - Running in context: streamlit\n",
      "2025-06-14 10:48:23,689 - INFO - Force user authentication: False\n",
      "2025-06-14 10:48:23,780 - INFO - Set balance of env values from Streamlit secrets\n"
     ]
    }
   ],
   "source": [
    "from env_config import env_config\n",
    "\n",
    "config = env_config()"
   ]
  },
  {
   "cell_type": "markdown",
   "id": "15c6d3f7",
   "metadata": {},
   "source": [
    "OPTIONAL: Review environmental variables\n",
    "WARNING: DO NOT COMMIT WITH THIS CELL OUTPUT SHOWING"
   ]
  },
  {
   "cell_type": "code",
   "execution_count": null,
   "id": "f6e142b6",
   "metadata": {},
   "outputs": [],
   "source": [
    "from pprint import pprint\n",
    "\n",
    "pprint(config)"
   ]
  },
  {
   "cell_type": "code",
   "execution_count": null,
   "id": "e20737cc",
   "metadata": {},
   "outputs": [],
   "source": [
    "import toml\n",
    "\n",
    "secrets = toml.load(\".streamlit/secrets.toml\")"
   ]
  },
  {
   "cell_type": "code",
   "execution_count": null,
   "id": "96100262",
   "metadata": {},
   "outputs": [],
   "source": [
    "print(secrets.keys())"
   ]
  },
  {
   "cell_type": "code",
   "execution_count": null,
   "id": "565ee580",
   "metadata": {},
   "outputs": [],
   "source": [
    "import streamlit as st\n",
    "print(\"secrets keys:\", list(st.secrets.keys()))\n",
    "print(\"full secrets object:\", st.secrets)\n",
    "\n",
    "print(st.secrets.keys())"
   ]
  },
  {
   "cell_type": "code",
   "execution_count": null,
   "id": "576513d9",
   "metadata": {},
   "outputs": [],
   "source": [
    "import json\n",
    "\n",
    "creds_info = json.loads(\n",
    "    st.secrets[\"GCP_CREDENTIALS_FOR_STREAMLIT_USCGAUX_APP\"])"
   ]
  },
  {
   "cell_type": "code",
   "execution_count": null,
   "id": "9473b660",
   "metadata": {},
   "outputs": [],
   "source": [
    "api_key = st.secrets[\"QDRANT_API_KEY\"]"
   ]
  },
  {
   "cell_type": "markdown",
   "id": "3e374f49",
   "metadata": {},
   "source": [
    "### 2. Init clients"
   ]
  },
  {
   "cell_type": "code",
   "execution_count": 2,
   "id": "96edf1f3",
   "metadata": {},
   "outputs": [
    {
     "name": "stderr",
     "output_type": "stream",
     "text": [
      "2025-06-14 10:48:32,285 - INFO - No .env file found at /Users/drew_wilkins/Drews_Files/Drew/Python/Repositories/.env\n",
      "2025-06-14 10:48:32,286 - INFO - Running in context: streamlit\n",
      "2025-06-14 10:48:32,286 - INFO - Force user authentication: False\n",
      "2025-06-14 10:48:32,286 - INFO - Set balance of env values from Streamlit secrets\n",
      "2025-06-14 10:48:32,579 - INFO - No .env file found at /Users/drew_wilkins/Drews_Files/Drew/Python/Repositories/.env\n",
      "2025-06-14 10:48:32,580 - INFO - Running in context: streamlit\n",
      "2025-06-14 10:48:32,580 - INFO - Force user authentication: False\n",
      "2025-06-14 10:48:32,580 - INFO - Set balance of env values from Streamlit secrets\n",
      "2025-06-14 10:48:32,632 - INFO - ✅ Google Sheets client initialized successfully with scoped credentials.\n",
      "2025-06-14 10:48:32,633 - INFO - file_cache is only supported with oauth2client<4.0.0\n",
      "2025-06-14 10:48:32,635 - INFO - ✅ Google Drive client initialized successfully with scoped credentials.\n",
      "2025-06-14 10:48:32,635 - INFO - Initializing Qdrant client in 'cloud' mode...\n",
      "2025-06-14 10:48:33,144 - INFO - HTTP Request: GET https://0c82e035-1105-40f2-a0bd-ecc44a016f15.us-east4-0.gcp.cloud.qdrant.io:6333 \"HTTP/1.1 200 OK\"\n",
      "2025-06-14 10:48:33,217 - INFO - HTTP Request: GET https://0c82e035-1105-40f2-a0bd-ecc44a016f15.us-east4-0.gcp.cloud.qdrant.io:6333/collections \"HTTP/1.1 200 OK\"\n",
      "2025-06-14 10:48:33,219 - INFO - Available Qdrant collections: ['ASK_vectorstore', 'ask_pdf_docs', 'ASK_vectorstore-backup21APR2025', 'ask_pdf_pages']\n",
      "2025-06-14 10:48:33,219 - INFO - ✅ Confirmed Qdrant collection 'ASK_vectorstore' exists\n"
     ]
    }
   ],
   "source": [
    "from gcp_utils import get_gcp_credentials, init_sheets_client, init_drive_client\n",
    "from qdrant_utils import init_qdrant_client\n",
    "\n",
    "\n",
    "creds = get_gcp_credentials()\n",
    "sheets_client = init_sheets_client(creds)\n",
    "drive_client = init_drive_client(creds)\n",
    "qdrant_client = init_qdrant_client(\"cloud\")"
   ]
  },
  {
   "cell_type": "markdown",
   "id": "12816496",
   "metadata": {},
   "source": [
    "### 3. Test main orcehstration functions"
   ]
  },
  {
   "cell_type": "markdown",
   "id": "24907ec8",
   "metadata": {},
   "source": [
    "Validate rows in LIBRARY_UNIFIED"
   ]
  },
  {
   "cell_type": "code",
   "execution_count": null,
   "id": "82f04b60",
   "metadata": {},
   "outputs": [],
   "source": [
    "from gcp_utils import fetch_sheet_as_df\n",
    "from library_utils import validate_all_rows_format\n",
    "from IPython.display import display, HTML\n",
    "\n",
    "\n",
    "library_df = fetch_sheet_as_df(sheets_client, config[\"LIBRARY_UNIFIED\"])\n",
    "valid_df, invalid_df, log_df = validate_all_rows_format(library_df)\n",
    "\n",
    "if not log_df.empty:\n",
    "    print(f\"\\nValidation error detail:\")\n",
    "    display(HTML(log_df.to_html(notebook=True,\n",
    "            max_cols=30, max_rows=10, escape=False)))\n",
    "\n",
    "if not invalid_df.empty:\n",
    "    print(f\"\\nInvalid rows detail:\")\n",
    "    display(HTML(invalid_df.to_html(notebook=True,\n",
    "            max_cols=30, max_rows=10, escape=False)))"
   ]
  },
  {
   "cell_type": "markdown",
   "id": "86601d80",
   "metadata": {},
   "source": [
    "Promote tagged"
   ]
  },
  {
   "cell_type": "code",
   "execution_count": null,
   "id": "fe20d794",
   "metadata": {},
   "outputs": [],
   "source": [
    "from promote_files import promote_files\n",
    "\n",
    "promote_files(drive_client, sheets_client, qdrant_client)"
   ]
  },
  {
   "cell_type": "markdown",
   "id": "7abf0374",
   "metadata": {},
   "source": [
    "Delete tagged\n"
   ]
  },
  {
   "cell_type": "code",
   "execution_count": null,
   "id": "9bbe0b59",
   "metadata": {},
   "outputs": [],
   "source": [
    "from delete_tagged import delete_tagged\n",
    "\n",
    "\n",
    "deleted_rows_df = delete_tagged(drive_client, sheets_client, qdrant_client)"
   ]
  },
  {
   "cell_type": "markdown",
   "id": "eb8cbec4",
   "metadata": {},
   "source": [
    "Create new status map"
   ]
  },
  {
   "cell_type": "code",
   "execution_count": 3,
   "id": "fb142edc",
   "metadata": {},
   "outputs": [
    {
     "name": "stderr",
     "output_type": "stream",
     "text": [
      "2025-06-14 10:49:02,019 - INFO - No .env file found at /Users/drew_wilkins/Drews_Files/Drew/Python/Repositories/.env\n",
      "2025-06-14 10:49:02,019 - INFO - Running in context: streamlit\n",
      "2025-06-14 10:49:02,020 - INFO - Force user authentication: False\n",
      "2025-06-14 10:49:02,020 - INFO - Set balance of env values from Streamlit secrets\n",
      "2025-06-14 10:49:03,148 - INFO - Sheet1\n",
      "2025-06-14 10:49:03,547 - INFO - ✅ Fetched and converted worksheet 1glNjmKYloO0u6tCd5qy3z5ee8I-MkqwUxWsWEvLMBkM with 222 rows.\n",
      "2025-06-14 10:49:06,308 - INFO - HTTP Request: POST https://0c82e035-1105-40f2-a0bd-ecc44a016f15.us-east4-0.gcp.cloud.qdrant.io:6333/collections/ASK_vectorstore/points/scroll \"HTTP/1.1 200 OK\"\n",
      "2025-06-14 10:49:09,908 - INFO - HTTP Request: POST https://0c82e035-1105-40f2-a0bd-ecc44a016f15.us-east4-0.gcp.cloud.qdrant.io:6333/collections/ASK_vectorstore/points/scroll \"HTTP/1.1 200 OK\"\n",
      "2025-06-14 10:49:12,951 - WARNING - 🚫 Missing required metadata keys: {'page_count': 133, 'title': 'COAST GUARD EXTERNAL AFFAIRS MANUAL, COMDTINST M5700.13A', 'embedding': 'text-embedding-ada-002', 'public_release': True, 'upsert_date': '2024-12-18T23:32:06Z', 'aux_specific': False, 'source': './raw_pdfs/CG Public Affairs  CIM_5700_13A_2021-05-01.pdf', 'scope': 'national', 'unit': '', 'page': 100, 'pdf_id': 'd354afd1-95ea-5489-9df7-3abdd322d73c', 'gcp_file_id': '', 'issue_date': '2021-05-12T00:00:00Z', 'organization': 'CG-092', 'publication_number': 'COMDTINST M5700.13A', 'expiration_date': '2031-05-13T00:00:00Z'}\n",
      "2025-06-14 10:49:12,951 - WARNING - 🚫 Missing required metadata keys: {'page': 50, 'source': './raw_pdfs/CG Public Affairs  CIM_5700_13A_2021-05-01.pdf', 'issue_date': '2021-05-12T00:00:00Z', 'pdf_id': 'd354afd1-95ea-5489-9df7-3abdd322d73c', 'gcp_file_id': '', 'publication_number': 'COMDTINST M5700.13A', 'organization': 'CG-092', 'aux_specific': False, 'expiration_date': '2031-05-13T00:00:00Z', 'title': 'COAST GUARD EXTERNAL AFFAIRS MANUAL, COMDTINST M5700.13A', 'public_release': True, 'page_count': 133, 'embedding': 'text-embedding-ada-002', 'upsert_date': '2024-12-18T23:32:06Z', 'scope': 'national', 'unit': ''}\n",
      "2025-06-14 10:49:12,951 - WARNING - 🚫 Missing required metadata keys: {'title': 'COAST GUARD EXTERNAL AFFAIRS MANUAL, COMDTINST M5700.13A', 'pdf_id': 'd354afd1-95ea-5489-9df7-3abdd322d73c', 'gcp_file_id': '', 'scope': 'national', 'unit': '', 'expiration_date': '2031-05-13T00:00:00Z', 'embedding': 'text-embedding-ada-002', 'upsert_date': '2024-12-18T23:32:06Z', 'organization': 'CG-092', 'public_release': True, 'aux_specific': False, 'source': './raw_pdfs/CG Public Affairs  CIM_5700_13A_2021-05-01.pdf', 'page': 47, 'publication_number': 'COMDTINST M5700.13A', 'issue_date': '2021-05-12T00:00:00Z', 'page_count': 133}\n",
      "2025-06-14 10:49:12,952 - WARNING - 🚫 Missing required metadata keys: {'pdf_id': 'd354afd1-95ea-5489-9df7-3abdd322d73c', 'gcp_file_id': '', 'public_release': True, 'organization': 'CG-092', 'upsert_date': '2024-12-18T23:32:06Z', 'scope': 'national', 'unit': '', 'page': 21, 'title': 'COAST GUARD EXTERNAL AFFAIRS MANUAL, COMDTINST M5700.13A', 'aux_specific': False, 'embedding': 'text-embedding-ada-002', 'publication_number': 'COMDTINST M5700.13A', 'source': './raw_pdfs/CG Public Affairs  CIM_5700_13A_2021-05-01.pdf', 'page_count': 133, 'expiration_date': '2031-05-13T00:00:00Z', 'issue_date': '2021-05-12T00:00:00Z'}\n",
      "2025-06-14 10:49:12,952 - WARNING - 🚫 Missing required metadata keys: {'upsert_date': '2024-12-18T23:32:06Z', 'public_release': True, 'expiration_date': '2031-05-13T00:00:00Z', 'source': './raw_pdfs/CG Public Affairs  CIM_5700_13A_2021-05-01.pdf', 'pdf_id': 'd354afd1-95ea-5489-9df7-3abdd322d73c', 'gcp_file_id': '', 'embedding': 'text-embedding-ada-002', 'publication_number': 'COMDTINST M5700.13A', 'page': 68, 'issue_date': '2021-05-12T00:00:00Z', 'page_count': 133, 'title': 'COAST GUARD EXTERNAL AFFAIRS MANUAL, COMDTINST M5700.13A', 'scope': 'national', 'unit': '', 'aux_specific': False, 'organization': 'CG-092'}\n",
      "2025-06-14 10:49:12,952 - WARNING - 🚫 Missing required metadata keys: {'public_release': True, 'source': './raw_pdfs/CG Public Affairs  CIM_5700_13A_2021-05-01.pdf', 'aux_specific': False, 'page': 23, 'issue_date': '2021-05-12T00:00:00Z', 'scope': 'national', 'unit': '', 'organization': 'CG-092', 'publication_number': 'COMDTINST M5700.13A', 'page_count': 133, 'expiration_date': '2031-05-13T00:00:00Z', 'pdf_id': 'd354afd1-95ea-5489-9df7-3abdd322d73c', 'gcp_file_id': '', 'embedding': 'text-embedding-ada-002', 'title': 'COAST GUARD EXTERNAL AFFAIRS MANUAL, COMDTINST M5700.13A', 'upsert_date': '2024-12-18T23:32:06Z'}\n",
      "2025-06-14 10:49:12,952 - WARNING - 🚫 Missing required metadata keys: {'aux_specific': False, 'expiration_date': '2031-05-13T00:00:00Z', 'embedding': 'text-embedding-ada-002', 'publication_number': 'COMDTINST M5700.13A', 'title': 'COAST GUARD EXTERNAL AFFAIRS MANUAL, COMDTINST M5700.13A', 'source': './raw_pdfs/CG Public Affairs  CIM_5700_13A_2021-05-01.pdf', 'page_count': 133, 'pdf_id': 'd354afd1-95ea-5489-9df7-3abdd322d73c', 'gcp_file_id': '', 'page': 2, 'scope': 'national', 'unit': '', 'public_release': True, 'issue_date': '2021-05-12T00:00:00Z', 'organization': 'CG-092', 'upsert_date': '2024-12-18T23:32:06Z'}\n",
      "2025-06-14 10:49:12,953 - WARNING - 🚫 Missing required metadata keys: {'organization': 'CG-092', 'embedding': 'text-embedding-ada-002', 'upsert_date': '2024-12-18T23:32:06Z', 'public_release': True, 'page': 74, 'source': './raw_pdfs/CG Public Affairs  CIM_5700_13A_2021-05-01.pdf', 'issue_date': '2021-05-12T00:00:00Z', 'aux_specific': False, 'scope': 'national', 'unit': '', 'expiration_date': '2031-05-13T00:00:00Z', 'page_count': 133, 'title': 'COAST GUARD EXTERNAL AFFAIRS MANUAL, COMDTINST M5700.13A', 'pdf_id': 'd354afd1-95ea-5489-9df7-3abdd322d73c', 'gcp_file_id': '', 'publication_number': 'COMDTINST M5700.13A'}\n",
      "2025-06-14 10:49:12,953 - WARNING - 🚫 Missing required metadata keys: {'page': 112, 'aux_specific': False, 'source': './raw_pdfs/CG Public Affairs  CIM_5700_13A_2021-05-01.pdf', 'issue_date': '2021-05-12T00:00:00Z', 'scope': 'national', 'unit': '', 'organization': 'CG-092', 'expiration_date': '2031-05-13T00:00:00Z', 'embedding': 'text-embedding-ada-002', 'title': 'COAST GUARD EXTERNAL AFFAIRS MANUAL, COMDTINST M5700.13A', 'upsert_date': '2024-12-18T23:32:06Z', 'publication_number': 'COMDTINST M5700.13A', 'page_count': 133, 'pdf_id': 'd354afd1-95ea-5489-9df7-3abdd322d73c', 'gcp_file_id': '', 'public_release': True}\n",
      "2025-06-14 10:49:12,953 - WARNING - 🚫 Missing required metadata keys: {'page': 19, 'source': './raw_pdfs/CG Public Affairs  CIM_5700_13A_2021-05-01.pdf', 'pdf_id': 'd354afd1-95ea-5489-9df7-3abdd322d73c', 'gcp_file_id': '', 'issue_date': '2021-05-12T00:00:00Z', 'scope': 'national', 'unit': '', 'public_release': True, 'aux_specific': False, 'organization': 'CG-092', 'expiration_date': '2031-05-13T00:00:00Z', 'embedding': 'text-embedding-ada-002', 'upsert_date': '2024-12-18T23:32:06Z', 'title': 'COAST GUARD EXTERNAL AFFAIRS MANUAL, COMDTINST M5700.13A', 'page_count': 133, 'publication_number': 'COMDTINST M5700.13A'}\n",
      "2025-06-14 10:49:12,953 - WARNING - 🚫 Missing required metadata keys: {'publication_number': 'COMDTINST M5700.13A', 'embedding': 'text-embedding-ada-002', 'pdf_id': 'd354afd1-95ea-5489-9df7-3abdd322d73c', 'gcp_file_id': '', 'upsert_date': '2024-12-18T23:32:06Z', 'aux_specific': False, 'issue_date': '2021-05-12T00:00:00Z', 'title': 'COAST GUARD EXTERNAL AFFAIRS MANUAL, COMDTINST M5700.13A', 'expiration_date': '2031-05-13T00:00:00Z', 'organization': 'CG-092', 'page': 63, 'source': './raw_pdfs/CG Public Affairs  CIM_5700_13A_2021-05-01.pdf', 'public_release': True, 'page_count': 133, 'scope': 'national', 'unit': ''}\n",
      "2025-06-14 10:49:12,954 - WARNING - 🚫 Missing required metadata keys: {'title': 'COAST GUARD EXTERNAL AFFAIRS MANUAL, COMDTINST M5700.13A', 'page': 113, 'source': './raw_pdfs/CG Public Affairs  CIM_5700_13A_2021-05-01.pdf', 'issue_date': '2021-05-12T00:00:00Z', 'publication_number': 'COMDTINST M5700.13A', 'pdf_id': 'd354afd1-95ea-5489-9df7-3abdd322d73c', 'gcp_file_id': '', 'page_count': 133, 'scope': 'national', 'unit': '', 'organization': 'CG-092', 'expiration_date': '2031-05-13T00:00:00Z', 'embedding': 'text-embedding-ada-002', 'upsert_date': '2024-12-18T23:32:06Z', 'aux_specific': False, 'public_release': True}\n",
      "2025-06-14 10:49:12,954 - WARNING - 🚫 Missing required metadata keys: {'upsert_date': '2024-12-18T23:32:06Z', 'source': './raw_pdfs/CG Public Affairs  CIM_5700_13A_2021-05-01.pdf', 'public_release': True, 'organization': 'CG-092', 'page': 67, 'aux_specific': False, 'title': 'COAST GUARD EXTERNAL AFFAIRS MANUAL, COMDTINST M5700.13A', 'issue_date': '2021-05-12T00:00:00Z', 'pdf_id': 'd354afd1-95ea-5489-9df7-3abdd322d73c', 'gcp_file_id': '', 'page_count': 133, 'expiration_date': '2031-05-13T00:00:00Z', 'scope': 'national', 'unit': '', 'embedding': 'text-embedding-ada-002', 'publication_number': 'COMDTINST M5700.13A'}\n",
      "2025-06-14 10:49:12,954 - WARNING - 🚫 Missing required metadata keys: {'embedding': 'text-embedding-ada-002', 'public_release': True, 'upsert_date': '2024-12-18T23:32:06Z', 'title': 'COAST GUARD EXTERNAL AFFAIRS MANUAL, COMDTINST M5700.13A', 'page_count': 133, 'pdf_id': 'd354afd1-95ea-5489-9df7-3abdd322d73c', 'gcp_file_id': '', 'aux_specific': False, 'source': './raw_pdfs/CG Public Affairs  CIM_5700_13A_2021-05-01.pdf', 'page': 28, 'publication_number': 'COMDTINST M5700.13A', 'scope': 'national', 'unit': '', 'issue_date': '2021-05-12T00:00:00Z', 'organization': 'CG-092', 'expiration_date': '2031-05-13T00:00:00Z'}\n",
      "2025-06-14 10:49:12,954 - WARNING - 🚫 Missing required metadata keys: {'expiration_date': '2031-05-13T00:00:00Z', 'scope': 'national', 'unit': '', 'embedding': 'text-embedding-ada-002', 'publication_number': 'COMDTINST M5700.13A', 'page': 45, 'source': './raw_pdfs/CG Public Affairs  CIM_5700_13A_2021-05-01.pdf', 'pdf_id': 'd354afd1-95ea-5489-9df7-3abdd322d73c', 'gcp_file_id': '', 'public_release': True, 'page_count': 133, 'issue_date': '2021-05-12T00:00:00Z', 'title': 'COAST GUARD EXTERNAL AFFAIRS MANUAL, COMDTINST M5700.13A', 'organization': 'CG-092', 'upsert_date': '2024-12-18T23:32:06Z', 'aux_specific': False}\n",
      "2025-06-14 10:49:12,954 - WARNING - 🚫 Missing required metadata keys: {'public_release': True, 'page_count': 133, 'page': 91, 'scope': 'national', 'unit': '', 'embedding': 'text-embedding-ada-002', 'upsert_date': '2024-12-18T23:32:06Z', 'issue_date': '2021-05-12T00:00:00Z', 'expiration_date': '2031-05-13T00:00:00Z', 'pdf_id': 'd354afd1-95ea-5489-9df7-3abdd322d73c', 'gcp_file_id': '', 'source': './raw_pdfs/CG Public Affairs  CIM_5700_13A_2021-05-01.pdf', 'aux_specific': False, 'organization': 'CG-092', 'publication_number': 'COMDTINST M5700.13A', 'title': 'COAST GUARD EXTERNAL AFFAIRS MANUAL, COMDTINST M5700.13A'}\n",
      "2025-06-14 10:49:12,955 - WARNING - 🚫 Missing required metadata keys: {'upsert_date': '2024-12-18T23:32:06Z', 'pdf_id': 'd354afd1-95ea-5489-9df7-3abdd322d73c', 'gcp_file_id': '', 'embedding': 'text-embedding-ada-002', 'page': 95, 'source': './raw_pdfs/CG Public Affairs  CIM_5700_13A_2021-05-01.pdf', 'public_release': True, 'aux_specific': False, 'issue_date': '2021-05-12T00:00:00Z', 'page_count': 133, 'title': 'COAST GUARD EXTERNAL AFFAIRS MANUAL, COMDTINST M5700.13A', 'scope': 'national', 'unit': '', 'organization': 'CG-092', 'expiration_date': '2031-05-13T00:00:00Z', 'publication_number': 'COMDTINST M5700.13A'}\n",
      "2025-06-14 10:49:12,955 - WARNING - 🚫 Missing required metadata keys: {'title': 'COAST GUARD EXTERNAL AFFAIRS MANUAL, COMDTINST M5700.13A', 'organization': 'CG-092', 'public_release': True, 'scope': 'national', 'unit': '', 'embedding': 'text-embedding-ada-002', 'publication_number': 'COMDTINST M5700.13A', 'source': './raw_pdfs/CG Public Affairs  CIM_5700_13A_2021-05-01.pdf', 'issue_date': '2021-05-12T00:00:00Z', 'expiration_date': '2031-05-13T00:00:00Z', 'pdf_id': 'd354afd1-95ea-5489-9df7-3abdd322d73c', 'gcp_file_id': '', 'aux_specific': False, 'page': 30, 'page_count': 133, 'upsert_date': '2024-12-18T23:32:06Z'}\n",
      "2025-06-14 10:49:12,955 - WARNING - 🚫 Missing required metadata keys: {'source': './raw_pdfs/CG Public Affairs  CIM_5700_13A_2021-05-01.pdf', 'aux_specific': False, 'expiration_date': '2031-05-13T00:00:00Z', 'embedding': 'text-embedding-ada-002', 'pdf_id': 'd354afd1-95ea-5489-9df7-3abdd322d73c', 'gcp_file_id': '', 'public_release': True, 'publication_number': 'COMDTINST M5700.13A', 'page': 103, 'title': 'COAST GUARD EXTERNAL AFFAIRS MANUAL, COMDTINST M5700.13A', 'page_count': 133, 'scope': 'national', 'unit': '', 'issue_date': '2021-05-12T00:00:00Z', 'organization': 'CG-092', 'upsert_date': '2024-12-18T23:32:06Z'}\n",
      "2025-06-14 10:49:12,955 - WARNING - 🚫 Missing required metadata keys: {'issue_date': '2021-05-12T00:00:00Z', 'page': 96, 'public_release': True, 'aux_specific': False, 'page_count': 133, 'scope': 'national', 'unit': '', 'pdf_id': 'd354afd1-95ea-5489-9df7-3abdd322d73c', 'gcp_file_id': '', 'title': 'COAST GUARD EXTERNAL AFFAIRS MANUAL, COMDTINST M5700.13A', 'source': './raw_pdfs/CG Public Affairs  CIM_5700_13A_2021-05-01.pdf', 'embedding': 'text-embedding-ada-002', 'publication_number': 'COMDTINST M5700.13A', 'expiration_date': '2031-05-13T00:00:00Z', 'organization': 'CG-092', 'upsert_date': '2024-12-18T23:32:06Z'}\n",
      "2025-06-14 10:49:12,955 - WARNING - 🚫 Missing required metadata keys: {'source': './raw_pdfs/CG Public Affairs  CIM_5700_13A_2021-05-01.pdf', 'embedding': 'text-embedding-ada-002', 'upsert_date': '2024-12-18T23:32:06Z', 'scope': 'national', 'unit': '', 'public_release': True, 'publication_number': 'COMDTINST M5700.13A', 'page': 32, 'pdf_id': 'd354afd1-95ea-5489-9df7-3abdd322d73c', 'gcp_file_id': '', 'title': 'COAST GUARD EXTERNAL AFFAIRS MANUAL, COMDTINST M5700.13A', 'issue_date': '2021-05-12T00:00:00Z', 'aux_specific': False, 'page_count': 133, 'organization': 'CG-092', 'expiration_date': '2031-05-13T00:00:00Z'}\n",
      "2025-06-14 10:49:12,955 - WARNING - 🚫 Missing required metadata keys: {'scope': 'national', 'unit': '', 'pdf_id': 'd354afd1-95ea-5489-9df7-3abdd322d73c', 'gcp_file_id': '', 'upsert_date': '2024-12-18T23:32:06Z', 'source': './raw_pdfs/CG Public Affairs  CIM_5700_13A_2021-05-01.pdf', 'aux_specific': False, 'organization': 'CG-092', 'page': 15, 'page_count': 133, 'expiration_date': '2031-05-13T00:00:00Z', 'public_release': True, 'publication_number': 'COMDTINST M5700.13A', 'issue_date': '2021-05-12T00:00:00Z', 'embedding': 'text-embedding-ada-002', 'title': 'COAST GUARD EXTERNAL AFFAIRS MANUAL, COMDTINST M5700.13A'}\n",
      "2025-06-14 10:49:12,956 - WARNING - 🚫 Missing required metadata keys: {'pdf_id': 'd354afd1-95ea-5489-9df7-3abdd322d73c', 'gcp_file_id': '', 'source': './raw_pdfs/CG Public Affairs  CIM_5700_13A_2021-05-01.pdf', 'page_count': 133, 'public_release': True, 'expiration_date': '2031-05-13T00:00:00Z', 'page': 117, 'aux_specific': False, 'issue_date': '2021-05-12T00:00:00Z', 'organization': 'CG-092', 'publication_number': 'COMDTINST M5700.13A', 'scope': 'national', 'unit': '', 'embedding': 'text-embedding-ada-002', 'title': 'COAST GUARD EXTERNAL AFFAIRS MANUAL, COMDTINST M5700.13A', 'upsert_date': '2024-12-18T23:32:06Z'}\n",
      "2025-06-14 10:49:12,956 - WARNING - 🚫 Missing required metadata keys: {'source': './raw_pdfs/CG Public Affairs  CIM_5700_13A_2021-05-01.pdf', 'issue_date': '2021-05-12T00:00:00Z', 'aux_specific': False, 'page': 5, 'scope': 'national', 'unit': '', 'organization': 'CG-092', 'pdf_id': 'd354afd1-95ea-5489-9df7-3abdd322d73c', 'gcp_file_id': '', 'page_count': 133, 'upsert_date': '2024-12-18T23:32:06Z', 'embedding': 'text-embedding-ada-002', 'title': 'COAST GUARD EXTERNAL AFFAIRS MANUAL, COMDTINST M5700.13A', 'public_release': True, 'publication_number': 'COMDTINST M5700.13A', 'expiration_date': '2031-05-13T00:00:00Z'}\n",
      "2025-06-14 10:49:12,956 - WARNING - 🚫 Missing required metadata keys: {'page': 11, 'public_release': True, 'aux_specific': False, 'scope': 'national', 'unit': '', 'title': 'COAST GUARD EXTERNAL AFFAIRS MANUAL, COMDTINST M5700.13A', 'organization': 'CG-092', 'embedding': 'text-embedding-ada-002', 'issue_date': '2021-05-12T00:00:00Z', 'upsert_date': '2024-12-18T23:32:06Z', 'pdf_id': 'd354afd1-95ea-5489-9df7-3abdd322d73c', 'gcp_file_id': '', 'expiration_date': '2031-05-13T00:00:00Z', 'source': './raw_pdfs/CG Public Affairs  CIM_5700_13A_2021-05-01.pdf', 'publication_number': 'COMDTINST M5700.13A', 'page_count': 133}\n",
      "2025-06-14 10:49:12,956 - WARNING - 🚫 Missing required metadata keys: {'page': 75, 'public_release': True, 'aux_specific': False, 'organization': 'CG-092', 'scope': 'national', 'unit': '', 'embedding': 'text-embedding-ada-002', 'issue_date': '2021-05-12T00:00:00Z', 'title': 'COAST GUARD EXTERNAL AFFAIRS MANUAL, COMDTINST M5700.13A', 'pdf_id': 'd354afd1-95ea-5489-9df7-3abdd322d73c', 'gcp_file_id': '', 'upsert_date': '2024-12-18T23:32:06Z', 'page_count': 133, 'source': './raw_pdfs/CG Public Affairs  CIM_5700_13A_2021-05-01.pdf', 'publication_number': 'COMDTINST M5700.13A', 'expiration_date': '2031-05-13T00:00:00Z'}\n",
      "2025-06-14 10:49:12,956 - WARNING - 🚫 Missing required metadata keys: {'source': './raw_pdfs/CG Public Affairs  CIM_5700_13A_2021-05-01.pdf', 'title': 'COAST GUARD EXTERNAL AFFAIRS MANUAL, COMDTINST M5700.13A', 'public_release': True, 'issue_date': '2021-05-12T00:00:00Z', 'expiration_date': '2031-05-13T00:00:00Z', 'page': 114, 'aux_specific': False, 'scope': 'national', 'unit': '', 'publication_number': 'COMDTINST M5700.13A', 'page_count': 133, 'organization': 'CG-092', 'embedding': 'text-embedding-ada-002', 'pdf_id': 'd354afd1-95ea-5489-9df7-3abdd322d73c', 'gcp_file_id': '', 'upsert_date': '2024-12-18T23:32:06Z'}\n",
      "2025-06-14 10:49:12,956 - WARNING - 🚫 Missing required metadata keys: {'scope': 'national', 'unit': '', 'organization': 'CG-092', 'upsert_date': '2024-12-18T23:32:06Z', 'title': 'COAST GUARD EXTERNAL AFFAIRS MANUAL, COMDTINST M5700.13A', 'publication_number': 'COMDTINST M5700.13A', 'public_release': True, 'page': 116, 'source': './raw_pdfs/CG Public Affairs  CIM_5700_13A_2021-05-01.pdf', 'pdf_id': 'd354afd1-95ea-5489-9df7-3abdd322d73c', 'gcp_file_id': '', 'issue_date': '2021-05-12T00:00:00Z', 'aux_specific': False, 'page_count': 133, 'expiration_date': '2031-05-13T00:00:00Z', 'embedding': 'text-embedding-ada-002'}\n",
      "2025-06-14 10:49:12,957 - WARNING - 🚫 Missing required metadata keys: {'title': 'COAST GUARD EXTERNAL AFFAIRS MANUAL, COMDTINST M5700.13A', 'page_count': 133, 'page': 85, 'issue_date': '2021-05-12T00:00:00Z', 'expiration_date': '2031-05-13T00:00:00Z', 'pdf_id': 'd354afd1-95ea-5489-9df7-3abdd322d73c', 'gcp_file_id': '', 'embedding': 'text-embedding-ada-002', 'scope': 'national', 'unit': '', 'upsert_date': '2024-12-18T23:32:06Z', 'publication_number': 'COMDTINST M5700.13A', 'organization': 'CG-092', 'aux_specific': False, 'public_release': True, 'source': './raw_pdfs/CG Public Affairs  CIM_5700_13A_2021-05-01.pdf'}\n",
      "2025-06-14 10:49:12,957 - WARNING - 🚫 Missing required metadata keys: {'page_count': 133, 'source': './raw_pdfs/CG Public Affairs  CIM_5700_13A_2021-05-01.pdf', 'title': 'COAST GUARD EXTERNAL AFFAIRS MANUAL, COMDTINST M5700.13A', 'public_release': True, 'issue_date': '2021-05-12T00:00:00Z', 'scope': 'national', 'unit': '', 'organization': 'CG-092', 'expiration_date': '2031-05-13T00:00:00Z', 'page': 82, 'aux_specific': False, 'publication_number': 'COMDTINST M5700.13A', 'pdf_id': 'd354afd1-95ea-5489-9df7-3abdd322d73c', 'gcp_file_id': '', 'embedding': 'text-embedding-ada-002', 'upsert_date': '2024-12-18T23:32:06Z'}\n",
      "2025-06-14 10:49:12,957 - WARNING - 🚫 Missing required metadata keys: {'aux_specific': False, 'embedding': 'text-embedding-ada-002', 'source': './raw_pdfs/CG Public Affairs  CIM_5700_13A_2021-05-01.pdf', 'page_count': 133, 'scope': 'national', 'unit': '', 'pdf_id': 'd354afd1-95ea-5489-9df7-3abdd322d73c', 'gcp_file_id': '', 'issue_date': '2021-05-12T00:00:00Z', 'organization': 'CG-092', 'upsert_date': '2024-12-18T23:32:06Z', 'publication_number': 'COMDTINST M5700.13A', 'page': 0, 'public_release': True, 'title': 'COAST GUARD EXTERNAL AFFAIRS MANUAL, COMDTINST M5700.13A', 'expiration_date': '2031-05-13T00:00:00Z'}\n",
      "2025-06-14 10:49:12,957 - WARNING - 🚫 Missing required metadata keys: {'upsert_date': '2024-12-18T23:32:06Z', 'expiration_date': '2031-05-13T00:00:00Z', 'page_count': 133, 'pdf_id': 'd354afd1-95ea-5489-9df7-3abdd322d73c', 'gcp_file_id': '', 'title': 'COAST GUARD EXTERNAL AFFAIRS MANUAL, COMDTINST M5700.13A', 'public_release': True, 'scope': 'national', 'unit': '', 'organization': 'CG-092', 'source': './raw_pdfs/CG Public Affairs  CIM_5700_13A_2021-05-01.pdf', 'aux_specific': False, 'publication_number': 'COMDTINST M5700.13A', 'issue_date': '2021-05-12T00:00:00Z', 'page': 51, 'embedding': 'text-embedding-ada-002'}\n",
      "2025-06-14 10:49:12,958 - WARNING - 🚫 Missing required metadata keys: {'page_count': 133, 'expiration_date': '2031-05-13T00:00:00Z', 'embedding': 'text-embedding-ada-002', 'upsert_date': '2024-12-18T23:32:06Z', 'publication_number': 'COMDTINST M5700.13A', 'public_release': True, 'source': './raw_pdfs/CG Public Affairs  CIM_5700_13A_2021-05-01.pdf', 'title': 'COAST GUARD EXTERNAL AFFAIRS MANUAL, COMDTINST M5700.13A', 'page': 7, 'aux_specific': False, 'issue_date': '2021-05-12T00:00:00Z', 'scope': 'national', 'unit': '', 'organization': 'CG-092', 'pdf_id': 'd354afd1-95ea-5489-9df7-3abdd322d73c', 'gcp_file_id': ''}\n",
      "2025-06-14 10:49:12,958 - WARNING - 🚫 Missing required metadata keys: {'scope': 'national', 'unit': '', 'publication_number': 'COMDTINST M5700.13A', 'organization': 'CG-092', 'page': 108, 'expiration_date': '2031-05-13T00:00:00Z', 'embedding': 'text-embedding-ada-002', 'upsert_date': '2024-12-18T23:32:06Z', 'source': './raw_pdfs/CG Public Affairs  CIM_5700_13A_2021-05-01.pdf', 'public_release': True, 'pdf_id': 'd354afd1-95ea-5489-9df7-3abdd322d73c', 'gcp_file_id': '', 'aux_specific': False, 'issue_date': '2021-05-12T00:00:00Z', 'page_count': 133, 'title': 'COAST GUARD EXTERNAL AFFAIRS MANUAL, COMDTINST M5700.13A'}\n",
      "2025-06-14 10:49:12,958 - WARNING - 🚫 Missing required metadata keys: {'expiration_date': '2031-05-13T00:00:00Z', 'organization': 'CG-092', 'issue_date': '2021-05-12T00:00:00Z', 'scope': 'national', 'unit': '', 'aux_specific': False, 'publication_number': 'COMDTINST M5700.13A', 'page': 84, 'public_release': True, 'source': './raw_pdfs/CG Public Affairs  CIM_5700_13A_2021-05-01.pdf', 'page_count': 133, 'upsert_date': '2024-12-18T23:32:06Z', 'pdf_id': 'd354afd1-95ea-5489-9df7-3abdd322d73c', 'gcp_file_id': '', 'embedding': 'text-embedding-ada-002', 'title': 'COAST GUARD EXTERNAL AFFAIRS MANUAL, COMDTINST M5700.13A'}\n",
      "2025-06-14 10:49:12,958 - WARNING - 🚫 Missing required metadata keys: {'upsert_date': '2024-12-18T23:32:06Z', 'aux_specific': False, 'pdf_id': 'd354afd1-95ea-5489-9df7-3abdd322d73c', 'gcp_file_id': '', 'issue_date': '2021-05-12T00:00:00Z', 'organization': 'CG-092', 'publication_number': 'COMDTINST M5700.13A', 'page': 14, 'source': './raw_pdfs/CG Public Affairs  CIM_5700_13A_2021-05-01.pdf', 'title': 'COAST GUARD EXTERNAL AFFAIRS MANUAL, COMDTINST M5700.13A', 'public_release': True, 'page_count': 133, 'scope': 'national', 'unit': '', 'expiration_date': '2031-05-13T00:00:00Z', 'embedding': 'text-embedding-ada-002'}\n",
      "2025-06-14 10:49:12,958 - WARNING - 🚫 Missing required metadata keys: {'expiration_date': '2031-05-13T00:00:00Z', 'upsert_date': '2024-12-18T23:32:06Z', 'pdf_id': 'd354afd1-95ea-5489-9df7-3abdd322d73c', 'gcp_file_id': '', 'aux_specific': False, 'scope': 'national', 'unit': '', 'organization': 'CG-092', 'embedding': 'text-embedding-ada-002', 'page': 18, 'source': './raw_pdfs/CG Public Affairs  CIM_5700_13A_2021-05-01.pdf', 'publication_number': 'COMDTINST M5700.13A', 'page_count': 133, 'issue_date': '2021-05-12T00:00:00Z', 'public_release': True, 'title': 'COAST GUARD EXTERNAL AFFAIRS MANUAL, COMDTINST M5700.13A'}\n",
      "2025-06-14 10:49:12,959 - WARNING - 🚫 Missing required metadata keys: {'issue_date': '2021-05-12T00:00:00Z', 'scope': 'national', 'unit': '', 'embedding': 'text-embedding-ada-002', 'upsert_date': '2024-12-18T23:32:06Z', 'pdf_id': 'd354afd1-95ea-5489-9df7-3abdd322d73c', 'gcp_file_id': '', 'page': 13, 'publication_number': 'COMDTINST M5700.13A', 'organization': 'CG-092', 'source': './raw_pdfs/CG Public Affairs  CIM_5700_13A_2021-05-01.pdf', 'expiration_date': '2031-05-13T00:00:00Z', 'aux_specific': False, 'public_release': True, 'title': 'COAST GUARD EXTERNAL AFFAIRS MANUAL, COMDTINST M5700.13A', 'page_count': 133}\n",
      "2025-06-14 10:49:12,959 - WARNING - 🚫 Missing required metadata keys: {'publication_number': 'COMDTINST M5700.13A', 'source': './raw_pdfs/CG Public Affairs  CIM_5700_13A_2021-05-01.pdf', 'title': 'COAST GUARD EXTERNAL AFFAIRS MANUAL, COMDTINST M5700.13A', 'page': 102, 'page_count': 133, 'issue_date': '2021-05-12T00:00:00Z', 'pdf_id': 'd354afd1-95ea-5489-9df7-3abdd322d73c', 'gcp_file_id': '', 'scope': 'national', 'unit': '', 'expiration_date': '2031-05-13T00:00:00Z', 'aux_specific': False, 'organization': 'CG-092', 'embedding': 'text-embedding-ada-002', 'upsert_date': '2024-12-18T23:32:06Z', 'public_release': True}\n",
      "2025-06-14 10:49:12,959 - WARNING - 🚫 Missing required metadata keys: {'title': 'COAST GUARD EXTERNAL AFFAIRS MANUAL, COMDTINST M5700.13A', 'issue_date': '2021-05-12T00:00:00Z', 'embedding': 'text-embedding-ada-002', 'upsert_date': '2024-12-18T23:32:06Z', 'pdf_id': 'd354afd1-95ea-5489-9df7-3abdd322d73c', 'gcp_file_id': '', 'publication_number': 'COMDTINST M5700.13A', 'page_count': 133, 'page': 46, 'expiration_date': '2031-05-13T00:00:00Z', 'public_release': True, 'scope': 'national', 'unit': '', 'organization': 'CG-092', 'aux_specific': False, 'source': './raw_pdfs/CG Public Affairs  CIM_5700_13A_2021-05-01.pdf'}\n",
      "2025-06-14 10:49:12,959 - WARNING - 🚫 Missing required metadata keys: {'pdf_id': 'd354afd1-95ea-5489-9df7-3abdd322d73c', 'gcp_file_id': '', 'page_count': 133, 'expiration_date': '2031-05-13T00:00:00Z', 'upsert_date': '2024-12-18T23:32:06Z', 'scope': 'national', 'unit': '', 'organization': 'CG-092', 'aux_specific': False, 'publication_number': 'COMDTINST M5700.13A', 'issue_date': '2021-05-12T00:00:00Z', 'page': 40, 'source': './raw_pdfs/CG Public Affairs  CIM_5700_13A_2021-05-01.pdf', 'embedding': 'text-embedding-ada-002', 'title': 'COAST GUARD EXTERNAL AFFAIRS MANUAL, COMDTINST M5700.13A', 'public_release': True}\n",
      "2025-06-14 10:49:12,959 - WARNING - 🚫 Missing required metadata keys: {'aux_specific': False, 'issue_date': '2021-05-12T00:00:00Z', 'upsert_date': '2024-12-18T23:32:06Z', 'title': 'COAST GUARD EXTERNAL AFFAIRS MANUAL, COMDTINST M5700.13A', 'page': 124, 'scope': 'national', 'unit': '', 'expiration_date': '2031-05-13T00:00:00Z', 'pdf_id': 'd354afd1-95ea-5489-9df7-3abdd322d73c', 'gcp_file_id': '', 'public_release': True, 'publication_number': 'COMDTINST M5700.13A', 'page_count': 133, 'organization': 'CG-092', 'source': './raw_pdfs/CG Public Affairs  CIM_5700_13A_2021-05-01.pdf', 'embedding': 'text-embedding-ada-002'}\n",
      "2025-06-14 10:49:12,960 - WARNING - 🚫 Missing required metadata keys: {'embedding': 'text-embedding-ada-002', 'public_release': True, 'publication_number': 'COMDTINST M5700.13A', 'pdf_id': 'd354afd1-95ea-5489-9df7-3abdd322d73c', 'gcp_file_id': '', 'issue_date': '2021-05-12T00:00:00Z', 'page': 89, 'scope': 'national', 'unit': '', 'upsert_date': '2024-12-18T23:32:06Z', 'aux_specific': False, 'organization': 'CG-092', 'title': 'COAST GUARD EXTERNAL AFFAIRS MANUAL, COMDTINST M5700.13A', 'page_count': 133, 'source': './raw_pdfs/CG Public Affairs  CIM_5700_13A_2021-05-01.pdf', 'expiration_date': '2031-05-13T00:00:00Z'}\n",
      "2025-06-14 10:49:12,960 - WARNING - 🚫 Missing required metadata keys: {'source': './raw_pdfs/CG Public Affairs  CIM_5700_13A_2021-05-01.pdf', 'aux_specific': False, 'publication_number': 'COMDTINST M5700.13A', 'pdf_id': 'd354afd1-95ea-5489-9df7-3abdd322d73c', 'gcp_file_id': '', 'issue_date': '2021-05-12T00:00:00Z', 'title': 'COAST GUARD EXTERNAL AFFAIRS MANUAL, COMDTINST M5700.13A', 'page_count': 133, 'scope': 'national', 'unit': '', 'expiration_date': '2031-05-13T00:00:00Z', 'page': 4, 'public_release': True, 'organization': 'CG-092', 'embedding': 'text-embedding-ada-002', 'upsert_date': '2024-12-18T23:32:06Z'}\n",
      "2025-06-14 10:49:12,960 - WARNING - 🚫 Missing required metadata keys: {'upsert_date': '2024-12-18T23:32:06Z', 'source': './raw_pdfs/CG Public Affairs  CIM_5700_13A_2021-05-01.pdf', 'scope': 'national', 'unit': '', 'publication_number': 'COMDTINST M5700.13A', 'aux_specific': False, 'public_release': True, 'title': 'COAST GUARD EXTERNAL AFFAIRS MANUAL, COMDTINST M5700.13A', 'page': 99, 'page_count': 133, 'expiration_date': '2031-05-13T00:00:00Z', 'pdf_id': 'd354afd1-95ea-5489-9df7-3abdd322d73c', 'gcp_file_id': '', 'issue_date': '2021-05-12T00:00:00Z', 'organization': 'CG-092', 'embedding': 'text-embedding-ada-002'}\n",
      "2025-06-14 10:49:12,960 - WARNING - 🚫 Missing required metadata keys: {'upsert_date': '2024-12-18T23:32:06Z', 'source': './raw_pdfs/CG Public Affairs  CIM_5700_13A_2021-05-01.pdf', 'page': 130, 'issue_date': '2021-05-12T00:00:00Z', 'page_count': 133, 'organization': 'CG-092', 'publication_number': 'COMDTINST M5700.13A', 'embedding': 'text-embedding-ada-002', 'title': 'COAST GUARD EXTERNAL AFFAIRS MANUAL, COMDTINST M5700.13A', 'scope': 'national', 'unit': '', 'public_release': True, 'pdf_id': 'd354afd1-95ea-5489-9df7-3abdd322d73c', 'gcp_file_id': '', 'aux_specific': False, 'expiration_date': '2031-05-13T00:00:00Z'}\n",
      "2025-06-14 10:49:12,961 - WARNING - 🚫 Missing required metadata keys: {'scope': 'national', 'unit': '', 'title': 'COAST GUARD EXTERNAL AFFAIRS MANUAL, COMDTINST M5700.13A', 'upsert_date': '2024-12-18T23:32:06Z', 'issue_date': '2021-05-12T00:00:00Z', 'embedding': 'text-embedding-ada-002', 'public_release': True, 'pdf_id': 'd354afd1-95ea-5489-9df7-3abdd322d73c', 'gcp_file_id': '', 'source': './raw_pdfs/CG Public Affairs  CIM_5700_13A_2021-05-01.pdf', 'page_count': 133, 'page': 56, 'publication_number': 'COMDTINST M5700.13A', 'organization': 'CG-092', 'expiration_date': '2031-05-13T00:00:00Z', 'aux_specific': False}\n",
      "2025-06-14 10:49:12,961 - WARNING - 🚫 Missing required metadata keys: {'title': 'COAST GUARD EXTERNAL AFFAIRS MANUAL, COMDTINST M5700.13A', 'page': 92, 'aux_specific': False, 'upsert_date': '2024-12-18T23:32:06Z', 'issue_date': '2021-05-12T00:00:00Z', 'source': './raw_pdfs/CG Public Affairs  CIM_5700_13A_2021-05-01.pdf', 'scope': 'national', 'unit': '', 'publication_number': 'COMDTINST M5700.13A', 'public_release': True, 'organization': 'CG-092', 'embedding': 'text-embedding-ada-002', 'page_count': 133, 'expiration_date': '2031-05-13T00:00:00Z', 'pdf_id': 'd354afd1-95ea-5489-9df7-3abdd322d73c', 'gcp_file_id': ''}\n",
      "2025-06-14 10:49:12,961 - WARNING - 🚫 Missing required metadata keys: {'upsert_date': '2024-12-18T23:32:06Z', 'issue_date': '2021-05-12T00:00:00Z', 'scope': 'national', 'unit': '', 'page': 48, 'page_count': 133, 'publication_number': 'COMDTINST M5700.13A', 'title': 'COAST GUARD EXTERNAL AFFAIRS MANUAL, COMDTINST M5700.13A', 'expiration_date': '2031-05-13T00:00:00Z', 'embedding': 'text-embedding-ada-002', 'source': './raw_pdfs/CG Public Affairs  CIM_5700_13A_2021-05-01.pdf', 'pdf_id': 'd354afd1-95ea-5489-9df7-3abdd322d73c', 'gcp_file_id': '', 'public_release': True, 'aux_specific': False, 'organization': 'CG-092'}\n",
      "2025-06-14 10:49:12,961 - WARNING - 🚫 Missing required metadata keys: {'expiration_date': '2031-05-13T00:00:00Z', 'title': 'COAST GUARD EXTERNAL AFFAIRS MANUAL, COMDTINST M5700.13A', 'publication_number': 'COMDTINST M5700.13A', 'embedding': 'text-embedding-ada-002', 'source': './raw_pdfs/CG Public Affairs  CIM_5700_13A_2021-05-01.pdf', 'page': 60, 'upsert_date': '2024-12-18T23:32:06Z', 'public_release': True, 'aux_specific': False, 'pdf_id': 'd354afd1-95ea-5489-9df7-3abdd322d73c', 'gcp_file_id': '', 'scope': 'national', 'unit': '', 'issue_date': '2021-05-12T00:00:00Z', 'page_count': 133, 'organization': 'CG-092'}\n",
      "2025-06-14 10:49:12,961 - WARNING - 🚫 Missing required metadata keys: {'upsert_date': '2024-12-18T23:32:06Z', 'page': 26, 'public_release': True, 'organization': 'CG-092', 'title': 'COAST GUARD EXTERNAL AFFAIRS MANUAL, COMDTINST M5700.13A', 'scope': 'national', 'unit': '', 'pdf_id': 'd354afd1-95ea-5489-9df7-3abdd322d73c', 'gcp_file_id': '', 'publication_number': 'COMDTINST M5700.13A', 'aux_specific': False, 'expiration_date': '2031-05-13T00:00:00Z', 'issue_date': '2021-05-12T00:00:00Z', 'source': './raw_pdfs/CG Public Affairs  CIM_5700_13A_2021-05-01.pdf', 'page_count': 133, 'embedding': 'text-embedding-ada-002'}\n",
      "2025-06-14 10:49:12,961 - WARNING - 🚫 Missing required metadata keys: {'upsert_date': '2024-12-18T23:32:06Z', 'organization': 'CG-092', 'page': 17, 'public_release': True, 'publication_number': 'COMDTINST M5700.13A', 'scope': 'national', 'unit': '', 'embedding': 'text-embedding-ada-002', 'pdf_id': 'd354afd1-95ea-5489-9df7-3abdd322d73c', 'gcp_file_id': '', 'title': 'COAST GUARD EXTERNAL AFFAIRS MANUAL, COMDTINST M5700.13A', 'issue_date': '2021-05-12T00:00:00Z', 'aux_specific': False, 'source': './raw_pdfs/CG Public Affairs  CIM_5700_13A_2021-05-01.pdf', 'page_count': 133, 'expiration_date': '2031-05-13T00:00:00Z'}\n",
      "2025-06-14 10:49:12,962 - WARNING - 🚫 Missing required metadata keys: {'title': 'COAST GUARD EXTERNAL AFFAIRS MANUAL, COMDTINST M5700.13A', 'page': 16, 'issue_date': '2021-05-12T00:00:00Z', 'scope': 'national', 'unit': '', 'organization': 'CG-092', 'expiration_date': '2031-05-13T00:00:00Z', 'page_count': 133, 'embedding': 'text-embedding-ada-002', 'source': './raw_pdfs/CG Public Affairs  CIM_5700_13A_2021-05-01.pdf', 'upsert_date': '2024-12-18T23:32:06Z', 'pdf_id': 'd354afd1-95ea-5489-9df7-3abdd322d73c', 'gcp_file_id': '', 'aux_specific': False, 'publication_number': 'COMDTINST M5700.13A', 'public_release': True}\n",
      "2025-06-14 10:49:12,962 - WARNING - 🚫 Missing required metadata keys: {'publication_number': 'COMDTINST M5700.13A', 'aux_specific': False, 'issue_date': '2021-05-12T00:00:00Z', 'page': 121, 'source': './raw_pdfs/CG Public Affairs  CIM_5700_13A_2021-05-01.pdf', 'page_count': 133, 'scope': 'national', 'unit': '', 'expiration_date': '2031-05-13T00:00:00Z', 'embedding': 'text-embedding-ada-002', 'upsert_date': '2024-12-18T23:32:06Z', 'organization': 'CG-092', 'title': 'COAST GUARD EXTERNAL AFFAIRS MANUAL, COMDTINST M5700.13A', 'public_release': True, 'pdf_id': 'd354afd1-95ea-5489-9df7-3abdd322d73c', 'gcp_file_id': ''}\n",
      "2025-06-14 10:49:12,962 - WARNING - 🚫 Missing required metadata keys: {'pdf_id': 'd354afd1-95ea-5489-9df7-3abdd322d73c', 'gcp_file_id': '', 'page_count': 133, 'page': 39, 'organization': 'CG-092', 'issue_date': '2021-05-12T00:00:00Z', 'embedding': 'text-embedding-ada-002', 'upsert_date': '2024-12-18T23:32:06Z', 'expiration_date': '2031-05-13T00:00:00Z', 'publication_number': 'COMDTINST M5700.13A', 'scope': 'national', 'unit': '', 'aux_specific': False, 'public_release': True, 'title': 'COAST GUARD EXTERNAL AFFAIRS MANUAL, COMDTINST M5700.13A', 'source': './raw_pdfs/CG Public Affairs  CIM_5700_13A_2021-05-01.pdf'}\n",
      "2025-06-14 10:49:12,962 - WARNING - 🚫 Missing required metadata keys: {'source': './raw_pdfs/CG Public Affairs  CIM_5700_13A_2021-05-01.pdf', 'title': 'COAST GUARD EXTERNAL AFFAIRS MANUAL, COMDTINST M5700.13A', 'page': 71, 'organization': 'CG-092', 'expiration_date': '2031-05-13T00:00:00Z', 'aux_specific': False, 'issue_date': '2021-05-12T00:00:00Z', 'scope': 'national', 'unit': '', 'embedding': 'text-embedding-ada-002', 'upsert_date': '2024-12-18T23:32:06Z', 'pdf_id': 'd354afd1-95ea-5489-9df7-3abdd322d73c', 'gcp_file_id': '', 'public_release': True, 'page_count': 133, 'publication_number': 'COMDTINST M5700.13A'}\n",
      "2025-06-14 10:49:12,962 - WARNING - 🚫 Missing required metadata keys: {'page_count': 133, 'source': './raw_pdfs/CG Public Affairs  CIM_5700_13A_2021-05-01.pdf', 'organization': 'CG-092', 'issue_date': '2021-05-12T00:00:00Z', 'scope': 'national', 'unit': '', 'expiration_date': '2031-05-13T00:00:00Z', 'embedding': 'text-embedding-ada-002', 'upsert_date': '2024-12-18T23:32:06Z', 'aux_specific': False, 'public_release': True, 'page': 109, 'pdf_id': 'd354afd1-95ea-5489-9df7-3abdd322d73c', 'gcp_file_id': '', 'publication_number': 'COMDTINST M5700.13A', 'title': 'COAST GUARD EXTERNAL AFFAIRS MANUAL, COMDTINST M5700.13A'}\n",
      "2025-06-14 10:49:12,963 - WARNING - 🚫 Missing required metadata keys: {'expiration_date': '2031-05-13T00:00:00Z', 'issue_date': '2021-05-12T00:00:00Z', 'pdf_id': 'd354afd1-95ea-5489-9df7-3abdd322d73c', 'gcp_file_id': '', 'page': 59, 'publication_number': 'COMDTINST M5700.13A', 'source': './raw_pdfs/CG Public Affairs  CIM_5700_13A_2021-05-01.pdf', 'page_count': 133, 'scope': 'national', 'unit': '', 'organization': 'CG-092', 'embedding': 'text-embedding-ada-002', 'public_release': True, 'upsert_date': '2024-12-18T23:32:06Z', 'title': 'COAST GUARD EXTERNAL AFFAIRS MANUAL, COMDTINST M5700.13A', 'aux_specific': False}\n",
      "2025-06-14 10:49:12,963 - WARNING - 🚫 Missing required metadata keys: {'expiration_date': '2031-05-13T00:00:00Z', 'embedding': 'text-embedding-ada-002', 'title': 'COAST GUARD EXTERNAL AFFAIRS MANUAL, COMDTINST M5700.13A', 'scope': 'national', 'unit': '', 'aux_specific': False, 'page': 58, 'pdf_id': 'd354afd1-95ea-5489-9df7-3abdd322d73c', 'gcp_file_id': '', 'public_release': True, 'publication_number': 'COMDTINST M5700.13A', 'source': './raw_pdfs/CG Public Affairs  CIM_5700_13A_2021-05-01.pdf', 'issue_date': '2021-05-12T00:00:00Z', 'page_count': 133, 'upsert_date': '2024-12-18T23:32:06Z', 'organization': 'CG-092'}\n",
      "2025-06-14 10:49:12,963 - WARNING - 🚫 Missing required metadata keys: {'public_release': True, 'source': './raw_pdfs/CG Public Affairs  CIM_5700_13A_2021-05-01.pdf', 'pdf_id': 'd354afd1-95ea-5489-9df7-3abdd322d73c', 'gcp_file_id': '', 'page_count': 133, 'expiration_date': '2031-05-13T00:00:00Z', 'page': 110, 'publication_number': 'COMDTINST M5700.13A', 'aux_specific': False, 'embedding': 'text-embedding-ada-002', 'upsert_date': '2024-12-18T23:32:06Z', 'issue_date': '2021-05-12T00:00:00Z', 'scope': 'national', 'unit': '', 'organization': 'CG-092', 'title': 'COAST GUARD EXTERNAL AFFAIRS MANUAL, COMDTINST M5700.13A'}\n",
      "2025-06-14 10:49:12,963 - WARNING - 🚫 Missing required metadata keys: {'source': './raw_pdfs/CG Public Affairs  CIM_5700_13A_2021-05-01.pdf', 'title': 'COAST GUARD EXTERNAL AFFAIRS MANUAL, COMDTINST M5700.13A', 'aux_specific': False, 'issue_date': '2021-05-12T00:00:00Z', 'pdf_id': 'd354afd1-95ea-5489-9df7-3abdd322d73c', 'gcp_file_id': '', 'public_release': True, 'page_count': 133, 'scope': 'national', 'unit': '', 'organization': 'CG-092', 'publication_number': 'COMDTINST M5700.13A', 'expiration_date': '2031-05-13T00:00:00Z', 'embedding': 'text-embedding-ada-002', 'upsert_date': '2024-12-18T23:32:06Z', 'page': 61}\n",
      "2025-06-14 10:49:12,964 - WARNING - 🚫 Missing required metadata keys: {'upsert_date': '2024-12-18T23:32:06Z', 'embedding': 'text-embedding-ada-002', 'organization': 'CG-092', 'aux_specific': False, 'title': 'COAST GUARD EXTERNAL AFFAIRS MANUAL, COMDTINST M5700.13A', 'page': 64, 'source': './raw_pdfs/CG Public Affairs  CIM_5700_13A_2021-05-01.pdf', 'public_release': True, 'publication_number': 'COMDTINST M5700.13A', 'issue_date': '2021-05-12T00:00:00Z', 'page_count': 133, 'scope': 'national', 'unit': '', 'expiration_date': '2031-05-13T00:00:00Z', 'pdf_id': 'd354afd1-95ea-5489-9df7-3abdd322d73c', 'gcp_file_id': ''}\n",
      "2025-06-14 10:49:12,964 - WARNING - 🚫 Missing required metadata keys: {'pdf_id': 'd354afd1-95ea-5489-9df7-3abdd322d73c', 'gcp_file_id': '', 'aux_specific': False, 'organization': 'CG-092', 'public_release': True, 'scope': 'national', 'unit': '', 'source': './raw_pdfs/CG Public Affairs  CIM_5700_13A_2021-05-01.pdf', 'title': 'COAST GUARD EXTERNAL AFFAIRS MANUAL, COMDTINST M5700.13A', 'issue_date': '2021-05-12T00:00:00Z', 'publication_number': 'COMDTINST M5700.13A', 'page_count': 133, 'expiration_date': '2031-05-13T00:00:00Z', 'embedding': 'text-embedding-ada-002', 'upsert_date': '2024-12-18T23:32:06Z', 'page': 65}\n",
      "2025-06-14 10:49:12,964 - WARNING - 🚫 Missing required metadata keys: {'title': 'COAST GUARD EXTERNAL AFFAIRS MANUAL, COMDTINST M5700.13A', 'source': './raw_pdfs/CG Public Affairs  CIM_5700_13A_2021-05-01.pdf', 'page': 53, 'pdf_id': 'd354afd1-95ea-5489-9df7-3abdd322d73c', 'gcp_file_id': '', 'embedding': 'text-embedding-ada-002', 'page_count': 133, 'organization': 'CG-092', 'public_release': True, 'scope': 'national', 'unit': '', 'upsert_date': '2024-12-18T23:32:06Z', 'issue_date': '2021-05-12T00:00:00Z', 'publication_number': 'COMDTINST M5700.13A', 'aux_specific': False, 'expiration_date': '2031-05-13T00:00:00Z'}\n",
      "2025-06-14 10:49:12,964 - WARNING - 🚫 Missing required metadata keys: {'pdf_id': 'd354afd1-95ea-5489-9df7-3abdd322d73c', 'gcp_file_id': '', 'issue_date': '2021-05-12T00:00:00Z', 'source': './raw_pdfs/CG Public Affairs  CIM_5700_13A_2021-05-01.pdf', 'expiration_date': '2031-05-13T00:00:00Z', 'public_release': True, 'publication_number': 'COMDTINST M5700.13A', 'aux_specific': False, 'title': 'COAST GUARD EXTERNAL AFFAIRS MANUAL, COMDTINST M5700.13A', 'page_count': 133, 'scope': 'national', 'unit': '', 'organization': 'CG-092', 'page': 22, 'embedding': 'text-embedding-ada-002', 'upsert_date': '2024-12-18T23:32:06Z'}\n",
      "2025-06-14 10:49:12,965 - WARNING - 🚫 Missing required metadata keys: {'title': 'COAST GUARD EXTERNAL AFFAIRS MANUAL, COMDTINST M5700.13A', 'source': './raw_pdfs/CG Public Affairs  CIM_5700_13A_2021-05-01.pdf', 'organization': 'CG-092', 'page': 49, 'scope': 'national', 'unit': '', 'publication_number': 'COMDTINST M5700.13A', 'aux_specific': False, 'public_release': True, 'expiration_date': '2031-05-13T00:00:00Z', 'embedding': 'text-embedding-ada-002', 'upsert_date': '2024-12-18T23:32:06Z', 'issue_date': '2021-05-12T00:00:00Z', 'page_count': 133, 'pdf_id': 'd354afd1-95ea-5489-9df7-3abdd322d73c', 'gcp_file_id': ''}\n",
      "2025-06-14 10:49:12,965 - WARNING - 🚫 Missing required metadata keys: {'publication_number': 'COMDTINST M5700.13A', 'page_count': 133, 'source': './raw_pdfs/CG Public Affairs  CIM_5700_13A_2021-05-01.pdf', 'page': 12, 'scope': 'national', 'unit': '', 'organization': 'CG-092', 'pdf_id': 'd354afd1-95ea-5489-9df7-3abdd322d73c', 'gcp_file_id': '', 'aux_specific': False, 'issue_date': '2021-05-12T00:00:00Z', 'title': 'COAST GUARD EXTERNAL AFFAIRS MANUAL, COMDTINST M5700.13A', 'embedding': 'text-embedding-ada-002', 'public_release': True, 'expiration_date': '2031-05-13T00:00:00Z', 'upsert_date': '2024-12-18T23:32:06Z'}\n",
      "2025-06-14 10:49:12,965 - WARNING - 🚫 Missing required metadata keys: {'aux_specific': False, 'expiration_date': '2031-05-13T00:00:00Z', 'embedding': 'text-embedding-ada-002', 'public_release': True, 'upsert_date': '2024-12-18T23:32:06Z', 'pdf_id': 'd354afd1-95ea-5489-9df7-3abdd322d73c', 'gcp_file_id': '', 'publication_number': 'COMDTINST M5700.13A', 'issue_date': '2021-05-12T00:00:00Z', 'title': 'COAST GUARD EXTERNAL AFFAIRS MANUAL, COMDTINST M5700.13A', 'page': 127, 'page_count': 133, 'source': './raw_pdfs/CG Public Affairs  CIM_5700_13A_2021-05-01.pdf', 'scope': 'national', 'unit': '', 'organization': 'CG-092'}\n",
      "2025-06-14 10:49:12,965 - WARNING - 🚫 Missing required metadata keys: {'embedding': 'text-embedding-ada-002', 'issue_date': '2021-05-12T00:00:00Z', 'scope': 'national', 'unit': '', 'pdf_id': 'd354afd1-95ea-5489-9df7-3abdd322d73c', 'gcp_file_id': '', 'aux_specific': False, 'page_count': 133, 'public_release': True, 'organization': 'CG-092', 'upsert_date': '2024-12-18T23:32:06Z', 'expiration_date': '2031-05-13T00:00:00Z', 'publication_number': 'COMDTINST M5700.13A', 'title': 'COAST GUARD EXTERNAL AFFAIRS MANUAL, COMDTINST M5700.13A', 'page': 69, 'source': './raw_pdfs/CG Public Affairs  CIM_5700_13A_2021-05-01.pdf'}\n",
      "2025-06-14 10:49:12,965 - WARNING - 🚫 Missing required metadata keys: {'upsert_date': '2024-12-18T23:32:06Z', 'source': './raw_pdfs/CG Public Affairs  CIM_5700_13A_2021-05-01.pdf', 'page_count': 133, 'issue_date': '2021-05-12T00:00:00Z', 'scope': 'national', 'unit': '', 'organization': 'CG-092', 'public_release': True, 'embedding': 'text-embedding-ada-002', 'page': 87, 'title': 'COAST GUARD EXTERNAL AFFAIRS MANUAL, COMDTINST M5700.13A', 'publication_number': 'COMDTINST M5700.13A', 'aux_specific': False, 'pdf_id': 'd354afd1-95ea-5489-9df7-3abdd322d73c', 'gcp_file_id': '', 'expiration_date': '2031-05-13T00:00:00Z'}\n",
      "2025-06-14 10:49:12,965 - WARNING - 🚫 Missing required metadata keys: {'public_release': True, 'organization': 'CG-092', 'expiration_date': '2031-05-13T00:00:00Z', 'title': 'COAST GUARD EXTERNAL AFFAIRS MANUAL, COMDTINST M5700.13A', 'pdf_id': 'd354afd1-95ea-5489-9df7-3abdd322d73c', 'gcp_file_id': '', 'issue_date': '2021-05-12T00:00:00Z', 'embedding': 'text-embedding-ada-002', 'publication_number': 'COMDTINST M5700.13A', 'upsert_date': '2024-12-18T23:32:06Z', 'page_count': 133, 'source': './raw_pdfs/CG Public Affairs  CIM_5700_13A_2021-05-01.pdf', 'scope': 'national', 'unit': '', 'page': 97, 'aux_specific': False}\n",
      "2025-06-14 10:49:12,966 - WARNING - 🚫 Missing required metadata keys: {'embedding': 'text-embedding-ada-002', 'scope': 'national', 'unit': '', 'source': './raw_pdfs/CG Public Affairs  CIM_5700_13A_2021-05-01.pdf', 'organization': 'CG-092', 'aux_specific': False, 'pdf_id': 'd354afd1-95ea-5489-9df7-3abdd322d73c', 'gcp_file_id': '', 'public_release': True, 'page': 31, 'title': 'COAST GUARD EXTERNAL AFFAIRS MANUAL, COMDTINST M5700.13A', 'publication_number': 'COMDTINST M5700.13A', 'expiration_date': '2031-05-13T00:00:00Z', 'upsert_date': '2024-12-18T23:32:06Z', 'issue_date': '2021-05-12T00:00:00Z', 'page_count': 133}\n",
      "2025-06-14 10:49:12,966 - WARNING - 🚫 Missing required metadata keys: {'page_count': 133, 'pdf_id': 'd354afd1-95ea-5489-9df7-3abdd322d73c', 'gcp_file_id': '', 'source': './raw_pdfs/CG Public Affairs  CIM_5700_13A_2021-05-01.pdf', 'title': 'COAST GUARD EXTERNAL AFFAIRS MANUAL, COMDTINST M5700.13A', 'aux_specific': False, 'public_release': True, 'publication_number': 'COMDTINST M5700.13A', 'page': 55, 'issue_date': '2021-05-12T00:00:00Z', 'scope': 'national', 'unit': '', 'organization': 'CG-092', 'expiration_date': '2031-05-13T00:00:00Z', 'embedding': 'text-embedding-ada-002', 'upsert_date': '2024-12-18T23:32:06Z'}\n",
      "2025-06-14 10:49:12,966 - WARNING - 🚫 Missing required metadata keys: {'title': 'COAST GUARD EXTERNAL AFFAIRS MANUAL, COMDTINST M5700.13A', 'scope': 'national', 'unit': '', 'issue_date': '2021-05-12T00:00:00Z', 'source': './raw_pdfs/CG Public Affairs  CIM_5700_13A_2021-05-01.pdf', 'organization': 'CG-092', 'expiration_date': '2031-05-13T00:00:00Z', 'pdf_id': 'd354afd1-95ea-5489-9df7-3abdd322d73c', 'gcp_file_id': '', 'public_release': True, 'publication_number': 'COMDTINST M5700.13A', 'embedding': 'text-embedding-ada-002', 'upsert_date': '2024-12-18T23:32:06Z', 'page_count': 133, 'aux_specific': False, 'page': 34}\n",
      "2025-06-14 10:49:12,966 - WARNING - 🚫 Missing required metadata keys: {'scope': 'national', 'unit': '', 'aux_specific': False, 'page': 35, 'public_release': True, 'publication_number': 'COMDTINST M5700.13A', 'title': 'COAST GUARD EXTERNAL AFFAIRS MANUAL, COMDTINST M5700.13A', 'pdf_id': 'd354afd1-95ea-5489-9df7-3abdd322d73c', 'gcp_file_id': '', 'source': './raw_pdfs/CG Public Affairs  CIM_5700_13A_2021-05-01.pdf', 'issue_date': '2021-05-12T00:00:00Z', 'page_count': 133, 'organization': 'CG-092', 'expiration_date': '2031-05-13T00:00:00Z', 'embedding': 'text-embedding-ada-002', 'upsert_date': '2024-12-18T23:32:06Z'}\n",
      "2025-06-14 10:49:12,967 - WARNING - 🚫 Missing required metadata keys: {'issue_date': '2021-05-12T00:00:00Z', 'scope': 'national', 'unit': '', 'page_count': 133, 'upsert_date': '2024-12-18T23:32:06Z', 'aux_specific': False, 'organization': 'CG-092', 'embedding': 'text-embedding-ada-002', 'page': 20, 'public_release': True, 'source': './raw_pdfs/CG Public Affairs  CIM_5700_13A_2021-05-01.pdf', 'title': 'COAST GUARD EXTERNAL AFFAIRS MANUAL, COMDTINST M5700.13A', 'expiration_date': '2031-05-13T00:00:00Z', 'pdf_id': 'd354afd1-95ea-5489-9df7-3abdd322d73c', 'gcp_file_id': '', 'publication_number': 'COMDTINST M5700.13A'}\n",
      "2025-06-14 10:49:12,967 - WARNING - 🚫 Missing required metadata keys: {'public_release': True, 'expiration_date': '2031-05-13T00:00:00Z', 'page_count': 133, 'publication_number': 'COMDTINST M5700.13A', 'issue_date': '2021-05-12T00:00:00Z', 'scope': 'national', 'unit': '', 'source': './raw_pdfs/CG Public Affairs  CIM_5700_13A_2021-05-01.pdf', 'upsert_date': '2024-12-18T23:32:06Z', 'embedding': 'text-embedding-ada-002', 'pdf_id': 'd354afd1-95ea-5489-9df7-3abdd322d73c', 'gcp_file_id': '', 'page': 93, 'organization': 'CG-092', 'aux_specific': False, 'title': 'COAST GUARD EXTERNAL AFFAIRS MANUAL, COMDTINST M5700.13A'}\n",
      "2025-06-14 10:49:12,968 - WARNING - 🚫 Missing required metadata keys: {'page': 10, 'issue_date': '2021-05-12T00:00:00Z', 'public_release': True, 'organization': 'CG-092', 'scope': 'national', 'unit': '', 'embedding': 'text-embedding-ada-002', 'upsert_date': '2024-12-18T23:32:06Z', 'page_count': 133, 'title': 'COAST GUARD EXTERNAL AFFAIRS MANUAL, COMDTINST M5700.13A', 'source': './raw_pdfs/CG Public Affairs  CIM_5700_13A_2021-05-01.pdf', 'pdf_id': 'd354afd1-95ea-5489-9df7-3abdd322d73c', 'gcp_file_id': '', 'aux_specific': False, 'expiration_date': '2031-05-13T00:00:00Z', 'publication_number': 'COMDTINST M5700.13A'}\n",
      "2025-06-14 10:49:12,968 - WARNING - 🚫 Missing required metadata keys: {'page': 78, 'issue_date': '2021-05-12T00:00:00Z', 'embedding': 'text-embedding-ada-002', 'pdf_id': 'd354afd1-95ea-5489-9df7-3abdd322d73c', 'gcp_file_id': '', 'aux_specific': False, 'scope': 'national', 'unit': '', 'organization': 'CG-092', 'title': 'COAST GUARD EXTERNAL AFFAIRS MANUAL, COMDTINST M5700.13A', 'publication_number': 'COMDTINST M5700.13A', 'source': './raw_pdfs/CG Public Affairs  CIM_5700_13A_2021-05-01.pdf', 'expiration_date': '2031-05-13T00:00:00Z', 'public_release': True, 'page_count': 133, 'upsert_date': '2024-12-18T23:32:06Z'}\n",
      "2025-06-14 10:49:12,968 - WARNING - 🚫 Missing required metadata keys: {'page': 33, 'issue_date': '2021-05-12T00:00:00Z', 'scope': 'national', 'unit': '', 'expiration_date': '2031-05-13T00:00:00Z', 'embedding': 'text-embedding-ada-002', 'source': './raw_pdfs/CG Public Affairs  CIM_5700_13A_2021-05-01.pdf', 'organization': 'CG-092', 'upsert_date': '2024-12-18T23:32:06Z', 'aux_specific': False, 'page_count': 133, 'pdf_id': 'd354afd1-95ea-5489-9df7-3abdd322d73c', 'gcp_file_id': '', 'publication_number': 'COMDTINST M5700.13A', 'title': 'COAST GUARD EXTERNAL AFFAIRS MANUAL, COMDTINST M5700.13A', 'public_release': True}\n",
      "2025-06-14 10:49:12,968 - WARNING - 🚫 Missing required metadata keys: {'scope': 'national', 'unit': '', 'publication_number': 'COMDTINST M5700.13A', 'issue_date': '2021-05-12T00:00:00Z', 'public_release': True, 'aux_specific': False, 'pdf_id': 'd354afd1-95ea-5489-9df7-3abdd322d73c', 'gcp_file_id': '', 'title': 'COAST GUARD EXTERNAL AFFAIRS MANUAL, COMDTINST M5700.13A', 'source': './raw_pdfs/CG Public Affairs  CIM_5700_13A_2021-05-01.pdf', 'organization': 'CG-092', 'expiration_date': '2031-05-13T00:00:00Z', 'embedding': 'text-embedding-ada-002', 'upsert_date': '2024-12-18T23:32:06Z', 'page_count': 133, 'page': 43}\n",
      "2025-06-14 10:49:12,968 - WARNING - 🚫 Missing required metadata keys: {'publication_number': 'COMDTINST M5700.13A', 'scope': 'national', 'unit': '', 'source': './raw_pdfs/CG Public Affairs  CIM_5700_13A_2021-05-01.pdf', 'title': 'COAST GUARD EXTERNAL AFFAIRS MANUAL, COMDTINST M5700.13A', 'page': 81, 'pdf_id': 'd354afd1-95ea-5489-9df7-3abdd322d73c', 'gcp_file_id': '', 'issue_date': '2021-05-12T00:00:00Z', 'page_count': 133, 'organization': 'CG-092', 'expiration_date': '2031-05-13T00:00:00Z', 'public_release': True, 'upsert_date': '2024-12-18T23:32:06Z', 'aux_specific': False, 'embedding': 'text-embedding-ada-002'}\n",
      "2025-06-14 10:49:12,969 - WARNING - 🚫 Missing required metadata keys: {'title': 'COAST GUARD EXTERNAL AFFAIRS MANUAL, COMDTINST M5700.13A', 'page': 44, 'publication_number': 'COMDTINST M5700.13A', 'page_count': 133, 'issue_date': '2021-05-12T00:00:00Z', 'scope': 'national', 'unit': '', 'aux_specific': False, 'public_release': True, 'expiration_date': '2031-05-13T00:00:00Z', 'source': './raw_pdfs/CG Public Affairs  CIM_5700_13A_2021-05-01.pdf', 'organization': 'CG-092', 'embedding': 'text-embedding-ada-002', 'upsert_date': '2024-12-18T23:32:06Z', 'pdf_id': 'd354afd1-95ea-5489-9df7-3abdd322d73c', 'gcp_file_id': ''}\n",
      "2025-06-14 10:49:12,969 - WARNING - 🚫 Missing required metadata keys: {'page_count': 133, 'scope': 'national', 'unit': '', 'source': './raw_pdfs/CG Public Affairs  CIM_5700_13A_2021-05-01.pdf', 'pdf_id': 'd354afd1-95ea-5489-9df7-3abdd322d73c', 'gcp_file_id': '', 'embedding': 'text-embedding-ada-002', 'upsert_date': '2024-12-18T23:32:06Z', 'page': 94, 'public_release': True, 'aux_specific': False, 'title': 'COAST GUARD EXTERNAL AFFAIRS MANUAL, COMDTINST M5700.13A', 'publication_number': 'COMDTINST M5700.13A', 'issue_date': '2021-05-12T00:00:00Z', 'expiration_date': '2031-05-13T00:00:00Z', 'organization': 'CG-092'}\n",
      "2025-06-14 10:49:12,969 - WARNING - 🚫 Missing required metadata keys: {'scope': 'national', 'unit': '', 'page': 66, 'source': './raw_pdfs/CG Public Affairs  CIM_5700_13A_2021-05-01.pdf', 'page_count': 133, 'public_release': True, 'upsert_date': '2024-12-18T23:32:06Z', 'organization': 'CG-092', 'issue_date': '2021-05-12T00:00:00Z', 'title': 'COAST GUARD EXTERNAL AFFAIRS MANUAL, COMDTINST M5700.13A', 'pdf_id': 'd354afd1-95ea-5489-9df7-3abdd322d73c', 'gcp_file_id': '', 'publication_number': 'COMDTINST M5700.13A', 'expiration_date': '2031-05-13T00:00:00Z', 'embedding': 'text-embedding-ada-002', 'aux_specific': False}\n",
      "2025-06-14 10:49:12,969 - WARNING - 🚫 Missing required metadata keys: {'page': 6, 'source': './raw_pdfs/CG Public Affairs  CIM_5700_13A_2021-05-01.pdf', 'page_count': 133, 'publication_number': 'COMDTINST M5700.13A', 'aux_specific': False, 'pdf_id': 'd354afd1-95ea-5489-9df7-3abdd322d73c', 'gcp_file_id': '', 'issue_date': '2021-05-12T00:00:00Z', 'scope': 'national', 'unit': '', 'organization': 'CG-092', 'expiration_date': '2031-05-13T00:00:00Z', 'embedding': 'text-embedding-ada-002', 'upsert_date': '2024-12-18T23:32:06Z', 'public_release': True, 'title': 'COAST GUARD EXTERNAL AFFAIRS MANUAL, COMDTINST M5700.13A'}\n",
      "2025-06-14 10:49:12,970 - WARNING - 🚫 Missing required metadata keys: {'pdf_id': 'd354afd1-95ea-5489-9df7-3abdd322d73c', 'gcp_file_id': '', 'page_count': 133, 'embedding': 'text-embedding-ada-002', 'upsert_date': '2024-12-18T23:32:06Z', 'public_release': True, 'publication_number': 'COMDTINST M5700.13A', 'scope': 'national', 'unit': '', 'organization': 'CG-092', 'source': './raw_pdfs/CG Public Affairs  CIM_5700_13A_2021-05-01.pdf', 'aux_specific': False, 'expiration_date': '2031-05-13T00:00:00Z', 'page': 83, 'issue_date': '2021-05-12T00:00:00Z', 'title': 'COAST GUARD EXTERNAL AFFAIRS MANUAL, COMDTINST M5700.13A'}\n",
      "2025-06-14 10:49:12,970 - WARNING - 🚫 Missing required metadata keys: {'organization': 'CG-092', 'page': 3, 'expiration_date': '2031-05-13T00:00:00Z', 'embedding': 'text-embedding-ada-002', 'upsert_date': '2024-12-18T23:32:06Z', 'publication_number': 'COMDTINST M5700.13A', 'aux_specific': False, 'public_release': True, 'title': 'COAST GUARD EXTERNAL AFFAIRS MANUAL, COMDTINST M5700.13A', 'source': './raw_pdfs/CG Public Affairs  CIM_5700_13A_2021-05-01.pdf', 'pdf_id': 'd354afd1-95ea-5489-9df7-3abdd322d73c', 'gcp_file_id': '', 'issue_date': '2021-05-12T00:00:00Z', 'page_count': 133, 'scope': 'national', 'unit': ''}\n",
      "2025-06-14 10:49:12,970 - WARNING - 🚫 Missing required metadata keys: {'page_count': 133, 'public_release': True, 'issue_date': '2021-05-12T00:00:00Z', 'organization': 'CG-092', 'expiration_date': '2031-05-13T00:00:00Z', 'embedding': 'text-embedding-ada-002', 'upsert_date': '2024-12-18T23:32:06Z', 'scope': 'national', 'unit': '', 'title': 'COAST GUARD EXTERNAL AFFAIRS MANUAL, COMDTINST M5700.13A', 'source': './raw_pdfs/CG Public Affairs  CIM_5700_13A_2021-05-01.pdf', 'aux_specific': False, 'page': 37, 'pdf_id': 'd354afd1-95ea-5489-9df7-3abdd322d73c', 'gcp_file_id': '', 'publication_number': 'COMDTINST M5700.13A'}\n",
      "2025-06-14 10:49:12,970 - WARNING - 🚫 Missing required metadata keys: {'public_release': True, 'page': 120, 'aux_specific': False, 'source': './raw_pdfs/CG Public Affairs  CIM_5700_13A_2021-05-01.pdf', 'pdf_id': 'd354afd1-95ea-5489-9df7-3abdd322d73c', 'gcp_file_id': '', 'issue_date': '2021-05-12T00:00:00Z', 'title': 'COAST GUARD EXTERNAL AFFAIRS MANUAL, COMDTINST M5700.13A', 'page_count': 133, 'embedding': 'text-embedding-ada-002', 'scope': 'national', 'unit': '', 'expiration_date': '2031-05-13T00:00:00Z', 'upsert_date': '2024-12-18T23:32:06Z', 'organization': 'CG-092', 'publication_number': 'COMDTINST M5700.13A'}\n",
      "2025-06-14 10:49:12,971 - WARNING - 🚫 Missing required metadata keys: {'scope': 'national', 'unit': '', 'expiration_date': '2031-05-13T00:00:00Z', 'issue_date': '2021-05-12T00:00:00Z', 'embedding': 'text-embedding-ada-002', 'aux_specific': False, 'title': 'COAST GUARD EXTERNAL AFFAIRS MANUAL, COMDTINST M5700.13A', 'public_release': True, 'page_count': 133, 'source': './raw_pdfs/CG Public Affairs  CIM_5700_13A_2021-05-01.pdf', 'pdf_id': 'd354afd1-95ea-5489-9df7-3abdd322d73c', 'gcp_file_id': '', 'page': 98, 'organization': 'CG-092', 'upsert_date': '2024-12-18T23:32:06Z', 'publication_number': 'COMDTINST M5700.13A'}\n",
      "2025-06-14 10:49:12,971 - WARNING - 🚫 Missing required metadata keys: {'publication_number': 'COMDTINST M5700.13A', 'source': './raw_pdfs/CG Public Affairs  CIM_5700_13A_2021-05-01.pdf', 'organization': 'CG-092', 'issue_date': '2021-05-12T00:00:00Z', 'title': 'COAST GUARD EXTERNAL AFFAIRS MANUAL, COMDTINST M5700.13A', 'aux_specific': False, 'public_release': True, 'upsert_date': '2024-12-18T23:32:06Z', 'expiration_date': '2031-05-13T00:00:00Z', 'embedding': 'text-embedding-ada-002', 'page': 88, 'pdf_id': 'd354afd1-95ea-5489-9df7-3abdd322d73c', 'gcp_file_id': '', 'page_count': 133, 'scope': 'national', 'unit': ''}\n",
      "2025-06-14 10:49:12,971 - WARNING - 🚫 Missing required metadata keys: {'scope': 'national', 'unit': '', 'page': 62, 'issue_date': '2021-05-12T00:00:00Z', 'source': './raw_pdfs/CG Public Affairs  CIM_5700_13A_2021-05-01.pdf', 'embedding': 'text-embedding-ada-002', 'title': 'COAST GUARD EXTERNAL AFFAIRS MANUAL, COMDTINST M5700.13A', 'aux_specific': False, 'expiration_date': '2031-05-13T00:00:00Z', 'page_count': 133, 'publication_number': 'COMDTINST M5700.13A', 'pdf_id': 'd354afd1-95ea-5489-9df7-3abdd322d73c', 'gcp_file_id': '', 'public_release': True, 'organization': 'CG-092', 'upsert_date': '2024-12-18T23:32:06Z'}\n",
      "2025-06-14 10:49:12,971 - WARNING - 🚫 Missing required metadata keys: {'issue_date': '2021-05-12T00:00:00Z', 'scope': 'national', 'unit': '', 'source': './raw_pdfs/CG Public Affairs  CIM_5700_13A_2021-05-01.pdf', 'upsert_date': '2024-12-18T23:32:06Z', 'title': 'COAST GUARD EXTERNAL AFFAIRS MANUAL, COMDTINST M5700.13A', 'page_count': 133, 'expiration_date': '2031-05-13T00:00:00Z', 'embedding': 'text-embedding-ada-002', 'aux_specific': False, 'page': 9, 'organization': 'CG-092', 'publication_number': 'COMDTINST M5700.13A', 'pdf_id': 'd354afd1-95ea-5489-9df7-3abdd322d73c', 'gcp_file_id': '', 'public_release': True}\n",
      "2025-06-14 10:49:12,971 - WARNING - 🚫 Missing required metadata keys: {'public_release': True, 'issue_date': '2021-05-12T00:00:00Z', 'scope': 'national', 'unit': '', 'expiration_date': '2031-05-13T00:00:00Z', 'upsert_date': '2024-12-18T23:32:06Z', 'organization': 'CG-092', 'page': 118, 'aux_specific': False, 'embedding': 'text-embedding-ada-002', 'page_count': 133, 'title': 'COAST GUARD EXTERNAL AFFAIRS MANUAL, COMDTINST M5700.13A', 'source': './raw_pdfs/CG Public Affairs  CIM_5700_13A_2021-05-01.pdf', 'publication_number': 'COMDTINST M5700.13A', 'pdf_id': 'd354afd1-95ea-5489-9df7-3abdd322d73c', 'gcp_file_id': ''}\n",
      "2025-06-14 10:49:12,972 - WARNING - 🚫 Missing required metadata keys: {'organization': 'CG-092', 'embedding': 'text-embedding-ada-002', 'source': './raw_pdfs/CG Public Affairs  CIM_5700_13A_2021-05-01.pdf', 'upsert_date': '2024-12-18T23:32:06Z', 'public_release': True, 'title': 'COAST GUARD EXTERNAL AFFAIRS MANUAL, COMDTINST M5700.13A', 'pdf_id': 'd354afd1-95ea-5489-9df7-3abdd322d73c', 'gcp_file_id': '', 'page': 52, 'aux_specific': False, 'publication_number': 'COMDTINST M5700.13A', 'issue_date': '2021-05-12T00:00:00Z', 'page_count': 133, 'scope': 'national', 'unit': '', 'expiration_date': '2031-05-13T00:00:00Z'}\n",
      "2025-06-14 10:49:12,972 - WARNING - 🚫 Missing required metadata keys: {'page': 104, 'public_release': True, 'issue_date': '2021-05-12T00:00:00Z', 'source': './raw_pdfs/CG Public Affairs  CIM_5700_13A_2021-05-01.pdf', 'page_count': 133, 'scope': 'national', 'unit': '', 'embedding': 'text-embedding-ada-002', 'pdf_id': 'd354afd1-95ea-5489-9df7-3abdd322d73c', 'gcp_file_id': '', 'expiration_date': '2031-05-13T00:00:00Z', 'title': 'COAST GUARD EXTERNAL AFFAIRS MANUAL, COMDTINST M5700.13A', 'organization': 'CG-092', 'upsert_date': '2024-12-18T23:32:06Z', 'publication_number': 'COMDTINST M5700.13A', 'aux_specific': False}\n",
      "2025-06-14 10:49:12,972 - WARNING - 🚫 Missing required metadata keys: {'page': 131, 'aux_specific': False, 'embedding': 'text-embedding-ada-002', 'public_release': True, 'publication_number': 'COMDTINST M5700.13A', 'issue_date': '2021-05-12T00:00:00Z', 'scope': 'national', 'unit': '', 'page_count': 133, 'expiration_date': '2031-05-13T00:00:00Z', 'source': './raw_pdfs/CG Public Affairs  CIM_5700_13A_2021-05-01.pdf', 'title': 'COAST GUARD EXTERNAL AFFAIRS MANUAL, COMDTINST M5700.13A', 'organization': 'CG-092', 'pdf_id': 'd354afd1-95ea-5489-9df7-3abdd322d73c', 'gcp_file_id': '', 'upsert_date': '2024-12-18T23:32:06Z'}\n",
      "2025-06-14 10:49:12,972 - WARNING - 🚫 Missing required metadata keys: {'source': './raw_pdfs/CG Public Affairs  CIM_5700_13A_2021-05-01.pdf', 'page': 119, 'title': 'COAST GUARD EXTERNAL AFFAIRS MANUAL, COMDTINST M5700.13A', 'public_release': True, 'embedding': 'text-embedding-ada-002', 'upsert_date': '2024-12-18T23:32:06Z', 'publication_number': 'COMDTINST M5700.13A', 'page_count': 133, 'scope': 'national', 'unit': '', 'organization': 'CG-092', 'pdf_id': 'd354afd1-95ea-5489-9df7-3abdd322d73c', 'gcp_file_id': '', 'aux_specific': False, 'issue_date': '2021-05-12T00:00:00Z', 'expiration_date': '2031-05-13T00:00:00Z'}\n",
      "2025-06-14 10:49:12,972 - WARNING - 🚫 Missing required metadata keys: {'organization': 'CG-092', 'public_release': True, 'issue_date': '2021-05-12T00:00:00Z', 'page_count': 133, 'upsert_date': '2024-12-18T23:32:06Z', 'aux_specific': False, 'source': './raw_pdfs/CG Public Affairs  CIM_5700_13A_2021-05-01.pdf', 'page': 73, 'title': 'COAST GUARD EXTERNAL AFFAIRS MANUAL, COMDTINST M5700.13A', 'publication_number': 'COMDTINST M5700.13A', 'scope': 'national', 'unit': '', 'pdf_id': 'd354afd1-95ea-5489-9df7-3abdd322d73c', 'gcp_file_id': '', 'expiration_date': '2031-05-13T00:00:00Z', 'embedding': 'text-embedding-ada-002'}\n",
      "2025-06-14 10:49:12,973 - WARNING - 🚫 Missing required metadata keys: {'aux_specific': False, 'expiration_date': '2031-05-13T00:00:00Z', 'embedding': 'text-embedding-ada-002', 'page_count': 133, 'publication_number': 'COMDTINST M5700.13A', 'public_release': True, 'scope': 'national', 'unit': '', 'source': './raw_pdfs/CG Public Affairs  CIM_5700_13A_2021-05-01.pdf', 'organization': 'CG-092', 'upsert_date': '2024-12-18T23:32:06Z', 'title': 'COAST GUARD EXTERNAL AFFAIRS MANUAL, COMDTINST M5700.13A', 'page': 76, 'pdf_id': 'd354afd1-95ea-5489-9df7-3abdd322d73c', 'gcp_file_id': '', 'issue_date': '2021-05-12T00:00:00Z'}\n",
      "2025-06-14 10:49:12,973 - WARNING - 🚫 Missing required metadata keys: {'page': 24, 'scope': 'national', 'unit': '', 'title': 'COAST GUARD EXTERNAL AFFAIRS MANUAL, COMDTINST M5700.13A', 'embedding': 'text-embedding-ada-002', 'publication_number': 'COMDTINST M5700.13A', 'upsert_date': '2024-12-18T23:32:06Z', 'page_count': 133, 'aux_specific': False, 'pdf_id': 'd354afd1-95ea-5489-9df7-3abdd322d73c', 'gcp_file_id': '', 'expiration_date': '2031-05-13T00:00:00Z', 'public_release': True, 'organization': 'CG-092', 'issue_date': '2021-05-12T00:00:00Z', 'source': './raw_pdfs/CG Public Affairs  CIM_5700_13A_2021-05-01.pdf'}\n",
      "2025-06-14 10:49:12,973 - WARNING - 🚫 Missing required metadata keys: {'source': './raw_pdfs/CG Public Affairs  CIM_5700_13A_2021-05-01.pdf', 'publication_number': 'COMDTINST M5700.13A', 'title': 'COAST GUARD EXTERNAL AFFAIRS MANUAL, COMDTINST M5700.13A', 'page': 36, 'page_count': 133, 'upsert_date': '2024-12-18T23:32:06Z', 'aux_specific': False, 'public_release': True, 'issue_date': '2021-05-12T00:00:00Z', 'scope': 'national', 'unit': '', 'expiration_date': '2031-05-13T00:00:00Z', 'pdf_id': 'd354afd1-95ea-5489-9df7-3abdd322d73c', 'gcp_file_id': '', 'organization': 'CG-092', 'embedding': 'text-embedding-ada-002'}\n",
      "2025-06-14 10:49:12,973 - WARNING - 🚫 Missing required metadata keys: {'organization': 'CG-092', 'aux_specific': False, 'title': 'COAST GUARD EXTERNAL AFFAIRS MANUAL, COMDTINST M5700.13A', 'page': 54, 'pdf_id': 'd354afd1-95ea-5489-9df7-3abdd322d73c', 'gcp_file_id': '', 'page_count': 133, 'public_release': True, 'publication_number': 'COMDTINST M5700.13A', 'issue_date': '2021-05-12T00:00:00Z', 'scope': 'national', 'unit': '', 'expiration_date': '2031-05-13T00:00:00Z', 'embedding': 'text-embedding-ada-002', 'upsert_date': '2024-12-18T23:32:06Z', 'source': './raw_pdfs/CG Public Affairs  CIM_5700_13A_2021-05-01.pdf'}\n",
      "2025-06-14 10:49:12,974 - WARNING - 🚫 Missing required metadata keys: {'source': './raw_pdfs/CG Public Affairs  CIM_5700_13A_2021-05-01.pdf', 'page': 129, 'aux_specific': False, 'title': 'COAST GUARD EXTERNAL AFFAIRS MANUAL, COMDTINST M5700.13A', 'publication_number': 'COMDTINST M5700.13A', 'organization': 'CG-092', 'pdf_id': 'd354afd1-95ea-5489-9df7-3abdd322d73c', 'gcp_file_id': '', 'public_release': True, 'issue_date': '2021-05-12T00:00:00Z', 'page_count': 133, 'scope': 'national', 'unit': '', 'expiration_date': '2031-05-13T00:00:00Z', 'embedding': 'text-embedding-ada-002', 'upsert_date': '2024-12-18T23:32:06Z'}\n",
      "2025-06-14 10:49:12,974 - WARNING - 🚫 Missing required metadata keys: {'publication_number': 'COMDTINST M5700.13A', 'embedding': 'text-embedding-ada-002', 'source': './raw_pdfs/CG Public Affairs  CIM_5700_13A_2021-05-01.pdf', 'public_release': True, 'issue_date': '2021-05-12T00:00:00Z', 'page_count': 133, 'pdf_id': 'd354afd1-95ea-5489-9df7-3abdd322d73c', 'gcp_file_id': '', 'scope': 'national', 'unit': '', 'organization': 'CG-092', 'expiration_date': '2031-05-13T00:00:00Z', 'title': 'COAST GUARD EXTERNAL AFFAIRS MANUAL, COMDTINST M5700.13A', 'aux_specific': False, 'page': 105, 'upsert_date': '2024-12-18T23:32:06Z'}\n",
      "2025-06-14 10:49:12,974 - WARNING - 🚫 Missing required metadata keys: {'issue_date': '2021-05-12T00:00:00Z', 'page': 77, 'scope': 'national', 'unit': '', 'expiration_date': '2031-05-13T00:00:00Z', 'embedding': 'text-embedding-ada-002', 'aux_specific': False, 'page_count': 133, 'public_release': True, 'upsert_date': '2024-12-18T23:32:06Z', 'pdf_id': 'd354afd1-95ea-5489-9df7-3abdd322d73c', 'gcp_file_id': '', 'organization': 'CG-092', 'title': 'COAST GUARD EXTERNAL AFFAIRS MANUAL, COMDTINST M5700.13A', 'publication_number': 'COMDTINST M5700.13A', 'source': './raw_pdfs/CG Public Affairs  CIM_5700_13A_2021-05-01.pdf'}\n",
      "2025-06-14 10:49:12,974 - WARNING - 🚫 Missing required metadata keys: {'embedding': 'text-embedding-ada-002', 'page': 72, 'pdf_id': 'd354afd1-95ea-5489-9df7-3abdd322d73c', 'gcp_file_id': '', 'upsert_date': '2024-12-18T23:32:06Z', 'page_count': 133, 'issue_date': '2021-05-12T00:00:00Z', 'publication_number': 'COMDTINST M5700.13A', 'title': 'COAST GUARD EXTERNAL AFFAIRS MANUAL, COMDTINST M5700.13A', 'source': './raw_pdfs/CG Public Affairs  CIM_5700_13A_2021-05-01.pdf', 'public_release': True, 'scope': 'national', 'unit': '', 'organization': 'CG-092', 'aux_specific': False, 'expiration_date': '2031-05-13T00:00:00Z'}\n",
      "2025-06-14 10:49:12,974 - WARNING - 🚫 Missing required metadata keys: {'pdf_id': 'd354afd1-95ea-5489-9df7-3abdd322d73c', 'gcp_file_id': '', 'public_release': True, 'publication_number': 'COMDTINST M5700.13A', 'issue_date': '2021-05-12T00:00:00Z', 'page_count': 133, 'upsert_date': '2024-12-18T23:32:06Z', 'scope': 'national', 'unit': '', 'source': './raw_pdfs/CG Public Affairs  CIM_5700_13A_2021-05-01.pdf', 'organization': 'CG-092', 'title': 'COAST GUARD EXTERNAL AFFAIRS MANUAL, COMDTINST M5700.13A', 'expiration_date': '2031-05-13T00:00:00Z', 'embedding': 'text-embedding-ada-002', 'page': 101, 'aux_specific': False}\n",
      "2025-06-14 10:49:12,975 - WARNING - 🚫 Missing required metadata keys: {'embedding': 'text-embedding-ada-002', 'issue_date': '2021-05-12T00:00:00Z', 'pdf_id': 'd354afd1-95ea-5489-9df7-3abdd322d73c', 'gcp_file_id': '', 'title': 'COAST GUARD EXTERNAL AFFAIRS MANUAL, COMDTINST M5700.13A', 'publication_number': 'COMDTINST M5700.13A', 'upsert_date': '2024-12-18T23:32:06Z', 'page': 79, 'public_release': True, 'aux_specific': False, 'page_count': 133, 'scope': 'national', 'unit': '', 'expiration_date': '2031-05-13T00:00:00Z', 'source': './raw_pdfs/CG Public Affairs  CIM_5700_13A_2021-05-01.pdf', 'organization': 'CG-092'}\n",
      "2025-06-14 10:49:12,975 - WARNING - 🚫 Missing required metadata keys: {'scope': 'national', 'unit': '', 'upsert_date': '2024-12-18T23:32:06Z', 'page': 70, 'publication_number': 'COMDTINST M5700.13A', 'embedding': 'text-embedding-ada-002', 'organization': 'CG-092', 'public_release': True, 'aux_specific': False, 'issue_date': '2021-05-12T00:00:00Z', 'expiration_date': '2031-05-13T00:00:00Z', 'title': 'COAST GUARD EXTERNAL AFFAIRS MANUAL, COMDTINST M5700.13A', 'pdf_id': 'd354afd1-95ea-5489-9df7-3abdd322d73c', 'gcp_file_id': '', 'page_count': 133, 'source': './raw_pdfs/CG Public Affairs  CIM_5700_13A_2021-05-01.pdf'}\n",
      "2025-06-14 10:49:12,975 - WARNING - 🚫 Missing required metadata keys: {'aux_specific': False, 'scope': 'national', 'unit': '', 'issue_date': '2021-05-12T00:00:00Z', 'source': './raw_pdfs/CG Public Affairs  CIM_5700_13A_2021-05-01.pdf', 'publication_number': 'COMDTINST M5700.13A', 'expiration_date': '2031-05-13T00:00:00Z', 'embedding': 'text-embedding-ada-002', 'pdf_id': 'd354afd1-95ea-5489-9df7-3abdd322d73c', 'gcp_file_id': '', 'page': 132, 'organization': 'CG-092', 'title': 'COAST GUARD EXTERNAL AFFAIRS MANUAL, COMDTINST M5700.13A', 'upsert_date': '2024-12-18T23:32:06Z', 'page_count': 133, 'public_release': True}\n",
      "2025-06-14 10:49:12,975 - WARNING - 🚫 Missing required metadata keys: {'organization': 'CG-092', 'title': 'COAST GUARD EXTERNAL AFFAIRS MANUAL, COMDTINST M5700.13A', 'public_release': True, 'aux_specific': False, 'issue_date': '2021-05-12T00:00:00Z', 'expiration_date': '2031-05-13T00:00:00Z', 'embedding': 'text-embedding-ada-002', 'page': 90, 'upsert_date': '2024-12-18T23:32:06Z', 'publication_number': 'COMDTINST M5700.13A', 'source': './raw_pdfs/CG Public Affairs  CIM_5700_13A_2021-05-01.pdf', 'page_count': 133, 'scope': 'national', 'unit': '', 'pdf_id': 'd354afd1-95ea-5489-9df7-3abdd322d73c', 'gcp_file_id': ''}\n",
      "2025-06-14 10:49:12,975 - WARNING - 🚫 Missing required metadata keys: {'aux_specific': False, 'scope': 'national', 'unit': '', 'organization': 'CG-092', 'expiration_date': '2031-05-13T00:00:00Z', 'pdf_id': 'd354afd1-95ea-5489-9df7-3abdd322d73c', 'gcp_file_id': '', 'page': 122, 'source': './raw_pdfs/CG Public Affairs  CIM_5700_13A_2021-05-01.pdf', 'title': 'COAST GUARD EXTERNAL AFFAIRS MANUAL, COMDTINST M5700.13A', 'public_release': True, 'issue_date': '2021-05-12T00:00:00Z', 'publication_number': 'COMDTINST M5700.13A', 'embedding': 'text-embedding-ada-002', 'upsert_date': '2024-12-18T23:32:06Z', 'page_count': 133}\n",
      "2025-06-14 10:49:12,976 - WARNING - 🚫 Missing required metadata keys: {'public_release': True, 'scope': 'national', 'unit': '', 'embedding': 'text-embedding-ada-002', 'upsert_date': '2024-12-18T23:32:06Z', 'source': './raw_pdfs/CG Public Affairs  CIM_5700_13A_2021-05-01.pdf', 'publication_number': 'COMDTINST M5700.13A', 'page': 106, 'title': 'COAST GUARD EXTERNAL AFFAIRS MANUAL, COMDTINST M5700.13A', 'page_count': 133, 'pdf_id': 'd354afd1-95ea-5489-9df7-3abdd322d73c', 'gcp_file_id': '', 'issue_date': '2021-05-12T00:00:00Z', 'organization': 'CG-092', 'expiration_date': '2031-05-13T00:00:00Z', 'aux_specific': False}\n",
      "2025-06-14 10:49:12,976 - WARNING - 🚫 Missing required metadata keys: {'upsert_date': '2024-12-18T23:32:06Z', 'aux_specific': False, 'expiration_date': '2031-05-13T00:00:00Z', 'source': './raw_pdfs/CG Public Affairs  CIM_5700_13A_2021-05-01.pdf', 'organization': 'CG-092', 'page_count': 133, 'scope': 'national', 'unit': '', 'pdf_id': 'd354afd1-95ea-5489-9df7-3abdd322d73c', 'gcp_file_id': '', 'title': 'COAST GUARD EXTERNAL AFFAIRS MANUAL, COMDTINST M5700.13A', 'issue_date': '2021-05-12T00:00:00Z', 'embedding': 'text-embedding-ada-002', 'public_release': True, 'publication_number': 'COMDTINST M5700.13A', 'page': 80}\n",
      "2025-06-14 10:49:12,976 - WARNING - 🚫 Missing required metadata keys: {'source': './raw_pdfs/CG Public Affairs  CIM_5700_13A_2021-05-01.pdf', 'upsert_date': '2024-12-18T23:32:06Z', 'public_release': True, 'title': 'COAST GUARD EXTERNAL AFFAIRS MANUAL, COMDTINST M5700.13A', 'organization': 'CG-092', 'aux_specific': False, 'page_count': 133, 'pdf_id': 'd354afd1-95ea-5489-9df7-3abdd322d73c', 'gcp_file_id': '', 'issue_date': '2021-05-12T00:00:00Z', 'publication_number': 'COMDTINST M5700.13A', 'page': 126, 'embedding': 'text-embedding-ada-002', 'scope': 'national', 'unit': '', 'expiration_date': '2031-05-13T00:00:00Z'}\n",
      "2025-06-14 10:49:12,976 - WARNING - 🚫 Missing required metadata keys: {'upsert_date': '2024-12-18T23:32:06Z', 'source': './raw_pdfs/CG Public Affairs  CIM_5700_13A_2021-05-01.pdf', 'title': 'COAST GUARD EXTERNAL AFFAIRS MANUAL, COMDTINST M5700.13A', 'pdf_id': 'd354afd1-95ea-5489-9df7-3abdd322d73c', 'gcp_file_id': '', 'publication_number': 'COMDTINST M5700.13A', 'page_count': 133, 'page': 86, 'scope': 'national', 'unit': '', 'organization': 'CG-092', 'expiration_date': '2031-05-13T00:00:00Z', 'issue_date': '2021-05-12T00:00:00Z', 'embedding': 'text-embedding-ada-002', 'aux_specific': False, 'public_release': True}\n",
      "2025-06-14 10:49:12,976 - WARNING - 🚫 Missing required metadata keys: {'expiration_date': '2031-05-13T00:00:00Z', 'embedding': 'text-embedding-ada-002', 'upsert_date': '2024-12-18T23:32:06Z', 'source': './raw_pdfs/CG Public Affairs  CIM_5700_13A_2021-05-01.pdf', 'publication_number': 'COMDTINST M5700.13A', 'public_release': True, 'aux_specific': False, 'page': 115, 'issue_date': '2021-05-12T00:00:00Z', 'page_count': 133, 'scope': 'national', 'unit': '', 'title': 'COAST GUARD EXTERNAL AFFAIRS MANUAL, COMDTINST M5700.13A', 'pdf_id': 'd354afd1-95ea-5489-9df7-3abdd322d73c', 'gcp_file_id': '', 'organization': 'CG-092'}\n",
      "2025-06-14 10:49:12,977 - WARNING - 🚫 Missing required metadata keys: {'title': 'COAST GUARD EXTERNAL AFFAIRS MANUAL, COMDTINST M5700.13A', 'expiration_date': '2031-05-13T00:00:00Z', 'upsert_date': '2024-12-18T23:32:06Z', 'publication_number': 'COMDTINST M5700.13A', 'embedding': 'text-embedding-ada-002', 'page_count': 133, 'aux_specific': False, 'public_release': True, 'pdf_id': 'd354afd1-95ea-5489-9df7-3abdd322d73c', 'gcp_file_id': '', 'page': 42, 'scope': 'national', 'unit': '', 'source': './raw_pdfs/CG Public Affairs  CIM_5700_13A_2021-05-01.pdf', 'issue_date': '2021-05-12T00:00:00Z', 'organization': 'CG-092'}\n",
      "2025-06-14 10:49:12,977 - WARNING - 🚫 Missing required metadata keys: {'expiration_date': '2031-05-13T00:00:00Z', 'publication_number': 'COMDTINST M5700.13A', 'upsert_date': '2024-12-18T23:32:06Z', 'issue_date': '2021-05-12T00:00:00Z', 'embedding': 'text-embedding-ada-002', 'aux_specific': False, 'title': 'COAST GUARD EXTERNAL AFFAIRS MANUAL, COMDTINST M5700.13A', 'public_release': True, 'page_count': 133, 'scope': 'national', 'unit': '', 'organization': 'CG-092', 'page': 29, 'pdf_id': 'd354afd1-95ea-5489-9df7-3abdd322d73c', 'gcp_file_id': '', 'source': './raw_pdfs/CG Public Affairs  CIM_5700_13A_2021-05-01.pdf'}\n",
      "2025-06-14 10:49:12,977 - WARNING - 🚫 Missing required metadata keys: {'embedding': 'text-embedding-ada-002', 'title': 'COAST GUARD EXTERNAL AFFAIRS MANUAL, COMDTINST M5700.13A', 'upsert_date': '2024-12-18T23:32:06Z', 'pdf_id': 'd354afd1-95ea-5489-9df7-3abdd322d73c', 'gcp_file_id': '', 'page': 38, 'aux_specific': False, 'publication_number': 'COMDTINST M5700.13A', 'scope': 'national', 'unit': '', 'source': './raw_pdfs/CG Public Affairs  CIM_5700_13A_2021-05-01.pdf', 'issue_date': '2021-05-12T00:00:00Z', 'public_release': True, 'page_count': 133, 'organization': 'CG-092', 'expiration_date': '2031-05-13T00:00:00Z'}\n",
      "2025-06-14 10:49:12,977 - WARNING - 🚫 Missing required metadata keys: {'pdf_id': 'd354afd1-95ea-5489-9df7-3abdd322d73c', 'gcp_file_id': '', 'page': 123, 'expiration_date': '2031-05-13T00:00:00Z', 'embedding': 'text-embedding-ada-002', 'title': 'COAST GUARD EXTERNAL AFFAIRS MANUAL, COMDTINST M5700.13A', 'scope': 'national', 'unit': '', 'issue_date': '2021-05-12T00:00:00Z', 'upsert_date': '2024-12-18T23:32:06Z', 'source': './raw_pdfs/CG Public Affairs  CIM_5700_13A_2021-05-01.pdf', 'public_release': True, 'publication_number': 'COMDTINST M5700.13A', 'page_count': 133, 'aux_specific': False, 'organization': 'CG-092'}\n",
      "2025-06-14 10:49:12,977 - WARNING - 🚫 Missing required metadata keys: {'page': 57, 'scope': 'national', 'unit': '', 'issue_date': '2021-05-12T00:00:00Z', 'source': './raw_pdfs/CG Public Affairs  CIM_5700_13A_2021-05-01.pdf', 'publication_number': 'COMDTINST M5700.13A', 'pdf_id': 'd354afd1-95ea-5489-9df7-3abdd322d73c', 'gcp_file_id': '', 'public_release': True, 'page_count': 133, 'organization': 'CG-092', 'aux_specific': False, 'expiration_date': '2031-05-13T00:00:00Z', 'upsert_date': '2024-12-18T23:32:06Z', 'embedding': 'text-embedding-ada-002', 'title': 'COAST GUARD EXTERNAL AFFAIRS MANUAL, COMDTINST M5700.13A'}\n",
      "2025-06-14 10:49:12,978 - WARNING - 🚫 Missing required metadata keys: {'issue_date': '2021-05-12T00:00:00Z', 'page_count': 133, 'organization': 'CG-092', 'page': 125, 'source': './raw_pdfs/CG Public Affairs  CIM_5700_13A_2021-05-01.pdf', 'public_release': True, 'embedding': 'text-embedding-ada-002', 'title': 'COAST GUARD EXTERNAL AFFAIRS MANUAL, COMDTINST M5700.13A', 'pdf_id': 'd354afd1-95ea-5489-9df7-3abdd322d73c', 'gcp_file_id': '', 'publication_number': 'COMDTINST M5700.13A', 'aux_specific': False, 'scope': 'national', 'unit': '', 'expiration_date': '2031-05-13T00:00:00Z', 'upsert_date': '2024-12-18T23:32:06Z'}\n",
      "2025-06-14 10:49:12,978 - WARNING - 🚫 Missing required metadata keys: {'embedding': 'text-embedding-ada-002', 'expiration_date': '2031-05-13T00:00:00Z', 'upsert_date': '2024-12-18T23:32:06Z', 'organization': 'CG-092', 'source': './raw_pdfs/CG Public Affairs  CIM_5700_13A_2021-05-01.pdf', 'page': 25, 'publication_number': 'COMDTINST M5700.13A', 'pdf_id': 'd354afd1-95ea-5489-9df7-3abdd322d73c', 'gcp_file_id': '', 'title': 'COAST GUARD EXTERNAL AFFAIRS MANUAL, COMDTINST M5700.13A', 'public_release': True, 'aux_specific': False, 'issue_date': '2021-05-12T00:00:00Z', 'page_count': 133, 'scope': 'national', 'unit': ''}\n",
      "2025-06-14 10:49:12,978 - WARNING - 🚫 Missing required metadata keys: {'scope': 'national', 'unit': '', 'pdf_id': 'd354afd1-95ea-5489-9df7-3abdd322d73c', 'gcp_file_id': '', 'public_release': True, 'page_count': 133, 'organization': 'CG-092', 'expiration_date': '2031-05-13T00:00:00Z', 'embedding': 'text-embedding-ada-002', 'upsert_date': '2024-12-18T23:32:06Z', 'issue_date': '2021-05-12T00:00:00Z', 'page': 41, 'title': 'COAST GUARD EXTERNAL AFFAIRS MANUAL, COMDTINST M5700.13A', 'aux_specific': False, 'publication_number': 'COMDTINST M5700.13A', 'source': './raw_pdfs/CG Public Affairs  CIM_5700_13A_2021-05-01.pdf'}\n",
      "2025-06-14 10:49:12,978 - WARNING - 🚫 Missing required metadata keys: {'issue_date': '2021-05-12T00:00:00Z', 'page_count': 133, 'expiration_date': '2031-05-13T00:00:00Z', 'title': 'COAST GUARD EXTERNAL AFFAIRS MANUAL, COMDTINST M5700.13A', 'embedding': 'text-embedding-ada-002', 'pdf_id': 'd354afd1-95ea-5489-9df7-3abdd322d73c', 'gcp_file_id': '', 'page': 27, 'organization': 'CG-092', 'publication_number': 'COMDTINST M5700.13A', 'scope': 'national', 'unit': '', 'upsert_date': '2024-12-18T23:32:06Z', 'source': './raw_pdfs/CG Public Affairs  CIM_5700_13A_2021-05-01.pdf', 'aux_specific': False, 'public_release': True}\n",
      "2025-06-14 10:49:12,978 - WARNING - 🚫 Missing required metadata keys: {'page_count': 133, 'scope': 'national', 'unit': '', 'pdf_id': 'd354afd1-95ea-5489-9df7-3abdd322d73c', 'gcp_file_id': '', 'issue_date': '2021-05-12T00:00:00Z', 'organization': 'CG-092', 'expiration_date': '2031-05-13T00:00:00Z', 'embedding': 'text-embedding-ada-002', 'upsert_date': '2024-12-18T23:32:06Z', 'title': 'COAST GUARD EXTERNAL AFFAIRS MANUAL, COMDTINST M5700.13A', 'source': './raw_pdfs/CG Public Affairs  CIM_5700_13A_2021-05-01.pdf', 'public_release': True, 'page': 111, 'publication_number': 'COMDTINST M5700.13A', 'aux_specific': False}\n",
      "2025-06-14 10:49:12,979 - WARNING - 🚫 Missing required metadata keys: {'embedding': 'text-embedding-ada-002', 'organization': 'CG-092', 'upsert_date': '2024-12-18T23:32:06Z', 'source': './raw_pdfs/CG Public Affairs  CIM_5700_13A_2021-05-01.pdf', 'scope': 'national', 'unit': '', 'publication_number': 'COMDTINST M5700.13A', 'public_release': True, 'title': 'COAST GUARD EXTERNAL AFFAIRS MANUAL, COMDTINST M5700.13A', 'page': 107, 'issue_date': '2021-05-12T00:00:00Z', 'pdf_id': 'd354afd1-95ea-5489-9df7-3abdd322d73c', 'gcp_file_id': '', 'aux_specific': False, 'page_count': 133, 'expiration_date': '2031-05-13T00:00:00Z'}\n",
      "2025-06-14 10:49:12,979 - WARNING - 🚫 Missing required metadata keys: {'source': './raw_pdfs/CG Public Affairs  CIM_5700_13A_2021-05-01.pdf', 'issue_date': '2021-05-12T00:00:00Z', 'page_count': 133, 'publication_number': 'COMDTINST M5700.13A', 'expiration_date': '2031-05-13T00:00:00Z', 'title': 'COAST GUARD EXTERNAL AFFAIRS MANUAL, COMDTINST M5700.13A', 'upsert_date': '2024-12-18T23:32:06Z', 'scope': 'national', 'unit': '', 'embedding': 'text-embedding-ada-002', 'organization': 'CG-092', 'aux_specific': False, 'pdf_id': 'd354afd1-95ea-5489-9df7-3abdd322d73c', 'gcp_file_id': '', 'public_release': True, 'page': 8}\n",
      "2025-06-14 10:49:12,979 - WARNING - 🚫 Missing required metadata keys: {'organization': 'CG-092', 'expiration_date': '2031-05-13T00:00:00Z', 'upsert_date': '2024-12-18T23:32:06Z', 'page': 128, 'pdf_id': 'd354afd1-95ea-5489-9df7-3abdd322d73c', 'gcp_file_id': '', 'issue_date': '2021-05-12T00:00:00Z', 'page_count': 133, 'scope': 'national', 'unit': '', 'embedding': 'text-embedding-ada-002', 'publication_number': 'COMDTINST M5700.13A', 'aux_specific': False, 'public_release': True, 'source': './raw_pdfs/CG Public Affairs  CIM_5700_13A_2021-05-01.pdf', 'title': 'COAST GUARD EXTERNAL AFFAIRS MANUAL, COMDTINST M5700.13A'}\n",
      "2025-06-14 10:49:13,623 - INFO - HTTP Request: POST https://0c82e035-1105-40f2-a0bd-ecc44a016f15.us-east4-0.gcp.cloud.qdrant.io:6333/collections/ASK_vectorstore/points/scroll \"HTTP/1.1 200 OK\"\n",
      "2025-06-14 10:49:16,376 - INFO - Retrieving all 221 pdf_ids from Qdrant collection.\n",
      "/Users/drew_wilkins/Drews_Files/Drew/Python/Repositories/uscgaux/status_map.py:79: FutureWarning: Downcasting object dtype arrays on .fillna, .ffill, .bfill is deprecated and will change in a future version. Call result.infer_objects(copy=False) instead. To opt-in to the future behavior, set `pd.set_option('future.no_silent_downcasting', True)`\n",
      "  status_df[\"in_drive\"] = status_df[\"in_drive\"].fillna(False).astype(bool)\n",
      "/Users/drew_wilkins/Drews_Files/Drew/Python/Repositories/uscgaux/status_map.py:80: FutureWarning: Downcasting object dtype arrays on .fillna, .ffill, .bfill is deprecated and will change in a future version. Call result.infer_objects(copy=False) instead. To opt-in to the future behavior, set `pd.set_option('future.no_silent_downcasting', True)`\n",
      "  status_df[\"in_qdrant\"] = status_df[\"in_qdrant\"].fillna(False).astype(bool)\n",
      "/Users/drew_wilkins/Drews_Files/Drew/Python/Repositories/uscgaux/status_map.py:177: FutureWarning: The behavior of DataFrame concatenation with empty or all-NA entries is deprecated. In a future version, this will no longer exclude empty or all-NA columns when determining the result dtypes. To retain the old behavior, exclude the relevant entries before the concat operation.\n",
      "  status_df = pd.concat([status_df, pd.DataFrame(orphan_rows)], ignore_index=True)\n"
     ]
    },
    {
     "data": {
      "text/html": [
       "<div>\n",
       "<style scoped>\n",
       "    .dataframe tbody tr th:only-of-type {\n",
       "        vertical-align: middle;\n",
       "    }\n",
       "\n",
       "    .dataframe tbody tr th {\n",
       "        vertical-align: top;\n",
       "    }\n",
       "\n",
       "    .dataframe thead th {\n",
       "        text-align: right;\n",
       "    }\n",
       "</style>\n",
       "<table border=\"1\" class=\"dataframe\">\n",
       "  <thead>\n",
       "    <tr style=\"text-align: right;\">\n",
       "      <th></th>\n",
       "      <th>title</th>\n",
       "      <th>pdf_file_name</th>\n",
       "      <th>issues</th>\n",
       "      <th>missing_pdf_id</th>\n",
       "      <th>missing_gcp_file_id</th>\n",
       "      <th>duplicate_pdf_id</th>\n",
       "      <th>in_sheet</th>\n",
       "      <th>in_drive</th>\n",
       "      <th>file_name</th>\n",
       "      <th>in_qdrant</th>\n",
       "      <th>record_count</th>\n",
       "      <th>page_count</th>\n",
       "      <th>gcp_file_ids</th>\n",
       "      <th>unique_file_count</th>\n",
       "      <th>zero_record_count</th>\n",
       "      <th>file_ids_match</th>\n",
       "      <th>pdf_id</th>\n",
       "      <th>gcp_file_id</th>\n",
       "    </tr>\n",
       "  </thead>\n",
       "  <tbody>\n",
       "    <tr>\n",
       "      <th>0</th>\n",
       "      <td>ALAUX 001/23 EXTENSION TO AUX SOP 004A 04 Sep ...</td>\n",
       "      <td>001_23_EXTENSION_TO_AUX_SOP_004A_04_Sep_20__EL...</td>\n",
       "      <td>[]</td>\n",
       "      <td>False</td>\n",
       "      <td>False</td>\n",
       "      <td>False</td>\n",
       "      <td>True</td>\n",
       "      <td>True</td>\n",
       "      <td>None</td>\n",
       "      <td>True</td>\n",
       "      <td>1</td>\n",
       "      <td>1.0</td>\n",
       "      <td>[1Usl8gU9VM8jX8ODj9EHH_rE4QJuH3tQ5]</td>\n",
       "      <td>1.0</td>\n",
       "      <td>False</td>\n",
       "      <td>True</td>\n",
       "      <td>89328d34-2b70-507e-b7ba-889ee6cf3024</td>\n",
       "      <td>1Usl8gU9VM8jX8ODj9EHH_rE4QJuH3tQ5</td>\n",
       "    </tr>\n",
       "    <tr>\n",
       "      <th>...</th>\n",
       "      <td>...</td>\n",
       "      <td>...</td>\n",
       "      <td>...</td>\n",
       "      <td>...</td>\n",
       "      <td>...</td>\n",
       "      <td>...</td>\n",
       "      <td>...</td>\n",
       "      <td>...</td>\n",
       "      <td>...</td>\n",
       "      <td>...</td>\n",
       "      <td>...</td>\n",
       "      <td>...</td>\n",
       "      <td>...</td>\n",
       "      <td>...</td>\n",
       "      <td>...</td>\n",
       "      <td>...</td>\n",
       "      <td>...</td>\n",
       "      <td>...</td>\n",
       "    </tr>\n",
       "    <tr>\n",
       "      <th>239</th>\n",
       "      <td>NaN</td>\n",
       "      <td>NaN</td>\n",
       "      <td>[Missing in Sheet and Qdrant]</td>\n",
       "      <td>False</td>\n",
       "      <td>False</td>\n",
       "      <td>False</td>\n",
       "      <td>False</td>\n",
       "      <td>True</td>\n",
       "      <td>CG Public Affairs  CIM_5700_13A_2021-05-01.pdf</td>\n",
       "      <td>False</td>\n",
       "      <td>None</td>\n",
       "      <td>NaN</td>\n",
       "      <td>None</td>\n",
       "      <td>NaN</td>\n",
       "      <td>None</td>\n",
       "      <td>None</td>\n",
       "      <td>None</td>\n",
       "      <td>1fl5nHKq3F7UJ-lPvIpybYkzyCvNs-EuW</td>\n",
       "    </tr>\n",
       "  </tbody>\n",
       "</table>\n",
       "</div>"
      ],
      "text/plain": [
       "<IPython.core.display.HTML object>"
      ]
     },
     "metadata": {},
     "output_type": "display_data"
    }
   ],
   "source": [
    "from status_map import build_status_map\n",
    "from IPython.display import display, HTML\n",
    "\n",
    "status_df = build_status_map(drive_client, sheets_client, qdrant_client)\n",
    "if not status_df.empty:\n",
    "    display(HTML(status_df.to_html(notebook=True,\n",
    "            max_cols=30, max_rows=2, escape=False)))\n",
    "else:\n",
    "    print(\"No status information\")"
   ]
  },
  {
   "cell_type": "code",
   "execution_count": 4,
   "id": "5deaf49c",
   "metadata": {},
   "outputs": [],
   "source": [
    "status_df.to_csv(\"tests/status_map.csv\", index=False)"
   ]
  },
  {
   "cell_type": "markdown",
   "id": "5303e1ba",
   "metadata": {},
   "source": [
    "### 4. Test helper functions"
   ]
  },
  {
   "cell_type": "code",
   "execution_count": null,
   "id": "cc2414f0",
   "metadata": {},
   "outputs": [],
   "source": [
    "from gcp_utils import fetch_sheet\n",
    "\n",
    "sheet = fetch_sheet(sheets_client, config[\"LIBRARY_UNIFIED\"])\n",
    "cell_value = sheet.cell(2, 3).value  # Row 2, Column 3\n",
    "print(cell_value)"
   ]
  },
  {
   "cell_type": "code",
   "execution_count": null,
   "id": "17175dde",
   "metadata": {},
   "outputs": [],
   "source": [
    "from library_utils import fetch_rows_by_status, remove_rows\n",
    "from gcp_utils import get_folder_name, fetch_sheet_as_df, file_exists\n",
    "import pandas as pd\n",
    "\n",
    "library_df = fetch_sheet_as_df(sheets_client, config[\"LIBRARY_UNIFIED\"])\n",
    "display(library_df.head())"
   ]
  },
  {
   "cell_type": "code",
   "execution_count": 4,
   "id": "65b0a788",
   "metadata": {},
   "outputs": [
    {
     "name": "stderr",
     "output_type": "stream",
     "text": [
      "2025-06-13 18:36:31,959 - INFO - No .env file found at /Users/drew_wilkins/Drews_Files/Drew/Python/Repositories/.env\n",
      "2025-06-13 18:36:31,959 - INFO - Running in context: streamlit\n",
      "2025-06-13 18:36:31,959 - INFO - Force user authentication: False\n",
      "2025-06-13 18:36:31,959 - INFO - Set balance of env values from Streamlit secrets\n"
     ]
    }
   ],
   "source": [
    "config = env_config()"
   ]
  },
  {
   "cell_type": "code",
   "execution_count": null,
   "id": "bca3df5b",
   "metadata": {},
   "outputs": [],
   "source": [
    "import logging\n",
    "from qdrant_client import QdrantClient\n",
    "from qdrant_client.http import models\n",
    "from typing import Any\n",
    "from library_utils import fetch_sheet_as_df\n",
    "from IPython.display import display, HTML\n",
    "import pandas as pd\n",
    "from env_config import rag_config\n",
    "\n",
    "\n",
    "def update_qdrant_file_ids_for_live_rows(qdrant_client: QdrantClient, sheets_client: Any, collection_name: str) -> pd.DataFrame:\n",
    "    \"\"\"\n",
    "    For each status='live' row in LIBRARY_UNIFIED, update all Qdrant points with that pdf_id\n",
    "    to have the corresponding gcp_file_id in their metadata.\n",
    "\n",
    "    Args:\n",
    "        qdrant_client: QdrantClient instance\n",
    "        sheets_client: Authenticated Google Sheets client\n",
    "        collection_name: Qdrant collection name\n",
    "\n",
    "    Returns:\n",
    "        pd.DataFrame of modified rows from LIBRARY_UNIFIED\n",
    "    \"\"\"\n",
    "    # Load LIBRARY_UNIFIED and filter for status='live'\n",
    "    df = fetch_sheet_as_df(sheets_client, config[\"LIBRARY_UNIFIED\"])\n",
    "    live_df = df[df[\"status\"] == \"live\"].copy()\n",
    "    if live_df.empty:\n",
    "        logging.warning(\"No rows with status='live' found in LIBRARY_UNIFIED.\")\n",
    "        return live_df\n",
    "\n",
    "    updated = []\n",
    "    for _, row in live_df.iterrows():\n",
    "        pdf_id = str(row.get(\"pdf_id\", \"\")).strip()\n",
    "        gcp_file_id = str(row.get(\"gcp_file_id\", \"\")).strip()\n",
    "\n",
    "        if not pdf_id or not gcp_file_id:\n",
    "            continue\n",
    "\n",
    "        filter_condition = models.Filter(\n",
    "            must=[models.FieldCondition(\n",
    "                key=\"metadata.pdf_id\", match=models.MatchValue(value=pdf_id))]\n",
    "        )\n",
    "\n",
    "        scroll_offset = None\n",
    "        while True:\n",
    "            points, scroll_offset = qdrant_client.scroll(\n",
    "                collection_name=collection_name,\n",
    "                scroll_filter=filter_condition,\n",
    "                with_payload=True,\n",
    "                with_vectors=False,\n",
    "                limit=100,\n",
    "                offset=scroll_offset,\n",
    "            )\n",
    "            if not points:\n",
    "                break\n",
    "\n",
    "            for point in points:\n",
    "                point_id = point.id\n",
    "                metadata = point.payload.get(\"metadata\", {})\n",
    "                if metadata.get(\"gcp_file_id\") != gcp_file_id:\n",
    "                    metadata[\"gcp_file_id\"] = gcp_file_id\n",
    "                    qdrant_client.set_payload(\n",
    "                        collection_name=collection_name,\n",
    "                        payload={\"metadata\": metadata},\n",
    "                        points=[point_id],\n",
    "                    )\n",
    "                    updated.append({\n",
    "                        \"pdf_id\": pdf_id,\n",
    "                        \"point_id\": point_id,\n",
    "                        \"new_gcp_file_id\": gcp_file_id\n",
    "                    })\n",
    "\n",
    "            if scroll_offset is None:\n",
    "                break\n",
    "\n",
    "    if updated:\n",
    "        logging.info(\n",
    "            f\"Updated {len(updated)} Qdrant points with correct gcp_file_id.\")\n",
    "    else:\n",
    "        logging.info(\"No updates were necessary.\")\n",
    "\n",
    "    return pd.DataFrame(updated)\n",
    "\n",
    "\n",
    "updated_df = update_qdrant_file_ids_for_live_rows(\n",
    "    qdrant_client, sheets_client, rag_config(\"qdrant_collection_name\"))\n",
    "\n",
    "if not updated_df.empty:\n",
    "    display(HTML(summaries_df.to_html(notebook=True,\n",
    "            max_cols=30, max_rows=10, escape=False)))"
   ]
  },
  {
   "cell_type": "code",
   "execution_count": null,
   "id": "0832db1e",
   "metadata": {},
   "outputs": [],
   "source": []
  }
 ],
 "metadata": {
  "kernelspec": {
   "display_name": ".venv-main",
   "language": "python",
   "name": "python3"
  },
  "language_info": {
   "codemirror_mode": {
    "name": "ipython",
    "version": 3
   },
   "file_extension": ".py",
   "mimetype": "text/x-python",
   "name": "python",
   "nbconvert_exporter": "python",
   "pygments_lexer": "ipython3",
   "version": "3.11.9"
  }
 },
 "nbformat": 4,
 "nbformat_minor": 5
}
