{
 "cells": [
  {
   "cell_type": "markdown",
   "metadata": {},
   "source": [
    "## Create an Excel of unqiue records from Qdrant\n",
    "### To generate the Excel file in this notebook's directory:\n",
    "1. Choose local or cloud\n",
    "2. Select the qdrant collection name \n",
    "3. Click `Run All` in the notebook"
   ]
  },
  {
   "cell_type": "markdown",
   "metadata": {},
   "source": [
    "## 0. Imports and Configs\n"
   ]
  },
  {
   "cell_type": "code",
   "execution_count": 1,
   "metadata": {},
   "outputs": [],
   "source": [
    "import os\n",
    "import library_utils as lib\n",
    "\n",
    "\n",
    "# Config Qdrant``\n",
    "QDRANT_URL = os.getenv(\"QDRANT_URL\")\n",
    "QDRANT_API_KEY = os.getenv(\"QDRANT_API_KEY\")\n",
    "# QDRANT_URL = st.secrets[\"QDRANT_URL\"]\n",
    "# QDRANT_API_KEY = st.secrets[\"QDRANT_API_KEY\"]\n",
    "QDRANT_PATH = \"/Users/drew_wilkins/Drews_Files/Drew/Python/Localcode/Drews_Tools/qdrant_ASK_lib_tools/qdrant_db\"\n",
    "\n",
    "\n",
    "# Configure access to push changes to Github\n",
    "GITHUB_ACCESS_TOKEN_ASK_LIBRARYCATALOG = os.getenv(\n",
    "    \"GITHUB_ACCESS_TOKEN_ASK_LIBRARYCATALOG\")"
   ]
  },
  {
   "cell_type": "markdown",
   "metadata": {},
   "source": []
  },
  {
   "cell_type": "markdown",
   "metadata": {},
   "source": [
    "## 1. Choose Local or Cloud"
   ]
  },
  {
   "cell_type": "code",
   "execution_count": 2,
   "metadata": {},
   "outputs": [
    {
     "name": "stdout",
     "output_type": "stream",
     "text": [
      "Note: you may need to restart the kernel to use updated packages.\n"
     ]
    }
   ],
   "source": [
    "%pip install qdrant_client -q --upgrade"
   ]
  },
  {
   "cell_type": "code",
   "execution_count": 3,
   "metadata": {},
   "outputs": [
    {
     "name": "stdout",
     "output_type": "stream",
     "text": [
      "qdrant location: cloud\n",
      "\n",
      "Available collections:\n",
      "ASK_vectorstore\n",
      "ask_pdf_docs\n",
      "ASK_vectorstore-backup21APR2025\n",
      "ask_pdf_pages\n"
     ]
    }
   ],
   "source": [
    "from qdrant_client import QdrantClient\n",
    "\n",
    "# Your choice of parameters here affects the rest of the notebook.\n",
    "# If you change it here, be sure to click through the rest of the cells\n",
    "# to reset the variables\n",
    "\n",
    "client = QdrantClient(\n",
    "    url=QDRANT_URL,  # for cloud\n",
    "    api_key=QDRANT_API_KEY,  # for cloud\n",
    "    # path=QDRANT_PATH,  # for local\n",
    ")\n",
    "\n",
    "qdrant_location = lib.which_qdrant(client)\n",
    "lib.list_collections(client)"
   ]
  },
  {
   "cell_type": "markdown",
   "metadata": {},
   "source": [
    "## 2. Select the Qdrant collection"
   ]
  },
  {
   "cell_type": "code",
   "execution_count": 4,
   "metadata": {},
   "outputs": [],
   "source": [
    "collection_name = \"ASK_vectorstore\""
   ]
  },
  {
   "cell_type": "markdown",
   "metadata": {},
   "source": [
    "## 3. Create a dictionary of pdfs"
   ]
  },
  {
   "cell_type": "code",
   "execution_count": 5,
   "metadata": {},
   "outputs": [
    {
     "name": "stdout",
     "output_type": "stream",
     "text": [
      "Number of unique records: 222\n",
      "\n",
      "Example Record:\n"
     ]
    },
    {
     "data": {
      "text/plain": [
       "{'publication_number': 'COMDTPUB P3120.17B',\n",
       " 'source': './raw_pdfs/USCG Incident Mgmt Handbook COMDTPUB_P3120.17B_2014-05-01.pdf',\n",
       " 'page_count': 382,\n",
       " 'issue_date': '2014-05-22T00:00:00Z',\n",
       " 'upsert_date': '2024-12-18T23:28:56Z',\n",
       " 'pdf_id': '4cd5a55c-f37b-5c5d-b13d-b34d0a523051',\n",
       " 'aux_specific': False,\n",
       " 'scope': 'national',\n",
       " 'unit': '',\n",
       " 'organization': 'CG-5RI',\n",
       " 'embedding': 'text-embedding-ada-002',\n",
       " 'public_release': True,\n",
       " 'title': 'U.S. Coast Guard Incident Management Handbook: Incident Command System (ICS), COMDTPUB P3120.17B',\n",
       " 'expiration_date': '2024-05-21T00:00:00Z'}"
      ]
     },
     "execution_count": 5,
     "metadata": {},
     "output_type": "execute_result"
    }
   ],
   "source": [
    "def create_unique_docs_list():\n",
    "\n",
    "    all_records = client.scroll(\n",
    "        collection_name=collection_name,\n",
    "        limit=100000,\n",
    "    )\n",
    "\n",
    "    records = all_records[0]\n",
    "\n",
    "    unique_docs_ids = set()\n",
    "    unique_docs_records = []\n",
    "\n",
    "    # Iterate through each record in the records list\n",
    "    for record in records:\n",
    "        pdf_id = record.payload[\"metadata\"][\"pdf_id\"]\n",
    "        record.payload[\"metadata\"].pop(\"page\")\n",
    "\n",
    "        # Skip the record if it has no `pdf_id` or is already processed\n",
    "        if not pdf_id or pdf_id in unique_docs_ids:\n",
    "            continue\n",
    "\n",
    "        # Add the record's `pdf_id` to the set and update the dictionary\n",
    "        unique_docs_ids.add(pdf_id)\n",
    "        unique_docs_records.append(record.payload[\"metadata\"])\n",
    "\n",
    "    return unique_docs_records\n",
    "\n",
    "\n",
    "unique_docs_list = create_unique_docs_list()\n",
    "print(f\"Number of unique records: {len(unique_docs_list)}\\n\")\n",
    "print(\"Example Record:\")\n",
    "unique_docs_list[0]"
   ]
  },
  {
   "cell_type": "markdown",
   "metadata": {},
   "source": [
    "## 4. Format the Dictionary"
   ]
  },
  {
   "cell_type": "code",
   "execution_count": 6,
   "metadata": {},
   "outputs": [
    {
     "data": {
      "application/vnd.microsoft.datawrangler.viewer.v0+json": {
       "columns": [
        {
         "name": "index",
         "rawType": "object",
         "type": "string"
        },
        {
         "name": "0",
         "rawType": "object",
         "type": "unknown"
        }
       ],
       "ref": "67f4f3ee-0f17-4367-b2c9-1eb7b7cd2b38",
       "rows": [
        [
         "title",
         "U.S. Coast Guard Incident Management Handbook: Incident Command System (ICS), COMDTPUB P3120.17B"
        ],
        [
         "publication_number",
         "COMDTPUB P3120.17B"
        ],
        [
         "organization",
         "CG-5RI"
        ],
        [
         "page_count",
         "382.0"
        ],
        [
         "scope",
         "national"
        ],
        [
         "unit",
         ""
        ],
        [
         "issue_date",
         "2014-05-22T00:00:00Z"
        ],
        [
         "expiration_date",
         "2024-05-21T00:00:00Z"
        ],
        [
         "upsert_date",
         "2024-12-18T23:28:56Z"
        ],
        [
         "aux_specific",
         "False"
        ],
        [
         "public_release",
         "True"
        ],
        [
         "pdf_id",
         "4cd5a55c-f37b-5c5d-b13d-b34d0a523051"
        ],
        [
         "embedding",
         "text-embedding-ada-002"
        ],
        [
         "source",
         "./raw_pdfs/USCG Incident Mgmt Handbook COMDTPUB_P3120.17B_2014-05-01.pdf"
        ],
        [
         "pdf_file_name",
         null
        ]
       ],
       "shape": {
        "columns": 1,
        "rows": 15
       }
      },
      "text/plain": [
       "title                 U.S. Coast Guard Incident Management Handbook:...\n",
       "publication_number                                   COMDTPUB P3120.17B\n",
       "organization                                                     CG-5RI\n",
       "page_count                                                        382.0\n",
       "scope                                                          national\n",
       "unit                                                                   \n",
       "issue_date                                         2014-05-22T00:00:00Z\n",
       "expiration_date                                    2024-05-21T00:00:00Z\n",
       "upsert_date                                        2024-12-18T23:28:56Z\n",
       "aux_specific                                                      False\n",
       "public_release                                                     True\n",
       "pdf_id                             4cd5a55c-f37b-5c5d-b13d-b34d0a523051\n",
       "embedding                                        text-embedding-ada-002\n",
       "source                ./raw_pdfs/USCG Incident Mgmt Handbook COMDTPU...\n",
       "pdf_file_name                                                       NaN\n",
       "Name: 0, dtype: object"
      ]
     },
     "execution_count": 6,
     "metadata": {},
     "output_type": "execute_result"
    }
   ],
   "source": [
    "import pandas as pd\n",
    "\n",
    "\n",
    "unique_docs_df = pd.DataFrame(unique_docs_list)\n",
    "\n",
    "column_order = [\n",
    "    \"title\", \"publication_number\", \"organization\", \"page_count\", \"scope\", \"unit\",\n",
    "    \"issue_date\", \"expiration_date\", \"upsert_date\", \"aux_specific\",\n",
    "    \"public_release\", \"pdf_id\", \"embedding\", \"source\"\n",
    "]\n",
    "\n",
    "# Add any missing columns\n",
    "missing_columns = [\n",
    "    col for col in unique_docs_df.columns if col not in column_order]\n",
    "column_order.extend(missing_columns)\n",
    "\n",
    "unique_docs_df = unique_docs_df[column_order]\n",
    "\n",
    "unique_docs_df.iloc[0]"
   ]
  },
  {
   "cell_type": "markdown",
   "metadata": {},
   "source": [
    "## 5. Save as Excel\n",
    "Saves locally. If qdrant cloud was used, it also saves to https://github.com/drew-wks/ASK/tree/main/docs/library_catalog"
   ]
  },
  {
   "cell_type": "code",
   "execution_count": 7,
   "metadata": {},
   "outputs": [],
   "source": [
    "# %pip install PyGithub\n",
    "\n",
    "from github import Github\n",
    "\n",
    "\n",
    "def upload_to_github(file_name, github_token, repo_name, branch):\n",
    "    \"\"\"\n",
    "    Saves file locally, and, uploads the specified file to the ASK app's GitHub repository if the Qdrant location is 'cloud'.\n",
    "    \"\"\"\n",
    "    # Read the file content after it has been created.\n",
    "    with open(file_name, \"rb\") as f:\n",
    "        content = f.read()\n",
    "\n",
    "    branch_file_path = f\"docs/library_catalog/{file_name}\"\n",
    "    commit_message = f\"Update {branch_file_path}\"\n",
    "\n",
    "    g = Github(github_token)\n",
    "    repo = g.get_repo(repo_name)\n",
    "    try:\n",
    "        repo.create_file(branch_file_path, commit_message, content, branch)\n",
    "        print(f\"File '{branch_file_path}' saved to repo '{repo_name}'\")\n",
    "    except Exception as e:\n",
    "        print(f\"Failed to create '{branch_file_path}': {e}\")"
   ]
  },
  {
   "cell_type": "code",
   "execution_count": 8,
   "metadata": {},
   "outputs": [
    {
     "name": "stdout",
     "output_type": "stream",
     "text": [
      "Excel file created: docs_report_qdrant_cloud_2025-04-22T163304Z.xlsx\n",
      "File 'docs/library_catalog/docs_report_qdrant_cloud_2025-04-22T163304Z.xlsx' saved to repo 'drew-wks/ASK'\n",
      "File saved locally as: 'docs_report_qdrant_cloud_2025-04-22T163304Z.xlsx'\n"
     ]
    }
   ],
   "source": [
    "from datetime import datetime, timezone\n",
    "\n",
    "\n",
    "now_utc = datetime.now(timezone.utc)\n",
    "timestamp = now_utc.strftime('%Y-%m-%dT%H%M%SZ')\n",
    "\n",
    "\n",
    "def write_docs_report_xlsx(unique_docs_df):\n",
    "    # Determine file name based on qdrant_location\n",
    "    if qdrant_location == \"cloud\":\n",
    "        file_name = f'docs_report_qdrant_cloud_{timestamp}.xlsx'\n",
    "    elif qdrant_location == \"local\":\n",
    "        file_name = f'docs_report_qdrant_local_{timestamp}.xlsx'\n",
    "    else:\n",
    "        raise ValueError(\"Unexpected qdrant_location value.\")\n",
    "\n",
    "    # First, write the Excel file to disk.\n",
    "    unique_docs_df.to_excel(file_name, index=False)\n",
    "    print(f\"Excel file created: {file_name}\")\n",
    "\n",
    "    # Then, if running in 'cloud' mode, upload the file to GitHub.\n",
    "    if qdrant_location == \"cloud\":\n",
    "        upload_to_github(\n",
    "            file_name, GITHUB_ACCESS_TOKEN_ASK_LIBRARYCATALOG, \"drew-wks/ASK\", \"main\")\n",
    "\n",
    "    return file_name\n",
    "\n",
    "\n",
    "# Example usage:\n",
    "file_name = write_docs_report_xlsx(unique_docs_df)\n",
    "print(f\"File saved locally as: '{file_name}'\")"
   ]
  },
  {
   "cell_type": "markdown",
   "metadata": {},
   "source": [
    "### NOTE: You may need to reboot streamlit so that it recognizes the update."
   ]
  },
  {
   "cell_type": "markdown",
   "metadata": {},
   "source": [
    "### Utility to close Qdrant client"
   ]
  },
  {
   "cell_type": "code",
   "execution_count": 9,
   "metadata": {},
   "outputs": [],
   "source": [
    "lib.close_qdrant(client)"
   ]
  },
  {
   "cell_type": "markdown",
   "metadata": {},
   "source": [
    "### REFERENCES"
   ]
  },
  {
   "cell_type": "markdown",
   "metadata": {},
   "source": [
    "#### How to access diffferent parts of a record\n",
    "\n",
    "```python\n",
    "all_records  # a tuple\n",
    "records = all_records[0]  # records is a list\n",
    "records[0].id  # a string\n",
    "records[0].payload  # a dict\n",
    "records[0].payload[\"metadata\"]  # a dict\n",
    "records[0].payload[\"metadata\"][\"pdf_id\"]  # a string"
   ]
  }
 ],
 "metadata": {
  "kernelspec": {
   "display_name": ".venv-311",
   "language": "python",
   "name": "python3"
  },
  "language_info": {
   "codemirror_mode": {
    "name": "ipython",
    "version": 3
   },
   "file_extension": ".py",
   "mimetype": "text/x-python",
   "name": "python",
   "nbconvert_exporter": "python",
   "pygments_lexer": "ipython3",
   "version": "3.11.9"
  }
 },
 "nbformat": 4,
 "nbformat_minor": 2
}
